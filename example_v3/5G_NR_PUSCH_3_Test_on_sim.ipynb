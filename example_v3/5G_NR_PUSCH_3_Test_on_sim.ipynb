{
  "cells": [
    {
      "cell_type": "code",
      "execution_count": null,
      "metadata": {
        "colab": {
          "base_uri": "https://localhost:8080/"
        },
        "id": "uiswkh5AR5V3",
        "outputId": "07f60711-ea26-4d14-cbe0-7510473cd0a1"
      },
      "outputs": [],
      "source": [
        "\"\"\"Run two below lines to get my_abc module\"\"\"\n",
        "# !git clone https://github.com/thanhttttt/thanh.git\n",
        "# !pip install -r /content/thanh/requirements.txt\n",
        "\"\"\"Run two below lines to drive\"\"\"\n",
        "# from google.colab import drive\n",
        "# drive.mount('/content/drive')"
      ]
    },
    {
      "cell_type": "markdown",
      "metadata": {},
      "source": [
        "# Import"
      ]
    },
    {
      "cell_type": "code",
      "execution_count": null,
      "metadata": {
        "id": "PVBTrEZrR4kL"
      },
      "outputs": [],
      "source": [
        "import os\n",
        "if os.getenv(\"CUDA_VISIBLE_DEVICES\") is None:\n",
        "    gpu_num = 0 # Use \"\" to use the CPU\n",
        "    os.environ[\"CUDA_VISIBLE_DEVICES\"] = f\"{gpu_num}\"\n",
        "os.environ['TF_CPP_MIN_LOG_LEVEL'] = '3'\n",
        "\n",
        "\n",
        "import sys\n",
        "sys.path.append('../')\n",
        "sys.path.append('/content/thanh/')\n",
        "sys.path.append('../thanh/')\n",
        "\n",
        "import sionna\n",
        "\n",
        "import tensorflow as tf\n",
        "gpus = tf.config.list_physical_devices('GPU')\n",
        "if gpus:\n",
        "    try:\n",
        "        tf.config.experimental.set_memory_growth(gpus[0], True)\n",
        "    except RuntimeError as e:\n",
        "        print(e)\n",
        "# Avoid warnings from TensorFlow\n",
        "tf.get_logger().setLevel('ERROR')\n",
        "\n",
        "sionna.config.seed = 42 # Set seed for reproducible random number generation\n",
        "\n",
        "# Load the required Sionna components\n",
        "from sionna.nr.my_abc import *"
      ]
    },
    {
      "cell_type": "markdown",
      "metadata": {},
      "source": [
        "# Load model weight"
      ]
    },
    {
      "cell_type": "code",
      "execution_count": 3,
      "metadata": {},
      "outputs": [
        {
          "name": "stdout",
          "output_type": "stream",
          "text": [
            "Model: \"custom_neural_receiver\"\n",
            "_________________________________________________________________\n",
            " Layer (type)                Output Shape              Param #   \n",
            "=================================================================\n",
            " conv2d (Conv2D)             multiple                  20864     \n",
            "                                                                 \n",
            " residual_block (ResidualBl  multiple                  639232    \n",
            " ock)                                                            \n",
            "                                                                 \n",
            " residual_block_1 (Residual  multiple                  639232    \n",
            " Block)                                                          \n",
            "                                                                 \n",
            " residual_block_2 (Residual  multiple                  639232    \n",
            " Block)                                                          \n",
            "                                                                 \n",
            " residual_block_3 (Residual  multiple                  639232    \n",
            " Block)                                                          \n",
            "                                                                 \n",
            " conv2d_1 (Conv2D)           multiple                  2306      \n",
            "                                                                 \n",
            "=================================================================\n",
            "Total params: 2580098 (9.84 MB)\n",
            "Trainable params: 2580098 (9.84 MB)\n",
            "Non-trainable params: 0 (0.00 Byte)\n",
            "_________________________________________________________________\n",
            "Loaded pretrained weights from ../weight_4RB_UMI_dynamic_config.pkl\n"
          ]
        }
      ],
      "source": [
        "_model = CustomNeuralReceiver(training = False)\n",
        "inputs = tf.zeros([1,48,14,18])\n",
        "_model(inputs)\n",
        "_model.summary()\n",
        "\n",
        "#load_weights(_model, '/content/drive/MyDrive/Pusch_data/Model_weights/model_weight_FULL_RB_epoch_40.pkl')\n",
        "# load_weights(_model, '../model_weight_FULL_RB_epoch_40.pkl')\n",
        "load_weights(_model, '../weight_4RB_UMI_dynamic_config.pkl')"
      ]
    },
    {
      "cell_type": "markdown",
      "metadata": {
        "id": "yfT7Ao7seGqP"
      },
      "source": [
        "# Set up config"
      ]
    },
    {
      "cell_type": "code",
      "execution_count": null,
      "metadata": {},
      "outputs": [],
      "source": [
        "\"\"\"test setup\"\"\"\n",
        "batch_size = 8\n",
        "\n",
        "\"\"\"nrb config setup\"\"\"\n",
        "RB_start = 0\n",
        "NRB = 162\n",
        "PCI = 443\n",
        "RNTI = 40035\n",
        "MCS = 8\n",
        "\n",
        "\"\"\"channel setup\"\"\"\n",
        "no = 2.\n",
        "CDL_model = 'A'\n",
        "delay_spread = 50\n",
        "speed = 1"
      ]
    },
    {
      "cell_type": "markdown",
      "metadata": {},
      "source": [
        "## create channel"
      ]
    },
    {
      "cell_type": "code",
      "execution_count": 7,
      "metadata": {},
      "outputs": [],
      "source": [
        "channel_model = CDL(model = CDL_model,\n",
        "                            delay_spread = delay_spread*1e-9,\n",
        "                            carrier_frequency = CARRIER_FREQUENCY,\n",
        "                            ut_array = Ue_Antenna,\n",
        "                            bs_array = Gnb_AntennaArray,\n",
        "                            direction = 'uplink',\n",
        "                            min_speed = speed,\n",
        "                            max_speed = speed)"
      ]
    },
    {
      "cell_type": "markdown",
      "metadata": {},
      "source": [
        "## create 4RB samples"
      ]
    },
    {
      "cell_type": "code",
      "execution_count": 9,
      "metadata": {},
      "outputs": [],
      "source": [
        "\"\"\"default config is 4RB\"\"\"\n",
        "sysCfg = SystemConfig()\n",
        "ueCfg = UeConfig()\n",
        "myCfg = MyConfig(sysCfg, [ueCfg])\n",
        "puschCfg = MyPUSCHConfig(myCfg)\n",
        "# puschCfg.show() # uncomment for detail"
      ]
    },
    {
      "cell_type": "code",
      "execution_count": 10,
      "metadata": {},
      "outputs": [],
      "source": [
        "simulator = MySimulator(puschCfg)\n",
        "channel = OFDMChannel(channel_model=channel_model, resource_grid=simulator.resource_grid,\n",
        "                                    add_awgn=False, normalize_channel=True, return_channel=True)"
      ]
    },
    {
      "cell_type": "code",
      "execution_count": 11,
      "metadata": {},
      "outputs": [],
      "source": [
        "b, c, y, x ,h = simulator.sim(batch_size, channel, no, return_tx_iq=True, return_channel=True)\n",
        "r = simulator.ref(batch_size)"
      ]
    },
    {
      "cell_type": "markdown",
      "metadata": {},
      "source": [
        "## create N-RB samples"
      ]
    },
    {
      "cell_type": "code",
      "execution_count": 12,
      "metadata": {},
      "outputs": [],
      "source": [
        "sysCfg = SystemConfig(\n",
        "                    NCellId = PCI,\n",
        "                    FrequencyRange = 1,\n",
        "                    BandWidth = 60,\n",
        "                    Numerology = 1,\n",
        "                    CpType = 0,\n",
        "                    NTxAnt = 1,\n",
        "                    NRxAnt = 8,\n",
        "                    BwpNRb = 162,\n",
        "                    BwpRbOffset = 0,\n",
        "                    harqProcFlag = 0,\n",
        "                    nHarqProc = 1,\n",
        "                    rvSeq = 0\n",
        "                )\n",
        "ueCfg = UeConfig(\n",
        "                TransformPrecoding = 0,\n",
        "                Rnti = RNTI,\n",
        "                nId = PCI,\n",
        "                CodeBookBased = 0,\n",
        "                DmrsPortSetIdx = [0],\n",
        "                NLayers = 1,\n",
        "                NumDmrsCdmGroupsWithoutData = 2,\n",
        "                Tpmi = 0,\n",
        "                FirstSymb = 0,\n",
        "                NPuschSymbAll = 14,\n",
        "                RaType = 1,\n",
        "                FirstPrb = RB_start,\n",
        "                NPrb = NRB,\n",
        "                FrequencyHoppingMode = 0,\n",
        "                McsTable = 0,\n",
        "                Mcs = MCS,\n",
        "                ILbrm = 0,\n",
        "                nScId = 0,\n",
        "                NnScIdId = PCI,\n",
        "                DmrsConfigurationType = 0,\n",
        "                DmrsDuration = 1,\n",
        "                DmrsAdditionalPosition = 1,\n",
        "                PuschMappingType = 0,\n",
        "                DmrsTypeAPosition = 3,\n",
        "                HoppingMode = 0,\n",
        "                NRsId = 0,\n",
        "                Ptrs = 0,\n",
        "                ScalingFactor = 0,\n",
        "                OAck = 0,\n",
        "                IHarqAckOffset = 11,\n",
        "                OCsi1 = 0,\n",
        "                ICsi1Offset = 7,\n",
        "                OCsi2 = 0,\n",
        "                ICsi2Offset = 0,\n",
        "                NPrbOh = 0,\n",
        "                nCw = 1,\n",
        "                TpPi2Bpsk = 0\n",
        "            )\n",
        "myCfg = MyConfig(sysCfg, [ueCfg])\n",
        "puschCfg = MyPUSCHConfig(myCfg)\n",
        "# puschCfg.show() # uncomment for detail"
      ]
    },
    {
      "cell_type": "code",
      "execution_count": 13,
      "metadata": {},
      "outputs": [],
      "source": [
        "simulator = MySimulator(puschCfg)\n",
        "channel = OFDMChannel(channel_model=channel_model, resource_grid=simulator.resource_grid,\n",
        "                                    add_awgn=False, normalize_channel=True, return_channel=True)"
      ]
    },
    {
      "cell_type": "code",
      "execution_count": 14,
      "metadata": {},
      "outputs": [],
      "source": [
        "b, c, y, x ,h = simulator.sim(batch_size, channel, no, return_tx_iq=True, return_channel=True)\n",
        "r = simulator.ref(batch_size)"
      ]
    },
    {
      "cell_type": "markdown",
      "metadata": {},
      "source": [
        "# Evaluate"
      ]
    },
    {
      "cell_type": "code",
      "execution_count": 15,
      "metadata": {},
      "outputs": [
        {
          "data": {
            "text/plain": [
              "(<tf.Tensor: shape=(), dtype=float64, numpy=0.003543534856812265>,\n",
              " <tf.Tensor: shape=(8, 1), dtype=bool, numpy=\n",
              " array([[ True],\n",
              "        [ True],\n",
              "        [ True],\n",
              "        [False],\n",
              "        [ True],\n",
              "        [ True],\n",
              "        [ True],\n",
              "        [ True]])>)"
            ]
          },
          "execution_count": 15,
          "metadata": {},
          "output_type": "execute_result"
        }
      ],
      "source": [
        "\"\"\"Evaluate\"\"\"\n",
        "preds = predict(_model, y, r)\n",
        "c_pred = tf.reshape(preds, [preds.shape[0], 1, c.shape[-1]])\n",
        "b_hat, crc = simulator.TB_Decode(c_pred)\n",
        "# loss_cal(c_pred, c)\n",
        "compute_ber(b, b_hat), crc"
      ]
    },
    {
      "cell_type": "code",
      "execution_count": 16,
      "metadata": {},
      "outputs": [
        {
          "data": {
            "text/plain": [
              "(<tf.Tensor: shape=(), dtype=float64, numpy=0.13842385015909747>,\n",
              " <tf.Tensor: shape=(8, 1), dtype=bool, numpy=\n",
              " array([[False],\n",
              "        [False],\n",
              "        [False],\n",
              "        [False],\n",
              "        [False],\n",
              "        [False],\n",
              "        [False],\n",
              "        [False]])>)"
            ]
          },
          "execution_count": 16,
          "metadata": {},
          "output_type": "execute_result"
        }
      ],
      "source": [
        "h_est, x_hat, llr_det, b_hat, crc = simulator.rec(y)\n",
        "compute_ber(b, b_hat), crc"
      ]
    }
  ],
  "metadata": {
    "colab": {
      "provenance": []
    },
    "kernelspec": {
      "display_name": ".venv",
      "language": "python",
      "name": "python3"
    },
    "language_info": {
      "codemirror_mode": {
        "name": "ipython",
        "version": 3
      },
      "file_extension": ".py",
      "mimetype": "text/x-python",
      "name": "python",
      "nbconvert_exporter": "python",
      "pygments_lexer": "ipython3",
      "version": "3.11.9"
    }
  },
  "nbformat": 4,
  "nbformat_minor": 0
}
