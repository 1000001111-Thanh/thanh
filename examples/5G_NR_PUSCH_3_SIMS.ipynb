{
 "cells": [
  {
   "cell_type": "markdown",
   "id": "1e3c39cc",
   "metadata": {
    "id": "1e3c39cc"
   },
   "source": [
    "# Neural Receiver for 5G_PUSCH Systems"
   ]
  },
  {
   "cell_type": "markdown",
   "id": "69d31188",
   "metadata": {
    "id": "69d31188"
   },
   "source": [
    "## GPU Configuration and Imports <a class=\"anchor\" id=\"GPU-Configuration-and-Imports\"></a>"
   ]
  },
  {
   "cell_type": "code",
   "execution_count": 2,
   "id": "QYiZ55UuAl22",
   "metadata": {
    "id": "QYiZ55UuAl22"
   },
   "outputs": [],
   "source": [
    "#!git clone https://github.com/1000001111/thanh.git"
   ]
  },
  {
   "cell_type": "code",
   "execution_count": 3,
   "id": "v4cyjy7jBFqj",
   "metadata": {
    "id": "v4cyjy7jBFqj"
   },
   "outputs": [],
   "source": [
    "#!pip install -r /content/thanh/requirements.txt"
   ]
  },
  {
   "cell_type": "code",
   "execution_count": 4,
   "id": "pTHjHPceBQNJ",
   "metadata": {
    "id": "pTHjHPceBQNJ"
   },
   "outputs": [],
   "source": [
    "#from google.colab import drive\n",
    "#drive.mount('/content/drive')"
   ]
  },
  {
   "cell_type": "code",
   "execution_count": 5,
   "id": "6393b2fe",
   "metadata": {
    "execution": {
     "iopub.execute_input": "2024-09-26T14:51:41.881148Z",
     "iopub.status.busy": "2024-09-26T14:51:41.880894Z",
     "iopub.status.idle": "2024-09-26T14:51:44.498124Z",
     "shell.execute_reply": "2024-09-26T14:51:44.497219Z"
    },
    "executionInfo": {
     "elapsed": 27709,
     "status": "ok",
     "timestamp": 1740379898836,
     "user": {
      "displayName": "Nam Khánh",
      "userId": "17195362204309494329"
     },
     "user_tz": -420
    },
    "id": "6393b2fe"
   },
   "outputs": [],
   "source": [
    "import os\n",
    "if os.getenv(\"CUDA_VISIBLE_DEVICES\") is None:\n",
    "    gpu_num = 0 # Use \"\" to use the CPU\n",
    "    os.environ[\"CUDA_VISIBLE_DEVICES\"] = f\"{gpu_num}\"\n",
    "os.environ['TF_CPP_MIN_LOG_LEVEL'] = '3'\n",
    "\n",
    "\n",
    "import sys\n",
    "sys.path.append('../')\n",
    "import sionna\n",
    "\n",
    "import tensorflow as tf\n",
    "gpus = tf.config.list_physical_devices('GPU')\n",
    "if gpus:\n",
    "    try:\n",
    "        tf.config.experimental.set_memory_growth(gpus[0], True)\n",
    "    except RuntimeError as e:\n",
    "        print(e)\n",
    "# Avoid warnings from TensorFlow\n",
    "tf.get_logger().setLevel('ERROR')\n",
    "\n",
    "sionna.config.seed = 42 # Set seed for reproducible random number generation\n",
    "\n",
    "# Load the required Sionna components\n",
    "from sionna.nr import PUSCHConfig, PUSCHTransmitter, PUSCHReceiver, CarrierConfig, PUSCHDMRSConfig,\\\n",
    "                        TBConfig, PUSCHPilotPattern, TBEncoder, PUSCHPrecoder, LayerMapper, LayerDemapper, check_pusch_configs,\\\n",
    "                        TBDecoder, PUSCHLSChannelEstimator\n",
    "from sionna.nr.utils import generate_prng_seq\n",
    "from sionna.channel import AWGN, RayleighBlockFading, OFDMChannel, TimeChannel, time_lag_discrete_time_channel\n",
    "from sionna.channel.utils import *\n",
    "from sionna.channel.tr38901 import Antenna, AntennaArray, UMi, UMa, RMa, TDL, CDL\n",
    "from sionna.channel import gen_single_sector_topology as gen_topology\n",
    "from sionna.utils import compute_ber, ebnodb2no, sim_ber, array_to_hash, create_timestamped_folders, b2b, f2f, BinarySource\n",
    "from sionna.ofdm import KBestDetector, LinearDetector, MaximumLikelihoodDetector,\\\n",
    "        LSChannelEstimator, LMMSEEqualizer, RemoveNulledSubcarriers, ResourceGridDemapper,\\\n",
    "        ResourceGrid, ResourceGridMapper, OFDMModulator\n",
    "from sionna.mimo import StreamManagement\n",
    "from sionna.mapping import Mapper, Demapper"
   ]
  },
  {
   "cell_type": "code",
   "execution_count": 6,
   "id": "6244a108",
   "metadata": {
    "execution": {
     "iopub.execute_input": "2024-09-26T14:51:44.501712Z",
     "iopub.status.busy": "2024-09-26T14:51:44.501431Z",
     "iopub.status.idle": "2024-09-26T14:51:44.511679Z",
     "shell.execute_reply": "2024-09-26T14:51:44.511010Z"
    },
    "executionInfo": {
     "elapsed": 15,
     "status": "ok",
     "timestamp": 1740379898849,
     "user": {
      "displayName": "Nam Khánh",
      "userId": "17195362204309494329"
     },
     "user_tz": -420
    },
    "id": "6244a108"
   },
   "outputs": [],
   "source": [
    "%matplotlib inline\n",
    "import matplotlib.pyplot as plt\n",
    "import numpy as np\n",
    "import pandas as pd\n",
    "import time\n",
    "from datetime import datetime, timedelta\n",
    "# from bs4 import BeautifulSoup\n",
    "import pickle\n",
    "from collections import namedtuple\n",
    "import json\n",
    "from tqdm import tqdm\n",
    "import itertools\n",
    "import io\n",
    "\n",
    "from tensorflow.keras.layers import Layer, Conv2D, LayerNormalization, SeparableConv2D\n",
    "from tensorflow.nn import relu"
   ]
  },
  {
   "cell_type": "markdown",
   "id": "10b3af73",
   "metadata": {
    "id": "10b3af73"
   },
   "source": [
    "## Simulation Parameters <a class=\"anchor\" id=\"Simulation-Parameters\"></a>"
   ]
  },
  {
   "cell_type": "code",
   "execution_count": 7,
   "id": "Y-Uxb7N9DnJ_",
   "metadata": {
    "executionInfo": {
     "elapsed": 17,
     "status": "ok",
     "timestamp": 1740379898883,
     "user": {
      "displayName": "Nam Khánh",
      "userId": "17195362204309494329"
     },
     "user_tz": -420
    },
    "id": "Y-Uxb7N9DnJ_"
   },
   "outputs": [],
   "source": [
    "class MyPUSCHConfig(PUSCHConfig):\n",
    "    def __init__(self):\n",
    "        super().__init__(\n",
    "            carrier_config=CarrierConfig(\n",
    "                n_cell_id=0,\n",
    "                cyclic_prefix=\"normal\",\n",
    "                subcarrier_spacing=30,\n",
    "                n_size_grid=273,\n",
    "                n_start_grid=0,\n",
    "                slot_number=4,\n",
    "                frame_number=0\n",
    "            ),\n",
    "            pusch_dmrs_config=PUSCHDMRSConfig(\n",
    "                config_type=1,\n",
    "                length=1,\n",
    "                additional_position=1,\n",
    "                dmrs_port_set=[0],\n",
    "                n_id=0,\n",
    "                n_scid=0,\n",
    "                num_cdm_groups_without_data=2,\n",
    "                type_a_position=2\n",
    "            ),\n",
    "            tb_config=TBConfig(\n",
    "                channel_type='PUSCH',\n",
    "                n_id=0,\n",
    "                mcs_table=1,\n",
    "                mcs_index=9\n",
    "            ),\n",
    "            mapping_type='A',\n",
    "            n_size_bwp=273,\n",
    "            n_start_bwp=0,\n",
    "            num_layers=1,\n",
    "            num_antenna_ports=1,\n",
    "            precoding='non-codebook',\n",
    "            tpmi=0,\n",
    "            transform_precoding=False,\n",
    "            n_rnti=2008,\n",
    "            symbol_allocation=[0,14]\n",
    "        )"
   ]
  },
  {
   "cell_type": "code",
   "execution_count": 8,
   "id": "siO0XT0PDn0S",
   "metadata": {
    "executionInfo": {
     "elapsed": 72,
     "status": "ok",
     "timestamp": 1740379937147,
     "user": {
      "displayName": "Nam Khánh",
      "userId": "17195362204309494329"
     },
     "user_tz": -420
    },
    "id": "siO0XT0PDn0S"
   },
   "outputs": [],
   "source": [
    "class ResidualBlock(tf.keras.Model):\n",
    "    r\"\"\"\n",
    "    This Keras layer implements a convolutional residual block made of two convolutional layers with ReLU activation, layer normalization, and a skip connection.\n",
    "    The number of convolutional channels of the input must match the number of kernel of the convolutional layers ``num_conv_channel`` for the skip connection to work.\n",
    "\n",
    "    Input\n",
    "    ------\n",
    "    : [batch size, num time samples, num subcarriers, num_conv_channel], tf.float\n",
    "        Input of the layer\n",
    "\n",
    "    Output\n",
    "    -------\n",
    "    : [batch size, num time samples, num subcarriers, num_conv_channel], tf.float\n",
    "        Output of the layer\n",
    "    \"\"\"\n",
    "\n",
    "    def build(self, input_shape):\n",
    "\n",
    "        # Layer normalization is done over the last three dimensions: time, frequency, conv 'channels'\n",
    "        self._layer_norm_1 = LayerNormalization(axis=(-1, -2, -3))\n",
    "        self._conv_1 = SeparableConv2D(filters= 64,\n",
    "                              kernel_size=[3,3],\n",
    "                              padding='same',\n",
    "                              activation=None)\n",
    "        # Layer normalization is done over the last three dimensions: time, frequency, conv 'channels'\n",
    "        self._layer_norm_2 = LayerNormalization(axis=(-1, -2, -3))\n",
    "        self._conv_2 = SeparableConv2D(filters= 128,\n",
    "                              kernel_size=[3,3],\n",
    "                              padding='same',\n",
    "                              activation=None)\n",
    "\n",
    "    def call(self, inputs):\n",
    "        z = self._layer_norm_1(inputs)\n",
    "        z = relu(z)\n",
    "        z = self._conv_1(z)\n",
    "        z = self._layer_norm_2(z)\n",
    "        z = relu(z)\n",
    "        z = self._conv_2(z) # [batch size, num time samples, num subcarriers, num_channels]\n",
    "        # Skip connection\n",
    "        z = z + inputs\n",
    "\n",
    "        return z\n",
    "\n",
    "class CustomNeuralReceiver(tf.keras.Model):\n",
    "    r\"\"\"\n",
    "    Keras layer implementing a residual convolutional neural receiver.\n",
    "\n",
    "    This neural receiver is fed with the post-DFT received samples, forming a resource grid of size num_of_symbols x fft_size, and computes LLRs on the transmitted coded bits.\n",
    "    These LLRs can then be fed to an outer decoder to reconstruct the information bits.\n",
    "\n",
    "    Input\n",
    "    ------\n",
    "    y_no: [batch size, num ofdm symbols, num subcarriers, 2*num rx antenna + 1], tf.float32\n",
    "        Concatenated received samples and noise variance.\n",
    "(\n",
    "    y : [batch size, num rx antenna, num ofdm symbols, num subcarriers], tf.complex\n",
    "        Received post-DFT samples.\n",
    "\n",
    "    no : [batch size], tf.float32\n",
    "        Noise variance. At training, a different noise variance value is sampled for each batch example.\n",
    ")\n",
    "    Output\n",
    "    -------\n",
    "    : [batch size, num ofdm symbols, num subcarriers, num_bits_per_symbol]\n",
    "        LLRs on the transmitted bits.\n",
    "    \"\"\"\n",
    "\n",
    "    def __init__(self, training = False):\n",
    "        super(CustomNeuralReceiver, self).__init__()\n",
    "        self._training = training\n",
    "\n",
    "    def build(self, input_shape):\n",
    "\n",
    "        # Input convolution\n",
    "        self._input_conv = Conv2D(filters= 128,\n",
    "                                  kernel_size=[3,3],\n",
    "                                  padding='same',\n",
    "                                  activation=None)\n",
    "        # Residual blocks\n",
    "        self._res_block_1 = ResidualBlock()\n",
    "        self._res_block_2 = ResidualBlock()\n",
    "        self._res_block_3 = ResidualBlock()\n",
    "        self._res_block_4 = ResidualBlock()\n",
    "        # Output conv\n",
    "        self._output_conv = Conv2D(filters= 2,    # QPSK\n",
    "                                   kernel_size=[3,3],\n",
    "                                   padding='same',\n",
    "                                   activation=None)\n",
    "        \n",
    "\n",
    "    @tf.function(jit_compile=True)\n",
    "    def call(self, inputs):\n",
    "        # Input conv\n",
    "        z = self._input_conv(inputs)\n",
    "        # Residual blocks\n",
    "        z = self._res_block_1(z)\n",
    "        z = self._res_block_2(z)\n",
    "        z = self._res_block_3(z)\n",
    "        z = self._res_block_4(z)\n",
    "        # Output conv\n",
    "        z = self._output_conv(z)\n",
    "        # if self._training == False:\n",
    "        #     z = tf.cast(z * (2**7), tf.int8)\n",
    "        return z"
   ]
  },
  {
   "cell_type": "markdown",
   "id": "G0LABKch1rTn",
   "metadata": {
    "id": "G0LABKch1rTn"
   },
   "source": [
    "# Init Neural model and load weights"
   ]
  },
  {
   "cell_type": "code",
   "execution_count": 9,
   "id": "b8FPAeC1fJZL",
   "metadata": {
    "colab": {
     "base_uri": "https://localhost:8080/"
    },
    "executionInfo": {
     "elapsed": 11650,
     "status": "ok",
     "timestamp": 1740379954013,
     "user": {
      "displayName": "Nam Khánh",
      "userId": "17195362204309494329"
     },
     "user_tz": -420
    },
    "id": "b8FPAeC1fJZL",
    "outputId": "0b4d5f8a-1a58-4cca-b407-030e2f276413"
   },
   "outputs": [
    {
     "name": "stderr",
     "output_type": "stream",
     "text": [
      "WARNING: All log messages before absl::InitializeLog() is called are written to STDERR\n",
      "I0000 00:00:1741061185.580881   65921 device_compiler.h:186] Compiled cluster using XLA!  This line is logged at most once for the lifetime of the process.\n"
     ]
    },
    {
     "name": "stdout",
     "output_type": "stream",
     "text": [
      "Model: \"custom_neural_receiver\"\n",
      "_________________________________________________________________\n",
      " Layer (type)                Output Shape              Param #   \n",
      "=================================================================\n",
      " conv2d (Conv2D)             multiple                  18560     \n",
      "                                                                 \n",
      " residual_block (ResidualBl  multiple                  17630080  \n",
      " ock)                                                            \n",
      "                                                                 \n",
      " residual_block_1 (Residual  multiple                  17630080  \n",
      " Block)                                                          \n",
      "                                                                 \n",
      " residual_block_2 (Residual  multiple                  17630080  \n",
      " Block)                                                          \n",
      "                                                                 \n",
      " residual_block_3 (Residual  multiple                  17630080  \n",
      " Block)                                                          \n",
      "                                                                 \n",
      " conv2d_1 (Conv2D)           multiple                  2306      \n",
      "                                                                 \n",
      "=================================================================\n",
      "Total params: 70541186 (269.09 MB)\n",
      "Trainable params: 70541186 (269.09 MB)\n",
      "Non-trainable params: 0 (0.00 Byte)\n",
      "_________________________________________________________________\n",
      "Loaded pretrained weights from ../model_weight_FULL_RB_epoch_40.pkl\n"
     ]
    }
   ],
   "source": [
    "_model = CustomNeuralReceiver(training = False)\n",
    "inputs = tf.zeros([1,3276,14,16])\n",
    "_model(inputs)\n",
    "_model.summary()\n",
    "\n",
    "def load_weights(model, pretrained_weights_path):\n",
    "    # Build Model with random input\n",
    "    # Load weights\n",
    "  with open(pretrained_weights_path, 'rb') as f:\n",
    "    weights = pickle.load(f)\n",
    "    model.set_weights(weights)\n",
    "    print(f\"Loaded pretrained weights from {pretrained_weights_path}\")\n",
    "\n",
    "#load_weights(_model, '/content/drive/MyDrive/Pusch_data/Model_weights/model_weight_FULL_RB_epoch_40.pkl')\n",
    "load_weights(_model, '../model_weight_FULL_RB_epoch_40.pkl')\n"
   ]
  },
  {
   "cell_type": "markdown",
   "id": "6775c76e",
   "metadata": {},
   "source": [
    "# Convert model to OpenVino IR"
   ]
  },
  {
   "cell_type": "code",
   "execution_count": 10,
   "id": "5ff18abc",
   "metadata": {},
   "outputs": [
    {
     "name": "stderr",
     "output_type": "stream",
     "text": [
      "<frozen importlib.util>:262: DeprecationWarning: The `openvino.runtime` module is deprecated and will be removed in the 2026.0 release. Please replace `openvino.runtime` with `openvino`.\n"
     ]
    },
    {
     "data": {
      "text/plain": [
       "array([[[[ 0.3939997 , -0.05573409],\n",
       "         [ 0.7757572 , -0.15939957],\n",
       "         [-1.6568781 , -1.097502  ],\n",
       "         ...,\n",
       "         [-1.0393625 , -3.2531435 ],\n",
       "         [ 0.40549448, -0.8001056 ],\n",
       "         [ 0.7092933 , -0.38994855]],\n",
       "\n",
       "        [[-0.64249897, -0.20498112],\n",
       "         [-0.359975  , -0.47925454],\n",
       "         [ 0.4042289 , -2.483864  ],\n",
       "         ...,\n",
       "         [ 1.0422474 , -1.489001  ],\n",
       "         [-0.1686385 ,  0.20393814],\n",
       "         [-0.5961334 , -0.24306473]],\n",
       "\n",
       "        [[ 0.47181806, -0.2825075 ],\n",
       "         [-0.34960198, -0.82458735],\n",
       "         [-1.0223565 ,  2.4616966 ],\n",
       "         ...,\n",
       "         [-0.17546593, -0.86788493],\n",
       "         [-0.95803386,  0.5714627 ],\n",
       "         [-0.87323254,  0.1301469 ]],\n",
       "\n",
       "        ...,\n",
       "\n",
       "        [[-1.1971776 ,  0.22087635],\n",
       "         [ 1.250795  , -0.765727  ],\n",
       "         [-1.6010128 ,  0.53846663],\n",
       "         ...,\n",
       "         [-0.7708834 , -1.4260383 ],\n",
       "         [ 0.5898493 ,  0.9326638 ],\n",
       "         [ 0.15485309, -0.11324564]],\n",
       "\n",
       "        [[ 0.286517  ,  0.12908489],\n",
       "         [ 1.5074826 , -0.5849147 ],\n",
       "         [ 0.616502  , -3.8540413 ],\n",
       "         ...,\n",
       "         [ 0.87224334, -1.8172722 ],\n",
       "         [-0.5937911 , -0.6021914 ],\n",
       "         [ 1.1628393 ,  0.0042695 ]],\n",
       "\n",
       "        [[-0.3166672 , -0.24282266],\n",
       "         [ 0.27787888,  0.6833193 ],\n",
       "         [ 0.89545465, -2.3172278 ],\n",
       "         ...,\n",
       "         [-1.2134948 , -0.10340267],\n",
       "         [ 0.37694004, -0.22376898],\n",
       "         [-0.24210133, -0.23864341]]]], dtype=float32)"
      ]
     },
     "execution_count": 10,
     "metadata": {},
     "output_type": "execute_result"
    }
   ],
   "source": [
    "import openvino as ov\n",
    "\n",
    "#from torchvision.models import resnet50\n",
    "\n",
    "   #model = resnet50(weights='DEFAULT')\n",
    "\n",
    "   # prepare input_data\n",
    "   #input_data = torch.rand(1, 3, 224, 224)\n",
    "\n",
    "ov_model = ov.convert_model(_model, example_input=inputs)\n",
    "\n",
    "   ###### Option 1: Save to OpenVINO IR:\n",
    "\n",
    "   # save model to OpenVINO IR for later use\n",
    "ov.save_model(ov_model, 'model.xml')\n",
    "\n",
    "   ###### Option 2: Compile and infer with OpenVINO:\n",
    "\n",
    "   # compile model\n",
    "compiled_model = ov.compile_model(ov_model)\n",
    "\n",
    "   # run inference\n",
    "result = compiled_model(inputs)\n",
    "result[0]\n"
   ]
  },
  {
   "cell_type": "markdown",
   "id": "ab2caac1",
   "metadata": {},
   "source": [
    "## Ex using model OpenVINI IR"
   ]
  },
  {
   "cell_type": "code",
   "execution_count": 11,
   "id": "504030dd",
   "metadata": {},
   "outputs": [
    {
     "data": {
      "text/plain": [
       "array([[[[ 0.39390624, -0.05596012],\n",
       "         [ 0.77519274, -0.1605895 ],\n",
       "         [-1.6581422 , -1.0985881 ],\n",
       "         ...,\n",
       "         [-1.0374254 , -3.2541742 ],\n",
       "         [ 0.40688255, -0.7985105 ],\n",
       "         [ 0.71148235, -0.39119974]],\n",
       "\n",
       "        [[-0.64054406, -0.20438938],\n",
       "         [-0.3592171 , -0.48143938],\n",
       "         [ 0.40506974, -2.4830797 ],\n",
       "         ...,\n",
       "         [ 1.0431923 , -1.4864529 ],\n",
       "         [-0.16814993,  0.20761655],\n",
       "         [-0.5941537 , -0.24314044]],\n",
       "\n",
       "        [[ 0.47689408, -0.28358778],\n",
       "         [-0.34801844, -0.82276726],\n",
       "         [-1.0285642 ,  2.4609706 ],\n",
       "         ...,\n",
       "         [-0.17467637, -0.86547804],\n",
       "         [-0.9578968 ,  0.57385236],\n",
       "         [-0.8735329 ,  0.13104126]],\n",
       "\n",
       "        ...,\n",
       "\n",
       "        [[-1.1956743 ,  0.22661354],\n",
       "         [ 1.2526906 , -0.76119214],\n",
       "         [-1.6058835 ,  0.5422636 ],\n",
       "         ...,\n",
       "         [-0.77287686, -1.4233642 ],\n",
       "         [ 0.58855057,  0.9331155 ],\n",
       "         [ 0.1559486 , -0.11095528]],\n",
       "\n",
       "        [[ 0.28755563,  0.13233492],\n",
       "         [ 1.5090292 , -0.5852024 ],\n",
       "         [ 0.61991835, -3.8576224 ],\n",
       "         ...,\n",
       "         [ 0.87269086, -1.8166203 ],\n",
       "         [-0.5920604 , -0.6007098 ],\n",
       "         [ 1.1605799 ,  0.00487339]],\n",
       "\n",
       "        [[-0.31589466, -0.24076621],\n",
       "         [ 0.27695936,  0.6862267 ],\n",
       "         [ 0.8993059 , -2.318568  ],\n",
       "         ...,\n",
       "         [-1.2130742 , -0.10290705],\n",
       "         [ 0.37774158, -0.22121203],\n",
       "         [-0.24096805, -0.23881076]]]], dtype=float32)"
      ]
     },
     "execution_count": 11,
     "metadata": {},
     "output_type": "execute_result"
    }
   ],
   "source": [
    "# load TensorFlow model into memory\n",
    "#model = tf.keras.applications.MobileNetV2(weights='imagenet')\n",
    "\n",
    "# compile the model for CPU device\n",
    "core = ov.Core()\n",
    "model_path = \"model.xml\"\n",
    "_compiled_model = core.compile_model(model_path, \"CPU\")\n",
    "\n",
    "# infer the model on random data\n",
    "#data = np.random.rand(1, 224, 224, 3)\n",
    "data = inputs\n",
    "output = _compiled_model({0: data})\n",
    "output[0]"
   ]
  },
  {
   "cell_type": "markdown",
   "id": "cb133cda",
   "metadata": {},
   "source": [
    "# Create End-to-end Simulation Model "
   ]
  },
  {
   "cell_type": "code",
   "execution_count": 28,
   "id": "IpfDB1ovFzW8",
   "metadata": {
    "colab": {
     "base_uri": "https://localhost:8080/"
    },
    "executionInfo": {
     "elapsed": 58,
     "status": "ok",
     "timestamp": 1740379969660,
     "user": {
      "displayName": "Nam Khánh",
      "userId": "17195362204309494329"
     },
     "user_tz": -420
    },
    "id": "IpfDB1ovFzW8",
    "outputId": "e9774654-959f-40ab-e877-f53cbc6c528a"
   },
   "outputs": [
    {
     "name": "stdout",
     "output_type": "stream",
     "text": [
      "XLA can lead to reduced numerical precision. Use with care.\n"
     ]
    }
   ],
   "source": [
    "# We need to enable sionna.config.xla_compat before we can use\n",
    "# tf.function with jit_compile=True.\n",
    "# See https://nvlabs.github.io/sionna/api/config.html#sionna.Config.xla_compat\n",
    "sionna.config.xla_compat=True\n",
    "\n",
    "class Model(tf.keras.Model):\n",
    "    def __init__(self, decoding_scenario, channel_scenario):\n",
    "        super().__init__()\n",
    "\n",
    "        assert decoding_scenario in ['perfect-csi', 'ls-without-prior', 'neural-receiver', 'openvino-model']\n",
    "        self.decoding_scenario = decoding_scenario\n",
    "        channel_scenario = channel_scenario.split('-')\n",
    "        assert len(channel_scenario) == 4\n",
    "        (chnl, ml, ds, spd) = channel_scenario\n",
    "        ds = int(ds)\n",
    "        spd = int(spd)\n",
    "        assert chnl == 'CDL'\n",
    "\n",
    "        self._pusch_config = MyPUSCHConfig()\n",
    "        self._pusch_config.tb.mcs_index = 3\n",
    "\n",
    "\n",
    "        self._tb_size = self._pusch_config.tb_size\n",
    "        self._num_coded_bits = self._pusch_config.num_coded_bits\n",
    "        self._target_coderate = self._pusch_config.tb.target_coderate\n",
    "        self._num_bits_per_symbol = self._pusch_config.tb.num_bits_per_symbol\n",
    "        _num_layers = self._pusch_config.num_layers\n",
    "        _n_rnti = self._pusch_config.n_rnti\n",
    "        _n_id = self._pusch_config.tb.n_id\n",
    "\n",
    "\n",
    "        self._binary_source = BinarySource(dtype=tf.float32)\n",
    "\n",
    "        self._tb_encoder = TBEncoder(\n",
    "                        target_tb_size=self._tb_size,\n",
    "                        num_coded_bits=self._num_coded_bits,\n",
    "                        target_coderate=self._target_coderate,\n",
    "                        num_bits_per_symbol=self._num_bits_per_symbol,\n",
    "                        num_layers=_num_layers,\n",
    "                        n_rnti=_n_rnti,\n",
    "                        n_id=_n_id,\n",
    "                        channel_type=\"PUSCH\", # PUSCHTransmitter\n",
    "                        codeword_index=0, # not supported for PUSCH\n",
    "                        use_scrambler=True,\n",
    "                        verbose=False,\n",
    "                        output_dtype=tf.float32)\n",
    "\n",
    "        self._mapper = Mapper(\"qam\", self._num_bits_per_symbol, dtype=tf.complex64)\n",
    "\n",
    "        self._layer_mapper = LayerMapper(num_layers=_num_layers, dtype=tf.complex64)\n",
    "\n",
    "        _dmrs_length = self._pusch_config.dmrs.length\n",
    "        _dmrs_additional_position = self._pusch_config.dmrs.additional_position\n",
    "        _num_cdm_groups_without_data = self._pusch_config.dmrs.num_cdm_groups_without_data\n",
    "        _n_scid = self._pusch_config.dmrs.n_scid\n",
    "        _n_id_n_scid = self._pusch_config.dmrs.n_id[0]\n",
    "\n",
    "        _pilot_pattern = PUSCHPilotPattern([self._pusch_config],\n",
    "                                                dtype=tf.complex64)\n",
    "        _mu = 1\n",
    "        _num_ofdm_symbols = 14\n",
    "        _fft_size = 4096\n",
    "        _cyclic_prefix_length = 288\n",
    "        _subcarrier_spacing = 30e3\n",
    "        _num_guard_subcarriers = (410, 410)\n",
    "        _num_slots_per_frame = 20\n",
    "\n",
    "        # Define the resource grid.\n",
    "        self._resource_grid = ResourceGrid(\n",
    "            num_ofdm_symbols=_num_ofdm_symbols,\n",
    "            fft_size=_fft_size,\n",
    "            subcarrier_spacing=_subcarrier_spacing,\n",
    "            num_tx=1,\n",
    "            num_streams_per_tx=1,\n",
    "            cyclic_prefix_length=_cyclic_prefix_length,\n",
    "            num_guard_carriers=_num_guard_subcarriers,\n",
    "            dc_null=False,\n",
    "            pilot_pattern=_pilot_pattern,\n",
    "            dtype=tf.complex64\n",
    "        )\n",
    "\n",
    "        self._resource_grid_mapper = ResourceGridMapper(self._resource_grid, dtype=tf.complex64)\n",
    "\n",
    "\n",
    "\n",
    "\n",
    "\n",
    "        self._num_tx = 1\n",
    "        _num_rx = 1\n",
    "        _num_tx_ant = 1\n",
    "        _num_rx_ant = 8\n",
    "        _carrier_frequency = 2.55e9  # Carrier frequency in Hz.\n",
    "        _link_direction = \"uplink\"\n",
    "        _rx_tx_association = np.ones([_num_rx, self._num_tx], bool)\n",
    "        _stream_management = StreamManagement(_rx_tx_association, _num_layers)\n",
    "\n",
    "\n",
    "        if decoding_scenario in ['neural-receiver', 'openvino-model']:\n",
    "            self._model = _model\n",
    "            self.ov_model = _compiled_model\n",
    "        else:\n",
    "            if 'ls-without-prior' == decoding_scenario:\n",
    "                self._channel_estimator = PUSCHLSChannelEstimator(\n",
    "                                self._resource_grid,\n",
    "                                _dmrs_length,\n",
    "                                _dmrs_additional_position,\n",
    "                                _num_cdm_groups_without_data,\n",
    "                                interpolation_type='lin',\n",
    "                                dtype=tf.complex64)\n",
    "\n",
    "            self._mimo_detector = LinearDetector(\"lmmse\", \"bit\", \"maxlog\", self._resource_grid,\n",
    "                                            _stream_management, \"qam\",self. _num_bits_per_symbol, dtype=tf.complex64)\n",
    "\n",
    "\n",
    "        self._layer_demapper = LayerDemapper(self._layer_mapper, num_bits_per_symbol=self._num_bits_per_symbol)\n",
    "        self._tb_decoder = TBDecoder(self._tb_encoder, output_dtype=tf.float32)\n",
    "\n",
    "\n",
    "\n",
    "\n",
    "        # Configure antenna arrays\n",
    "        _ue_antenna = Antenna(polarization=\"single\",\n",
    "                        polarization_type=\"V\",\n",
    "                        antenna_pattern=\"38.901\",\n",
    "                        carrier_frequency=_carrier_frequency)\n",
    "\n",
    "        _gnb_array = AntennaArray(num_rows=1,\n",
    "                                num_cols=_num_rx_ant//2,\n",
    "                                polarization=\"dual\",\n",
    "                                polarization_type=\"cross\",\n",
    "                                antenna_pattern=\"38.901\",\n",
    "                                carrier_frequency=_carrier_frequency)\n",
    "\n",
    "        self._channel_model = CDL(model = ml,\n",
    "                                  delay_spread = ds*1e-9,\n",
    "                                  carrier_frequency = _carrier_frequency,\n",
    "                                  ut_array = _ue_antenna,\n",
    "                                  bs_array = _gnb_array,\n",
    "                                  direction = _link_direction,\n",
    "                                  min_speed = spd,\n",
    "                                  max_speed = spd)\n",
    "\n",
    "        self._channel = OFDMChannel(\n",
    "                            self._channel_model,\n",
    "                            self._resource_grid,\n",
    "                            # normalize_channel=True,\n",
    "                            return_channel=True)\n",
    "\n",
    "    def predict_with_model(self, y, batch_size, num_coded_bits, decoding_scenario):\n",
    "        def prep_y(y):\n",
    "            # c = tf.transpose(tf.reshape(c, [c.shape[0], 12,-1,2]), perm=[0,2,1,3])\n",
    "            y = y[...,410:-410]\n",
    "\n",
    "            # Concat Real and Image of y\n",
    "            y = tf.concat([tf.math.real(y), tf.math.imag(y)], axis=2)\n",
    "            y = y[:,0]\n",
    "            y = tf.transpose(y, perm=[0,3,2,1])\n",
    "            return y\n",
    "\n",
    "        # y.shape, c.shape\n",
    "        y_prep = prep_y(y)\n",
    "        if 'neural-receiver' == decoding_scenario:\n",
    "            pred = self._model(y_prep)\n",
    "        elif 'openvino-model' == decoding_scenario:\n",
    "            pred = self.ov_model({0:y_prep})[0]\n",
    "        pred = tf.concat([pred[...,0:2,:], pred[...,3:11,:], pred[...,12:14,:]],axis=-2)\n",
    "        pred = tf.transpose(pred, perm=[0,2,1,3])\n",
    "        c_pred = tf.reshape(pred, [batch_size,1,1,num_coded_bits])\n",
    "\n",
    "        return c_pred\n",
    "\n",
    "    # def new_topology(self, batch_size):\n",
    "    #     \"\"\"Set new topology\"\"\"\n",
    "    #     topology = gen_topology(batch_size,\n",
    "    #                             self._num_tx,\n",
    "    #                             'umi',\n",
    "    #                             min_ut_velocity=0,\n",
    "    #                             max_ut_velocity=0)\n",
    "\n",
    "    #     self._channel_model.set_topology(*topology)\n",
    "\n",
    "    # @tf.function(jit_compile=True)\n",
    "    def call(self, batch_size, ebno_db):\n",
    "        # self.new_topology(batch_size)\n",
    "\n",
    "\n",
    "\n",
    "        b = self._binary_source([batch_size, self._num_tx, self._tb_size])\n",
    "        c = self._tb_encoder(b)\n",
    "        x_map = self._mapper(c)\n",
    "        x_layer = self._layer_mapper(x_map)\n",
    "        x = self._resource_grid_mapper(x_layer)\n",
    "\n",
    "\n",
    "        no = ebnodb2no(ebno_db,\n",
    "                       self._num_bits_per_symbol,\n",
    "                       self._target_coderate,\n",
    "                       self._resource_grid)\n",
    "        y, h = self._channel([x, no])\n",
    "\n",
    "\n",
    "\n",
    "\n",
    "\n",
    "        if self.decoding_scenario in ['neural-receiver','openvino-model']:\n",
    "            llr_det = self.predict_with_model(y, batch_size, self._num_coded_bits, self.decoding_scenario)\n",
    "        else:\n",
    "            if 'ls-without-prior' == self.decoding_scenario:\n",
    "                no_arg = 0.001\n",
    "                h_hat,err_var = self._channel_estimator([y, no_arg])\n",
    "\n",
    "            elif 'perfect-csi':\n",
    "                h_hat = h[...,410:-410]\n",
    "                no_arg = no\n",
    "                err_var = tf.cast(0, tf.float32)\n",
    "\n",
    "            llr_det = self._mimo_detector([y, h_hat, err_var, no_arg])\n",
    "\n",
    "\n",
    "\n",
    "\n",
    "        llr_layer = self._layer_demapper(llr_det)\n",
    "\n",
    "        # bce = tf.nn.sigmoid_cross_entropy_with_logits(c, llr_layer)\n",
    "        # bce = tf.reduce_mean(bce)\n",
    "\n",
    "\n",
    "\n",
    "        b_hat, tb_crc_status = self._tb_decoder(llr_layer)\n",
    "\n",
    "        return b, b_hat\n",
    "    \n",
    "    def compare(self, batch_size, ebno_db, decoding_scenarios):\n",
    "\n",
    "        b = self._binary_source([batch_size, self._num_tx, self._tb_size])\n",
    "        c = self._tb_encoder(b)\n",
    "        x_map = self._mapper(c)\n",
    "        x_layer = self._layer_mapper(x_map)\n",
    "        x = self._resource_grid_mapper(x_layer)\n",
    "\n",
    "\n",
    "        no = ebnodb2no(ebno_db,\n",
    "                       self._num_bits_per_symbol,\n",
    "                       self._target_coderate,\n",
    "                       self._resource_grid)\n",
    "        y, h = self._channel([x, no])\n",
    "\n",
    "        b_hat_dict = {}\n",
    "        for decoding_scenario in decoding_scenarios:\n",
    "            if decoding_scenario in ['neural-receiver','openvino-model']:\n",
    "                llr_det = self.predict_with_model(y, batch_size, self._num_coded_bits, decoding_scenario)\n",
    "            else:\n",
    "                if 'ls-without-prior' == decoding_scenario:\n",
    "                    no_arg = 0.001\n",
    "                    h_hat,err_var = self._channel_estimator([y, no_arg])\n",
    "\n",
    "                elif 'perfect-csi':\n",
    "                    h_hat = h[...,410:-410]\n",
    "                    no_arg = no\n",
    "                    err_var = tf.cast(0, tf.float32)\n",
    "\n",
    "                llr_det = self._mimo_detector([y, h_hat, err_var, no_arg])\n",
    "\n",
    "            llr_layer = self._layer_demapper(llr_det)\n",
    "            b_hat, tb_crc_status = self._tb_decoder(llr_layer)\n",
    "\n",
    "            b_hat_dict[decoding_scenario] = b_hat\n",
    "            \n",
    "        return b, b_hat_dict"
   ]
  },
  {
   "cell_type": "markdown",
   "id": "d5bba2e2",
   "metadata": {},
   "source": [
    "# Creat and run 1 testcase"
   ]
  },
  {
   "cell_type": "code",
   "execution_count": 29,
   "id": "9a30fc04",
   "metadata": {},
   "outputs": [],
   "source": [
    "e2e = Model('openvino-model', 'CDL-C-150-10')"
   ]
  },
  {
   "cell_type": "code",
   "execution_count": 36,
   "id": "62657513",
   "metadata": {},
   "outputs": [
    {
     "name": "stdout",
     "output_type": "stream",
     "text": [
      "ov: 0.4277 | nn: 0.4254\n",
      "-----------------------\n",
      "ov: 0.4356 | nn: 0.4367\n",
      "-----------------------\n",
      "ov: 0.3736 | nn: 0.3742\n",
      "-----------------------\n",
      "ov: 0.4395 | nn: 0.4444\n",
      "-----------------------\n",
      "ov: 0.4094 | nn: 0.4095\n",
      "-----------------------\n",
      "ov: 0.0001 | nn: 0.0001\n",
      "-----------------------\n",
      "ov: 0.3096 | nn: 0.2998\n",
      "-----------------------\n",
      "ov: 0.3892 | nn: 0.3836\n",
      "-----------------------\n",
      "ov: 0.2897 | nn: 0.2850\n",
      "-----------------------\n",
      "ov: 0.3127 | nn: 0.3186\n",
      "-----------------------\n",
      "ov: 0.3817 | nn: 0.3903\n",
      "-----------------------\n",
      "ov: 0.1082 | nn: 0.1136\n",
      "-----------------------\n",
      "ov: 0.0000 | nn: 0.0000\n",
      "-----------------------\n",
      "ov: 0.0000 | nn: 0.0000\n",
      "-----------------------\n",
      "ov: 0.3872 | nn: 0.3782\n",
      "-----------------------\n",
      "ov: 0.0000 | nn: 0.0000\n",
      "-----------------------\n",
      "ov: 0.0000 | nn: 0.0000\n",
      "-----------------------\n",
      "ov: 0.3638 | nn: 0.3604\n",
      "-----------------------\n",
      "ov: 0.0000 | nn: 0.0000\n",
      "-----------------------\n",
      "ov: 0.0000 | nn: 0.0000\n",
      "-----------------------\n",
      "ov: 0.0000 | nn: 0.0000\n",
      "-----------------------\n",
      "ov: 0.0000 | nn: 0.0000\n",
      "-----------------------\n",
      "ov: 0.1481 | nn: 0.1419\n",
      "-----------------------\n"
     ]
    }
   ],
   "source": [
    "# Assuming e2e and compute_ber are defined elsewhere\n",
    "for ebno_db in np.arange(-17., 6., 1.):\n",
    "    b, b_hat = e2e.compare(batch_size=1, ebno_db=ebno_db, decoding_scenarios=['openvino-model', 'neural-receiver'])\n",
    "    ov_ber = compute_ber(b, b_hat['openvino-model'])\n",
    "    nn_ber = compute_ber(b, b_hat['neural-receiver'])\n",
    "    print(f'ov: {ov_ber:.4f} | nn: {nn_ber:.4f}')\n",
    "    print('-----------------------')\n"
   ]
  },
  {
   "cell_type": "markdown",
   "id": "13914ed7",
   "metadata": {},
   "source": [
    "# Config and run Simulation"
   ]
  },
  {
   "cell_type": "code",
   "execution_count": null,
   "id": "W_BLBAStLWuJ",
   "metadata": {
    "colab": {
     "base_uri": "https://localhost:8080/"
    },
    "id": "W_BLBAStLWuJ",
    "outputId": "135f284f-96d1-4e1c-cc28-20f068f23b64"
   },
   "outputs": [
    {
     "name": "stdout",
     "output_type": "stream",
     "text": [
      "Channel scenario:  CDL-C-150-10\n",
      "Decoding_scenario:  neural-receiver\n",
      "EbNo [dB] |        BER |       BLER |  bit errors |    num bits | block errors |  num blocks | runtime [s] |    status\n",
      "---------------------------------------------------------------------------------------------------------------------------------------\n",
      "    -17.0 | 4.6573e-01 | 1.0000e+00 |     1160310 |     2491392 |          128 |         128 |       511.1 |reached target block errors\n",
      "    -13.0 | 3.7345e-01 | 1.0000e+00 |      145375 |      389280 |           20 |          20 |        80.3 |iter: 4/100\r"
     ]
    }
   ],
   "source": [
    "# Select scenarios for simulation\n",
    "channel_scenarios = ['CDL-C-150-10']  #     Form: [Channel_type(CDL-A/B/C/D/E)-delay_spread(ns)-speed]\n",
    "# decoding_scenarios = ['neural-receiver', 'ls-without-prior', 'perfect-csi']\n",
    "decoding_scenarios = ['neural-receiver', 'openvino-model']\n",
    "\n",
    "\n",
    "\n",
    "# Custom config (ebno range, batch test, num_target_block_errors, max_mc_iter)\n",
    "_PUSCH_SIMS = {\n",
    "    \"channel_scenarios\": channel_scenarios,\n",
    "    \"decoding_scenarios\": decoding_scenarios,\n",
    "    \"bler\" : [],\n",
    "    \"ber\" : [],\n",
    "    \"ebno_dbs\": list(np.arange(-17., 15.1, 4.)),\n",
    "    \"batch_size\": 4,\n",
    "    \"num_target_block_errors\": 128,\n",
    "    \"max_mc_iter\": 100,\n",
    "    \"duration\": 0\n",
    "    }\n",
    "\n",
    "start = time.time()\n",
    "\n",
    "for channel_scenario in _PUSCH_SIMS['channel_scenarios']:\n",
    "    print('Channel scenario: ', channel_scenario)\n",
    "    for decoding_scenario in _PUSCH_SIMS['decoding_scenarios']:\n",
    "        print('Decoding_scenario: ', decoding_scenario)\n",
    "        e2e = Model(decoding_scenario, channel_scenario)\n",
    "        ber, bler = sim_ber(e2e, _PUSCH_SIMS['ebno_dbs'],\n",
    "                            batch_size=_PUSCH_SIMS[\"batch_size\"],\n",
    "                            num_target_block_errors=_PUSCH_SIMS[\"num_target_block_errors\"],\n",
    "                            max_mc_iter=_PUSCH_SIMS[\"max_mc_iter\"])\n",
    "        _PUSCH_SIMS[\"ber\"].append(list(ber.numpy()))\n",
    "        _PUSCH_SIMS[\"bler\"].append(list(bler.numpy()))\n",
    "\n",
    "_PUSCH_SIMS[\"duration\"] = time.time() - start"
   ]
  },
  {
   "cell_type": "markdown",
   "id": "65fe9360",
   "metadata": {},
   "source": [
    "- Save BER array to file"
   ]
  },
  {
   "cell_type": "code",
   "execution_count": null,
   "id": "xsUFbeUFtPZI",
   "metadata": {
    "executionInfo": {
     "elapsed": 93,
     "status": "ok",
     "timestamp": 1740381311987,
     "user": {
      "displayName": "Nam Khánh",
      "userId": "17195362204309494329"
     },
     "user_tz": -420
    },
    "id": "xsUFbeUFtPZI"
   },
   "outputs": [],
   "source": [
    "name = datetime.now().strftime(\"%Y%m%d%H%M%S%f\")\n",
    "sim_dir = f'/content/drive/MyDrive/Pusch_data/Pusch_sims/{name}'\n",
    "os.makedirs(sim_dir,exist_ok=True)\n",
    "with open(f'{sim_dir}/pusch_sims.pkl', 'wb') as file:\n",
    "    pickle.dump(_PUSCH_SIMS, file)"
   ]
  },
  {
   "cell_type": "markdown",
   "id": "09b03c7c",
   "metadata": {},
   "source": [
    "* Load BER array"
   ]
  },
  {
   "cell_type": "code",
   "execution_count": null,
   "id": "gum82VGcqiHq",
   "metadata": {
    "executionInfo": {
     "elapsed": 37,
     "status": "ok",
     "timestamp": 1740381333468,
     "user": {
      "displayName": "Nam Khánh",
      "userId": "17195362204309494329"
     },
     "user_tz": -420
    },
    "id": "gum82VGcqiHq"
   },
   "outputs": [],
   "source": [
    "pre_load_sims = True\n",
    "if pre_load_sims:\n",
    "    with open(f'/content/drive/MyDrive/Pusch_data/Pusch_sims/{name}/pusch_sims.pkl', 'rb') as file:\n",
    "        PUSCH_SIMS = pickle.load(file)\n",
    "else:\n",
    "    PUSCH_SIMS = _PUSCH_SIMS"
   ]
  },
  {
   "cell_type": "markdown",
   "id": "711491f4",
   "metadata": {},
   "source": [
    "- Plot result"
   ]
  },
  {
   "cell_type": "code",
   "execution_count": null,
   "id": "EyXzpSqKqywY",
   "metadata": {
    "colab": {
     "base_uri": "https://localhost:8080/",
     "height": 944
    },
    "executionInfo": {
     "elapsed": 984,
     "status": "ok",
     "timestamp": 1740381335947,
     "user": {
      "displayName": "Nam Khánh",
      "userId": "17195362204309494329"
     },
     "user_tz": -420
    },
    "id": "EyXzpSqKqywY",
    "outputId": "43e1f6bf-fb62-478a-b13b-2bb226aed48f"
   },
   "outputs": [
    {
     "name": "stdout",
     "output_type": "stream",
     "text": [
      "Simulation duration: 0.00 [h]\n"
     ]
    },
    {
     "data": {
      "image/png": "[encoded data removed]",
      "text/plain": [
       "<Figure size 640x480 with 1 Axes>"
      ]
     },
     "metadata": {},
     "output_type": "display_data"
    },
    {
     "data": {
      "image/png": "[encoded data removed]",
      "text/plain": [
       "<Figure size 640x480 with 1 Axes>"
      ]
     },
     "metadata": {},
     "output_type": "display_data"
    }
   ],
   "source": [
    "print(\"Simulation duration: {:1.2f} [h]\".format(PUSCH_SIMS[\"duration\"]/3600))\n",
    "for j, channel in enumerate(PUSCH_SIMS['channel_scenarios']):\n",
    "    plt.figure()\n",
    "    plt.title(f\"5G NR PUSCH over {channel}\")\n",
    "    plt.xlabel(\"SNR (dB)\")\n",
    "    plt.ylabel(\"BLER\")\n",
    "    plt.grid(which=\"both\")\n",
    "    plt.xlim([PUSCH_SIMS['ebno_dbs'][0], PUSCH_SIMS['ebno_dbs'][-1]])\n",
    "    plt.ylim([1e-5, 1.0])\n",
    "\n",
    "    legend = []\n",
    "    for i, decoding_scenario in enumerate(PUSCH_SIMS['decoding_scenarios']):\n",
    "        plt.semilogy(PUSCH_SIMS['ebno_dbs'], PUSCH_SIMS[\"bler\"][j * len(PUSCH_SIMS['decoding_scenarios']) + i], label=decoding_scenario)\n",
    "\n",
    "    plt.legend()\n",
    "    plt.show()"
   ]
  }
 ],
 "metadata": {
  "accelerator": "GPU",
  "colab": {
   "gpuType": "T4",
   "provenance": []
  },
  "kernelspec": {
   "display_name": ".venv",
   "language": "python",
   "name": "python3"
  },
  "language_info": {
   "codemirror_mode": {
    "name": "ipython",
    "version": 3
   },
   "file_extension": ".py",
   "mimetype": "text/x-python",
   "name": "python",
   "nbconvert_exporter": "python",
   "pygments_lexer": "ipython3",
   "version": "3.11.9"
  }
 },
 "nbformat": 4,
 "nbformat_minor": 5
}
