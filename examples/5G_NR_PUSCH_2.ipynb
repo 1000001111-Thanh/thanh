{
 "cells": [
  {
   "cell_type": "markdown",
   "id": "d021b529",
   "metadata": {},
   "source": [
    "# 5G NR PUSCH Tutorial\n",
    "\n",
    "This notebook provides an introduction to Sionna's [5G New Radio (NR) module](https://nvlabs.github.io/sionna/api/nr.html) and, in particular, the [physical uplink shared channel (PUSCH)](https://nvlabs.github.io/sionna/api/nr.html#pusch). This module provides implementations of a small subset of the physical layer functionalities as described in the 3GPP specifications [38.211](https://portal.3gpp.org/desktopmodules/Specifications/SpecificationDetails.aspx?specificationId=3213), [38.212](https://portal.3gpp.org/desktopmodules/Specifications/SpecificationDetails.aspx?specificationId=3214) and [38.214](https://portal.3gpp.org/desktopmodules/Specifications/SpecificationDetails.aspx?specificationId=3216). \n",
    "\n",
    "\n",
    "You will\n",
    "\n",
    "- Get an understanding of the different components of a PUSCH configuration, such as the carrier, DMRS, and transport block,\n",
    "- Learn how to rapidly simulate PUSCH transmissions for multiple transmitters,\n",
    "- Modify the PUSCHReceiver to use a custom MIMO Detector.\n",
    "\n",
    "## Table of Contents\n",
    "* [GPU Configuration and Imports](#GPU-Configuration-and-Imports)\n",
    "* [A \"Hello World!\" Example](#A-Hello-World-Example)\n",
    "* [Carrier Configuration](#Carrier-Configuration)\n",
    "* [Understanding the DMRS Configuration](#Understanding-the-DMRS-Configuration)\n",
    "    * [Configuring Multiple Layers](#Configuring-Multiple-Layers)\n",
    "    * [Controlling the Number of DMRS Symbols in a Slot](#Controlling-the-Number-of-DMRS-Symbols-in-a-Slot)\n",
    "    * [How to control the number of available DMRS ports?](#How-to-control-the-number-of-available-DMRS-ports?)\n",
    "* [Transport Blocks and MCS](#Transport-Blocks-and-MCS)\n",
    "* [Looking into the PUSCHTransmitter](#Looking-into-the-PUSCHTransmitter)\n",
    "* [Components of the PUSCHReceiver](#Components-of-the-PUSCHReceiver)\n",
    "* [End-to-end PUSCH Simulations](#End-to-end-PUSCH-Simulations)\n"
   ]
  },
  {
   "cell_type": "markdown",
   "id": "e3174011",
   "metadata": {
    "tags": []
   },
   "source": [
    "## GPU Configuration and Imports"
   ]
  },
  {
   "cell_type": "code",
   "execution_count": 13,
   "id": "ea40a820-e6b6-4fa6-9eed-0a2eea001498",
   "metadata": {
    "execution": {
     "iopub.execute_input": "2024-09-26T15:42:26.278222Z",
     "iopub.status.busy": "2024-09-26T15:42:26.278038Z",
     "iopub.status.idle": "2024-09-26T15:42:28.860958Z",
     "shell.execute_reply": "2024-09-26T15:42:28.860378Z"
    }
   },
   "outputs": [],
   "source": [
    "import os\n",
    "if os.getenv(\"CUDA_VISIBLE_DEVICES\") is None:\n",
    "    gpu_num = 0 # Use \"\" to use the CPU\n",
    "    os.environ[\"CUDA_VISIBLE_DEVICES\"] = f\"{gpu_num}\"\n",
    "os.environ['TF_CPP_MIN_LOG_LEVEL'] = '3'\n",
    "# tahtan\n",
    "# Import Sionna\n",
    "import sys\n",
    "sys.path.append('../')\n",
    "import sionna\n",
    "\n",
    "# try:\n",
    "#     import sionna\n",
    "# except ImportError as e:\n",
    "#     # Install Sionna if package is not already installed\n",
    "#     import os\n",
    "#     os.system(\"pip install sionna\")\n",
    "#     import sionna\n",
    "\n",
    "import tensorflow as tf\n",
    "# Configure the notebook to use only a single GPU and allocate only as much memory as needed\n",
    "# For more details, see https://www.tensorflow.org/guide/gpu\n",
    "gpus = tf.config.list_physical_devices('GPU')\n",
    "if gpus:\n",
    "    try:\n",
    "        tf.config.experimental.set_memory_growth(gpus[0], True)\n",
    "    except RuntimeError as e:\n",
    "        print(e)\n",
    "# Avoid warnings from TensorFlow\n",
    "tf.get_logger().setLevel('ERROR')\n",
    "\n",
    "sionna.config.seed = 42 # Set seed for reproducible results\n",
    "\n",
    "# Load the required Sionna components\n",
    "from sionna.nr import PUSCHConfig, PUSCHTransmitter, PUSCHReceiver, CarrierConfig, PUSCHDMRSConfig, TBConfig\n",
    "from sionna.nr.utils import generate_prng_seq\n",
    "from sionna.channel import AWGN, RayleighBlockFading, OFDMChannel, TimeChannel, time_lag_discrete_time_channel\n",
    "from sionna.channel.utils import * \n",
    "from sionna.channel.tr38901 import Antenna, AntennaArray, UMi, UMa, RMa, TDL, CDL\n",
    "from sionna.channel import gen_single_sector_topology as gen_topology\n",
    "from sionna.utils import compute_ber, ebnodb2no, sim_ber, array_to_hash, create_timestamped_folders, b2b, f2f\n",
    "from sionna.ofdm import KBestDetector, LinearDetector, ResourceGrid, MaximumLikelihoodDetector\n",
    "from sionna.mimo import StreamManagement\n"
   ]
  },
  {
   "cell_type": "code",
   "execution_count": 2,
   "id": "376e6700",
   "metadata": {
    "execution": {
     "iopub.execute_input": "2024-09-26T15:42:28.864569Z",
     "iopub.status.busy": "2024-09-26T15:42:28.864310Z",
     "iopub.status.idle": "2024-09-26T15:42:28.871785Z",
     "shell.execute_reply": "2024-09-26T15:42:28.871431Z"
    }
   },
   "outputs": [],
   "source": [
    "%matplotlib inline\n",
    "import matplotlib.pyplot as plt\n",
    "import numpy as np\n",
    "import time\n",
    "from datetime import datetime, timedelta\n",
    "from bs4 import BeautifulSoup\n",
    "import json"
   ]
  },
  {
   "cell_type": "markdown",
   "id": "74cdcae8",
   "metadata": {
    "tags": []
   },
   "source": [
    "## A Hello World Example"
   ]
  },
  {
   "cell_type": "markdown",
   "id": "70cfc8d3",
   "metadata": {},
   "source": [
    "Let us start with a simple \"Hello, World!\" example in which we will simulate PUSCH transmissions from a single transmitter to a single receiver over an AWGN channel."
   ]
  },
  {
   "cell_type": "code",
   "execution_count": 22,
   "id": "12024222",
   "metadata": {},
   "outputs": [],
   "source": [
    "class MyPUSCHConfig(PUSCHConfig):\n",
    "    def __init__(self):\n",
    "        super().__init__(\n",
    "            carrier_config=CarrierConfig(\n",
    "                n_cell_id=500,\n",
    "                cyclic_prefix=\"normal\",\n",
    "                subcarrier_spacing=30,\n",
    "                n_size_grid=273,\n",
    "                n_start_grid=0,\n",
    "                slot_number=4,\n",
    "                frame_number=0\n",
    "            ),\n",
    "            pusch_dmrs_config=PUSCHDMRSConfig(\n",
    "                config_type=1,\n",
    "                length=1,\n",
    "                additional_position=1,\n",
    "                dmrs_port_set=[0],\n",
    "                n_id=0,\n",
    "                n_scid=0,\n",
    "                num_cdm_groups_without_data=2,\n",
    "                type_a_position=2\n",
    "            ),\n",
    "            tb_config=TBConfig(\n",
    "                channel_type='PUSCH',\n",
    "                n_id=20,\n",
    "                mcs_table=1,\n",
    "                mcs_index=0\n",
    "            ),\n",
    "            mapping_type='A',\n",
    "            n_size_bwp=104,\n",
    "            n_start_bwp=0,\n",
    "            num_layers=1,\n",
    "            num_antenna_ports=1,\n",
    "            precoding='non-codebook',\n",
    "            tpmi=0,\n",
    "            transform_precoding=False,\n",
    "            n_rnti=2001,\n",
    "            symbol_allocation=[0,14]\n",
    "        )"
   ]
  },
  {
   "cell_type": "code",
   "execution_count": null,
   "id": "726ccf12",
   "metadata": {
    "execution": {
     "iopub.execute_input": "2024-09-26T15:42:28.874457Z",
     "iopub.status.busy": "2024-09-26T15:42:28.874306Z",
     "iopub.status.idle": "2024-09-26T15:42:34.398636Z",
     "shell.execute_reply": "2024-09-26T15:42:34.397982Z"
    }
   },
   "outputs": [
    {
     "name": "stdout",
     "output_type": "stream",
     "text": [
      "BER: 0.0\n"
     ]
    }
   ],
   "source": [
    "# Create a PUSCH configuration with default settings\n",
    "pusch_config = PUSCHConfig()\n",
    "\n",
    "pusch_config.mapping_type = 'A'\n",
    "pusch_config.n_size_bwp = 104\n",
    "pusch_config.n_start_bwp = 0\n",
    "pusch_config.num_layers = 1\n",
    "pusch_config.num_antenna_ports = 1\n",
    "pusch_config.precoding = 'non-codebook'\n",
    "pusch_config.tpmi = 0\n",
    "pusch_config.transform_precoding = False\n",
    "pusch_config.n_rnti = 2001\n",
    "pusch_config.symbol_allocation = [0,14]\n",
    "\n",
    "pusch_config.carrier.n_cell_id = 500\n",
    "pusch_config.carrier.cyclic_prefix = \"normal\"\n",
    "pusch_config.carrier.subcarrier_spacing = 30\n",
    "pusch_config.carrier.n_size_grid = 273\n",
    "pusch_config.carrier.n_start_grid = 0\n",
    "pusch_config.carrier.slot_number = 4\n",
    "pusch_config.carrier.frame_number = 0\n",
    "\n",
    "pusch_config.dmrs.config_type = 1\n",
    "pusch_config.dmrs.length = 1\n",
    "pusch_config.dmrs.additional_position = 1\n",
    "pusch_config.dmrs.dmrs_port_set = [0]\n",
    "pusch_config.dmrs.n_id = 0\n",
    "pusch_config.dmrs.n_scid = 0\n",
    "pusch_config.dmrs.num_cdm_groups_without_data = 2\n",
    "pusch_config.dmrs.type_a_position = 2\n",
    "\n",
    "pusch_config.tb.channel_type = 'PUSCH'\n",
    "pusch_config.tb.n_id = 20\n",
    "pusch_config.tb.mcs_table = 1\n",
    "pusch_config.tb.mcs_index = 9\n",
    "\n",
    "\n",
    "# Instantiate a PUSCHTransmitter from the PUSCHConfig\n",
    "pusch_transmitter = PUSCHTransmitter(pusch_config)\n",
    "\n",
    "# Create a PUSCHReceiver using the PUSCHTransmitter\n",
    "pusch_receiver = PUSCHReceiver(pusch_transmitter)\n",
    "\n",
    "# AWGN channel\n",
    "channel = AWGN()\n",
    "\n",
    "# Simulate transmissions over the AWGN channel\n",
    "batch_size = 16\n",
    "no = 0.1 # Noise variance\n",
    "\n",
    "x, b = pusch_transmitter(batch_size) # Generate transmit signal and info bits\n",
    "\n",
    "y = channel([x, no]) # Simulate channel output\n",
    "\n",
    "b_hat = pusch_receiver([y, no]) # Recover the info bits\n",
    "\n",
    "# Compute BER\n",
    "print(\"BER:\", compute_ber(b, b_hat).numpy())"
   ]
  },
  {
   "cell_type": "markdown",
   "id": "4e34c2f8",
   "metadata": {},
   "source": [
    "Although the above code snippet seems rather simple, you have actually carried out standard-compliant simulations of the NR PUSCH!\n",
    "\n",
    "To better understand what is actually going on under the hood, we can inspect the OFDM resource grid that is generated by the transmitter with the following command:"
   ]
  },
  {
   "cell_type": "code",
   "execution_count": 4,
   "id": "71e70335",
   "metadata": {
    "execution": {
     "iopub.execute_input": "2024-09-26T15:42:34.401576Z",
     "iopub.status.busy": "2024-09-26T15:42:34.401407Z",
     "iopub.status.idle": "2024-09-26T15:42:34.562308Z",
     "shell.execute_reply": "2024-09-26T15:42:34.561732Z"
    }
   },
   "outputs": [
    {
     "data": {
      "image/png": "[encoded data removed]",
      "text/plain": [
       "<Figure size 640x480 with 2 Axes>"
      ]
     },
     "metadata": {},
     "output_type": "display_data"
    }
   ],
   "source": [
    "pusch_transmitter.resource_grid.show();"
   ]
  },
  {
   "cell_type": "markdown",
   "id": "812933e2",
   "metadata": {},
   "source": [
    "The above figure tells us that we are simulating a slot of 14 OFDM symbols spanning 48 subcarriers, which correspond to four physical resource blocks (PRBs) in 5G terminology. The third OFDM symbol is reserved for pilot transmissions, so-called demodulation reference signals (DMRS), and the rest is used for data. "
   ]
  },
  {
   "cell_type": "markdown",
   "id": "3bad481f",
   "metadata": {},
   "source": [
    "## Carrier Configuration\n",
    "\n",
    "When you create a PUSCHConfig instance, it automatically creates a CarrierConfig instance with default settings.\n",
    "You can inspect this configuration with the following command:"
   ]
  },
  {
   "cell_type": "code",
   "execution_count": 5,
   "id": "7c010bd8",
   "metadata": {
    "execution": {
     "iopub.execute_input": "2024-09-26T15:42:34.565146Z",
     "iopub.status.busy": "2024-09-26T15:42:34.564983Z",
     "iopub.status.idle": "2024-09-26T15:42:34.568429Z",
     "shell.execute_reply": "2024-09-26T15:42:34.567897Z"
    }
   },
   "outputs": [
    {
     "name": "stdout",
     "output_type": "stream",
     "text": [
      "Carrier Configuration\n",
      "=====================\n",
      "cyclic_prefix : normal\n",
      "cyclic_prefix_length : 2.3437500000000002e-06\n",
      "frame_duration : 0.01\n",
      "frame_number : 0\n",
      "kappa : 64.0\n",
      "mu : 1\n",
      "n_cell_id : 500\n",
      "n_size_grid : 273\n",
      "n_start_grid : 0\n",
      "num_slots_per_frame : 20\n",
      "num_slots_per_subframe : 2\n",
      "num_symbols_per_slot : 14\n",
      "slot_number : 4\n",
      "sub_frame_duration : 0.001\n",
      "subcarrier_spacing : 30\n",
      "t_c : 5.086263020833334e-10\n",
      "t_s : 3.2552083333333335e-08\n",
      "\n"
     ]
    }
   ],
   "source": [
    "pusch_config.carrier.show()"
   ]
  },
  {
   "cell_type": "markdown",
   "id": "390851a7",
   "metadata": {},
   "source": [
    "## Understanding the DMRS Configuration\n",
    "\n",
    "We can learn more about the structure of the resoure grid by having a look at the pilot pattern in the next section."
   ]
  },
  {
   "cell_type": "code",
   "execution_count": 6,
   "id": "541d253b",
   "metadata": {
    "execution": {
     "iopub.execute_input": "2024-09-26T15:42:34.582090Z",
     "iopub.status.busy": "2024-09-26T15:42:34.581943Z",
     "iopub.status.idle": "2024-09-26T15:42:34.749721Z",
     "shell.execute_reply": "2024-09-26T15:42:34.749189Z"
    }
   },
   "outputs": [
    {
     "data": {
      "image/png": "[encoded data removed]",
      "text/plain": [
       "<Figure size 640x480 with 2 Axes>"
      ]
     },
     "metadata": {},
     "output_type": "display_data"
    }
   ],
   "source": [
    "pusch_transmitter.pilot_pattern.show();"
   ]
  },
  {
   "cell_type": "markdown",
   "id": "96a9afc5",
   "metadata": {},
   "source": [
    "From the figure above, we can see that there is a single transmitter sending a single stream (or so-called layer).\n",
    "DMRS are only sent on even subcarriers while odd subcarriers are masked, i.e., blocked for data transmission.\n",
    "This corresponds to the DMRS Configuration Type 1 with the parameter `NumCDMGroupsWithoutData` set to 2. We will explain what that means later.\n",
    "\n",
    "In 5G NR, one can configure many different pilot patterns to adapt to different channel conditions and to allow for spatial multiplexing of up to twelve layers. Each transmitted layer is identified by a DMRS port, i.e., a distinct pilot pattern. In our running example, the transmitter uses the DMRS port 0.\n",
    "\n",
    "With the current PUSCH configuration, four different DMRS ports 0,1,2,3 are available.\n",
    "This can be verified with the following command:"
   ]
  },
  {
   "cell_type": "code",
   "execution_count": 7,
   "id": "8310da11",
   "metadata": {
    "execution": {
     "iopub.execute_input": "2024-09-26T15:42:34.752408Z",
     "iopub.status.busy": "2024-09-26T15:42:34.752266Z",
     "iopub.status.idle": "2024-09-26T15:42:34.755793Z",
     "shell.execute_reply": "2024-09-26T15:42:34.755349Z"
    }
   },
   "outputs": [
    {
     "data": {
      "text/plain": [
       "[0, 1, 2, 3]"
      ]
     },
     "execution_count": 7,
     "metadata": {},
     "output_type": "execute_result"
    }
   ],
   "source": [
    "pusch_config.dmrs.allowed_dmrs_ports"
   ]
  },
  {
   "cell_type": "code",
   "execution_count": 8,
   "id": "5fc7d3ef",
   "metadata": {},
   "outputs": [
    {
     "name": "stdout",
     "output_type": "stream",
     "text": [
      "PUSCH DMRS Configuration\n",
      "========================\n",
      "additional_position : 1\n",
      "allowed_dmrs_ports : [0, 1, 2, 3]\n",
      "beta : 1.4142135623730951\n",
      "cdm_groups : [0]\n",
      "config_type : 1\n",
      "deltas : [0]\n",
      "dmrs_port_set : [0]\n",
      "length : 1\n",
      "n_id : [0, 0]\n",
      "n_scid : 0\n",
      "num_cdm_groups_without_data : 2\n",
      "type_a_position : 2\n",
      "w_f : [[1]\n",
      " [1]]\n",
      "w_t : [[1]\n",
      " [1]]\n",
      "\n"
     ]
    }
   ],
   "source": [
    "pusch_config.dmrs.show()"
   ]
  },
  {
   "cell_type": "code",
   "execution_count": 9,
   "id": "ed8d9f40",
   "metadata": {},
   "outputs": [
    {
     "name": "stdout",
     "output_type": "stream",
     "text": [
      "Carrier Configuration\n",
      "=====================\n",
      "cyclic_prefix : normal\n",
      "cyclic_prefix_length : 2.3437500000000002e-06\n",
      "frame_duration : 0.01\n",
      "frame_number : 0\n",
      "kappa : 64.0\n",
      "mu : 1\n",
      "n_cell_id : 500\n",
      "n_size_grid : 273\n",
      "n_start_grid : 0\n",
      "num_slots_per_frame : 20\n",
      "num_slots_per_subframe : 2\n",
      "num_symbols_per_slot : 14\n",
      "slot_number : 4\n",
      "sub_frame_duration : 0.001\n",
      "subcarrier_spacing : 30\n",
      "t_c : 5.086263020833334e-10\n",
      "t_s : 3.2552083333333335e-08\n",
      "\n",
      "PUSCH Configuration\n",
      "===================\n",
      "dmrs_grid : shape (1, 48, 14)\n",
      "dmrs_grid_precoded : shape ()\n",
      "dmrs_mask : shape (48, 14)\n",
      "dmrs_symbol_indices : [2, 11]\n",
      "frequency_hopping : neither\n",
      "l : [2, 11]\n",
      "l_0 : 2\n",
      "l_bar : [2, 11]\n",
      "l_d : 14\n",
      "l_prime : [0]\n",
      "l_ref : 0\n",
      "mapping_type : A\n",
      "n : shape (12,)\n",
      "n_rnti : 2001\n",
      "n_size_bwp : 4\n",
      "n_start_bwp : 0\n",
      "num_antenna_ports : 1\n",
      "num_coded_bits : 1152\n",
      "num_layers : 1\n",
      "num_ov : 0\n",
      "num_res_per_prb : 144\n",
      "num_resource_blocks : 4\n",
      "num_subcarriers : 48\n",
      "precoding : non-codebook\n",
      "precoding_matrix : None\n",
      "symbol_allocation : [0, 14]\n",
      "tb_size : 224\n",
      "tpmi : 0\n",
      "transform_precoding : False\n",
      "\n",
      "PUSCH DMRS Configuration\n",
      "========================\n",
      "additional_position : 1\n",
      "allowed_dmrs_ports : [0, 1, 2, 3]\n",
      "beta : 1.4142135623730951\n",
      "cdm_groups : [0]\n",
      "config_type : 1\n",
      "deltas : [0]\n",
      "dmrs_port_set : [0]\n",
      "length : 1\n",
      "n_id : [0, 0]\n",
      "n_scid : 0\n",
      "num_cdm_groups_without_data : 2\n",
      "type_a_position : 2\n",
      "w_f : [[1]\n",
      " [1]]\n",
      "w_t : [[1]\n",
      " [1]]\n",
      "\n",
      "Transport Block Configuration\n",
      "=============================\n",
      "channel_type : PUSCH\n",
      "mcs_index : 2\n",
      "mcs_table : 1\n",
      "n_id : 20\n",
      "num_bits_per_symbol : 2\n",
      "target_coderate : 0.1884765625\n",
      "tb_scaling : 1.0\n",
      "\n"
     ]
    }
   ],
   "source": [
    "pusch_config.show()"
   ]
  },
  {
   "cell_type": "markdown",
   "id": "ddc22dc4",
   "metadata": {},
   "source": [
    "## Transport Blocks and MCS\n",
    "\n",
    "The modulation and coding scheme (MCS) is set in 5G NR via the MCS index and MCS table which are properties of transport block configuration [TBConfig](https://nvlabs.github.io/sionna/api/nr.html#sionna.nr.TBConfig). When you create an instance of ``PUSCHConfig``, a default instance of ``TBConfig`` is created. It can be accessed via the following command:"
   ]
  },
  {
   "cell_type": "code",
   "execution_count": 10,
   "id": "8c08f4e0",
   "metadata": {
    "execution": {
     "iopub.execute_input": "2024-09-26T15:42:38.486776Z",
     "iopub.status.busy": "2024-09-26T15:42:38.486629Z",
     "iopub.status.idle": "2024-09-26T15:42:38.489722Z",
     "shell.execute_reply": "2024-09-26T15:42:38.489253Z"
    }
   },
   "outputs": [
    {
     "name": "stdout",
     "output_type": "stream",
     "text": [
      "Transport Block Configuration\n",
      "=============================\n",
      "channel_type : PUSCH\n",
      "mcs_index : 2\n",
      "mcs_table : 1\n",
      "n_id : 20\n",
      "num_bits_per_symbol : 2\n",
      "target_coderate : 0.1884765625\n",
      "tb_scaling : 1.0\n",
      "\n"
     ]
    }
   ],
   "source": [
    "pusch_config.tb.show()"
   ]
  },
  {
   "cell_type": "markdown",
   "id": "c0d2301c",
   "metadata": {},
   "source": [
    "You can see that the current MCS Table is 1 and the MCS index is 14. Looking at the corresponding table in the API documentation of [TBConfig](https://nvlabs.github.io/sionna/api/nr.html#sionna.nr.TBConfig), you can see that we should have  a 16QAM modulation (i.e., 4 bits per symbol) and a target coderate of 553/1024=0.54 which matches the values above. The data scrambling ID $n_\\text{ID}$ is set to `None` which implies that the physical layer cell id $N^\\text{cell}_\\text{ID}$ will be used instead."
   ]
  },
  {
   "cell_type": "markdown",
   "id": "77a07cff",
   "metadata": {},
   "source": [
    "For more details about how the transportblock encoding/decoding works, we refer to the API documentation of the [TBEncoder](https://nvlabs.github.io/sionna/api/nr.html#sionna.nr.TBEncoder)."
   ]
  },
  {
   "cell_type": "markdown",
   "id": "c8f838a3",
   "metadata": {},
   "source": [
    "## Looking into the PUSCHTransmitter\n",
    "\n",
    "We have used the ``PUSCHTransmitter`` class already multiple times without speaking about what it actually does. In short, it generates for every configured transmitter a batch of random information bits of length ``pusch_config.tb_size`` and outputs either a frequency to time-domain representation of the transmitted OFDM waveform from each of the antenna ports of each transmitter.\n",
    "\n",
    "However, under the hood it implements the sequence of layers shown in the following figure: "
   ]
  },
  {
   "attachments": {
    "45dafb96-b379-4430-82c8-9df578084676.jpg": {
     "image/jpeg": "[encoded data removed]"
    }
   },
   "cell_type": "markdown",
   "id": "0ddd20f7",
   "metadata": {},
   "source": [
    "![Picture 1.jpg](attachment:45dafb96-b379-4430-82c8-9df578084676.jpg)"
   ]
  },
  {
   "cell_type": "markdown",
   "id": "bd633a17",
   "metadata": {},
   "source": [
    "Information bits are either randomly generated or provided as input and then encoded into a transport block by the [TBEncoder](https://nvlabs.github.io/sionna/api/nr.html#sionna.nr.TBEncoder). The encoded bits are then mapped to QAM constellation symbols by the [Mapper](https://nvlabs.github.io/sionna/api/mapping.html#sionna.mapping.Mapper). The [LayerMapper](https://nvlabs.github.io/sionna/api/nr.html#sionna.nr.LayerMapper) splits the modulated symbols into different layers which are then mapped onto OFDM resource grids by the [ResourceGridMapper](https://nvlabs.github.io/sionna/api/ofdm.html#sionna.ofdm.ResourceGridMapper). If precoding is enabled in the [PUSCHConfig](https://nvlabs.github.io/sionna/api/nr.html#sionna.nr.PUSCHConfig), the resource grids are further precoded by the [PUSCHPrecoder](https://nvlabs.github.io/sionna/api/nr.html#sionna.nr.PUSCHPrecoder) so that there is one for each transmitter and antenna port. If ``output_domain`` equals “freq”, these are the ouputs \n",
    "x\n",
    ". If ``output_domain`` is chosen to be “time”, the resource grids are transformed into time-domain signals by the [OFDMModulator](https://nvlabs.github.io/sionna/api/ofdm.html#sionna.ofdm.OFDMModulator)."
   ]
  },
  {
   "cell_type": "markdown",
   "id": "ac65ef08",
   "metadata": {},
   "source": [
    "Let us configure a ``PUSCHTransmitter`` from a list of two ``PUSCHConfig`` and inspect the output shapes: "
   ]
  },
  {
   "cell_type": "code",
   "execution_count": 11,
   "id": "15ee99f9",
   "metadata": {
    "execution": {
     "iopub.execute_input": "2024-09-26T15:42:38.508745Z",
     "iopub.status.busy": "2024-09-26T15:42:38.508599Z",
     "iopub.status.idle": "2024-09-26T15:42:38.818798Z",
     "shell.execute_reply": "2024-09-26T15:42:38.818249Z"
    }
   },
   "outputs": [
    {
     "name": "stdout",
     "output_type": "stream",
     "text": [
      "Shape of b: (32, 1, 224)\n",
      "Shape of x: (32, 1, 1, 14, 48)\n"
     ]
    }
   ],
   "source": [
    "batch_size = 32\n",
    "x, b = pusch_transmitter(batch_size)\n",
    "\n",
    "# b has shape [batch_size, num_tx, tb_size]\n",
    "print(\"Shape of b:\", b.shape)\n",
    "\n",
    "# x has shape [batch_size, num_tx, num_tx_ant, num_ofdm_symbols, num_subcarriers]\n",
    "print(\"Shape of x:\", x.shape)"
   ]
  },
  {
   "cell_type": "markdown",
   "id": "5f492ecd",
   "metadata": {},
   "source": [
    "If you want to transmit a custom payload, you simply need to deactive the ``return_bits`` flag when creating the transmitter:"
   ]
  },
  {
   "cell_type": "code",
   "execution_count": 12,
   "id": "3d6e5ba3",
   "metadata": {
    "execution": {
     "iopub.execute_input": "2024-09-26T15:42:38.821239Z",
     "iopub.status.busy": "2024-09-26T15:42:38.821076Z",
     "iopub.status.idle": "2024-09-26T15:42:39.127871Z",
     "shell.execute_reply": "2024-09-26T15:42:39.127338Z"
    }
   },
   "outputs": [],
   "source": [
    "x_2 = PUSCHTransmitter(pusch_config, return_bits=False)(b)\n",
    "assert np.array_equal(x, x_2) # Check that we get the same output for the payload b generated above"
   ]
  },
  {
   "cell_type": "code",
   "execution_count": 13,
   "id": "fbcfb409",
   "metadata": {},
   "outputs": [],
   "source": [
    "source_bits = generate_prng_seq(pusch_config.tb_size, 1234).reshape(1,1,-1)\n",
    "tx_IQ = PUSCHTransmitter(pusch_config, return_bits=False)(source_bits)"
   ]
  },
  {
   "cell_type": "code",
   "execution_count": 14,
   "id": "6c3c6f97",
   "metadata": {},
   "outputs": [
    {
     "name": "stdout",
     "output_type": "stream",
     "text": [
      "92312fe668d9be9ae93dbe9e7ebbcae7  /tmp/source_bits.txt\n",
      "2b4811fd786242762db074f433fe8c84  /tmp/transmited_IQ.txt\n"
     ]
    }
   ],
   "source": [
    "print(array_to_hash(source_bits, '/tmp/source_bits.txt'))\n",
    "print(array_to_hash(tx_IQ, '/tmp/transmited_IQ.txt'))"
   ]
  },
  {
   "cell_type": "code",
   "execution_count": 15,
   "id": "83ca8414",
   "metadata": {},
   "outputs": [],
   "source": [
    "# pusch_transmitter = PUSCHTransmitter(pusch_config, return_bits=False)\n",
    "# pusch_transmitter._pusch_configs[0].carrier.slot_number = 4\n",
    "# print(array_to_hash(pusch_transmitter(source_bits), '/tmp/transmited_IQ.txt'))"
   ]
  },
  {
   "cell_type": "markdown",
   "id": "1f050ea6",
   "metadata": {},
   "source": [
    "## Components of the PUSCHReceiver\n",
    "\n",
    "The [PUSCHReceiver](https://nvlabs.github.io/sionna/api/nr.html#sionna.nr.PUSCHReceiver) is the counter-part to the [PUSCHTransmitter](https://nvlabs.github.io/sionna/api/nr.html#sionna.nr.PUSCHTransmitter) as it *simply* recovers the transmitted information bits from received waveform. It combines multiple processing blocks in a single layer as shown in the following figure:"
   ]
  },
  {
   "attachments": {
    "f7ad545c-20f0-47d6-8f02-6473dce4f964.jpg": {
     "image/jpeg": "[encoded data removed]"
    }
   },
   "cell_type": "markdown",
   "id": "ebd40350",
   "metadata": {},
   "source": [
    "![Picture 2.jpg](attachment:f7ad545c-20f0-47d6-8f02-6473dce4f964.jpg)"
   ]
  },
  {
   "attachments": {},
   "cell_type": "markdown",
   "id": "a01b5609",
   "metadata": {},
   "source": [
    "If the ``input_domain`` equals “time”, the inputs $\\mathbf{y}$\n",
    " are first transformed to resource grids with the [OFDMDemodulator](https://nvlabs.github.io/sionna/api/ofdm.html#sionna.ofdm.OFDMModulator). Then channel estimation is performed, e.g., with the help of the [PUSCHLSChannelEstimator](https://nvlabs.github.io/sionna/api/nr.html#sionna.nr.PUSCHLSChannelEstimator). If ``channel_estimator`` is chosen to be “perfect”, this step is skipped and the input $\\mathbf{h}$ is used instead. Next, MIMO detection is carried out with an arbitrary [OFDMDetector](https://nvlabs.github.io/sionna/api/ofdm.html#sionna.ofdm.OFDMDetector). The resulting LLRs for each layer are then combined to transport blocks with the help of the [LayerDemapper](https://nvlabs.github.io/sionna/api/nr.html#sionna.nr.LayerDemapper). Finally, the transport blocks are decoded with the [TBDecoder](https://nvlabs.github.io/sionna/api/nr.html#sionna.nr.TBDecoder).\n",
    " \n",
    "If we instantiate a ``PUSCHReceiver`` as done in the next cell, default implementations of all blocks as described in the [API documentation](https://nvlabs.github.io/sionna/api/nr.html#sionna.nr.PUSCHReceiver) are used.  \n"
   ]
  },
  {
   "cell_type": "code",
   "execution_count": 16,
   "id": "0e2c8f36",
   "metadata": {
    "execution": {
     "iopub.execute_input": "2024-09-26T15:42:39.507567Z",
     "iopub.status.busy": "2024-09-26T15:42:39.507416Z",
     "iopub.status.idle": "2024-09-26T15:42:39.629990Z",
     "shell.execute_reply": "2024-09-26T15:42:39.629606Z"
    }
   },
   "outputs": [
    {
     "data": {
      "text/plain": [
       "<sionna.ofdm.detection.LinearDetector at 0x7e36580c9f10>"
      ]
     },
     "execution_count": 16,
     "metadata": {},
     "output_type": "execute_result"
    }
   ],
   "source": [
    "pusch_receiver = PUSCHReceiver(pusch_transmitter)\n",
    "pusch_receiver._mimo_detector"
   ]
  },
  {
   "cell_type": "markdown",
   "id": "48501379",
   "metadata": {},
   "source": [
    "We can also provide custom implementations for each block by providing them as keyword arguments during initialization.\n",
    "In the folllwing code snippet, we first create an instance of the [KBestDetector](https://nvlabs.github.io/sionna/api/ofdm.html#sionna.ofdm.KBestDetector), which is then used as MIMO detector in the ``PUSCHReceiver``."
   ]
  },
  {
   "cell_type": "code",
   "execution_count": 17,
   "id": "66c43c7a",
   "metadata": {
    "execution": {
     "iopub.execute_input": "2024-09-26T15:42:39.632426Z",
     "iopub.status.busy": "2024-09-26T15:42:39.632287Z",
     "iopub.status.idle": "2024-09-26T15:42:39.889045Z",
     "shell.execute_reply": "2024-09-26T15:42:39.888529Z"
    }
   },
   "outputs": [
    {
     "name": "stderr",
     "output_type": "stream",
     "text": [
      "/workspaces/sionna/examples/../sionna/mimo/detection.py:1040: UserWarning: KBestDetector: The provided value of k=16 is larger than the possible maximum number of paths. It has been set to k=4.\n",
      "  warnings.warn(msg)\n"
     ]
    }
   ],
   "source": [
    "# Create a StreamManagement instance\n",
    "rx_tx_association = np.ones([1, pusch_transmitter.resource_grid.num_tx], bool)\n",
    "stream_management = StreamManagement(rx_tx_association,\n",
    "                                     pusch_config.num_layers)\n",
    "\n",
    "# Get relevant parameters for the detector\n",
    "num_streams = pusch_transmitter.resource_grid.num_tx \\\n",
    "              * pusch_transmitter.resource_grid.num_streams_per_tx\n",
    "\n",
    "k = 16 # Number of canditates for K-Best detection \n",
    "\n",
    "k_best = KBestDetector(\"bit\", num_streams, k,\n",
    "                       pusch_transmitter.resource_grid,\n",
    "                       stream_management,\n",
    "                       \"qam\", pusch_config.tb.num_bits_per_symbol)\n",
    "\n",
    "# Create a PUSCHReceiver using the KBest detector\n",
    "pusch_receiver = PUSCHReceiver(pusch_transmitter, mimo_detector=k_best)"
   ]
  },
  {
   "cell_type": "code",
   "execution_count": 18,
   "id": "7d28cab0",
   "metadata": {},
   "outputs": [],
   "source": [
    "# sm = StreamManagement(np.array([[1]]), 1)\n",
    "# rg = ResourceGrid(num_ofdm_symbols=1,\n",
    "#                 fft_size=1024,\n",
    "#                 subcarrier_spacing=15e3)\n",
    "# tdl = TDL(\"A\", 100e-9, 3.5e9)\n",
    "\n",
    "# # Generate CIR\n",
    "# cir = tdl(batch_size=1, num_time_steps=1, sampling_frequency=rg.bandwidth)\n",
    "\n",
    "# # Generate OFDM channel from CIR\n",
    "# frequencies = subcarrier_frequencies(rg.fft_size, rg.subcarrier_spacing)\n",
    "# h_freq = tf.squeeze(cir_to_ofdm_channel(frequencies, *cir, normalize=True))\n",
    "\n",
    "# # Generate time channel from CIR\n",
    "# l_min, l_max = time_lag_discrete_time_channel(rg.bandwidth)\n",
    "# h_time = cir_to_time_channel(rg.bandwidth, *cir, l_min=l_min, l_max=l_max, normalize=True)\n",
    "\n",
    "# # Generate OFDM channel from time channel\n",
    "# h_freq_hat = tf.squeeze(time_to_ofdm_channel(h_time, rg, l_min))\n",
    "\n",
    "# # Visualize results\n",
    "# plt.figure()\n",
    "# plt.plot(np.real(h_freq), \"-\")\n",
    "# plt.plot(np.real(h_freq_hat), \"--\")\n",
    "# plt.plot(np.imag(h_freq), \"-\")\n",
    "# plt.plot(np.imag(h_freq_hat), \"--\")\n",
    "# plt.xlabel(\"Subcarrier index\")\n",
    "# plt.ylabel(r\"Channel frequency response\")\n",
    "# plt.legend([\"OFDM Channel (real)\", \"OFDM Channel from time (real)\", \"OFDM Channel (imag)\", \"OFDM Channel from time (imag)\"])"
   ]
  },
  {
   "cell_type": "markdown",
   "id": "5decf6b8",
   "metadata": {},
   "source": [
    "Next, we test if this receiver works over a simple Rayleigh block fading channel:"
   ]
  },
  {
   "cell_type": "code",
   "execution_count": 19,
   "id": "0ec8ce0c",
   "metadata": {
    "execution": {
     "iopub.execute_input": "2024-09-26T15:42:39.890888Z",
     "iopub.status.busy": "2024-09-26T15:42:39.890743Z",
     "iopub.status.idle": "2024-09-26T15:42:42.035349Z",
     "shell.execute_reply": "2024-09-26T15:42:42.034690Z"
    }
   },
   "outputs": [
    {
     "name": "stderr",
     "output_type": "stream",
     "text": [
      "WARNING: All log messages before absl::InitializeLog() is called are written to STDERR\n",
      "I0000 00:00:1739268142.110040    2291 device_compiler.h:186] Compiled cluster using XLA!  This line is logged at most once for the lifetime of the process.\n"
     ]
    },
    {
     "name": "stdout",
     "output_type": "stream",
     "text": [
      "BER: 0.0\n"
     ]
    }
   ],
   "source": [
    "num_rx_ant = 8\n",
    "rayleigh = RayleighBlockFading(num_rx=1,\n",
    "                               num_rx_ant=num_rx_ant,\n",
    "                               num_tx=pusch_transmitter.resource_grid.num_tx,\n",
    "                               num_tx_ant=pusch_config.num_antenna_ports)\n",
    "\n",
    "channel = OFDMChannel(rayleigh,\n",
    "                      pusch_transmitter.resource_grid,\n",
    "                      add_awgn=True,\n",
    "                      normalize_channel=True)\n",
    "\n",
    "x, b = pusch_transmitter(32)\n",
    "no = 0.1\n",
    "y = channel([x, no])\n",
    "b_hat = pusch_receiver([y, no])\n",
    "print(\"BER:\", compute_ber(b, b_hat).numpy())"
   ]
  },
  {
   "cell_type": "code",
   "execution_count": 20,
   "id": "3d0f8e44",
   "metadata": {},
   "outputs": [
    {
     "data": {
      "text/plain": [
       "(<sionna.nr.pusch_channel_estimation.PUSCHLSChannelEstimator at 0x7e36499c0f90>,\n",
       " <sionna.ofdm.detection.KBestDetector at 0x7e3658130250>)"
      ]
     },
     "execution_count": 20,
     "metadata": {},
     "output_type": "execute_result"
    }
   ],
   "source": [
    "pusch_receiver._channel_estimator, pusch_receiver._mimo_detector"
   ]
  },
  {
   "cell_type": "code",
   "execution_count": 21,
   "id": "7991b782",
   "metadata": {},
   "outputs": [],
   "source": [
    "with open('pusch_config.txt','w') as f:\n",
    "    pusch_config.show(f)"
   ]
  },
  {
   "cell_type": "markdown",
   "id": "86bebb7b",
   "metadata": {},
   "source": [
    "## End-to-end PUSCH Simulations\n",
    "\n",
    "We will now implement a end-to-end Keras model that is capable of running PUSCH simulations for many different configurations.\n",
    "You can use it as a boilerplate template for your own experiments."
   ]
  },
  {
   "cell_type": "code",
   "execution_count": 22,
   "id": "12206c32",
   "metadata": {},
   "outputs": [
    {
     "name": "stdout",
     "output_type": "stream",
     "text": [
      "XLA can lead to reduced numerical precision. Use with care.\n"
     ]
    }
   ],
   "source": [
    "# We need to enable sionna.config.xla_compat before we can use\n",
    "# tf.function with jit_compile=True.\n",
    "# See https://nvlabs.github.io/sionna/api/config.html#sionna.Config.xla_compat\n",
    "sionna.config.xla_compat=True\n",
    "\n",
    "class Simulation(tf.keras.layers.Layer):\n",
    "    \"\"\"Simulate PUSCH transmissions over a 3GPP 38.901 model.\n",
    "    \n",
    "    This model runs BER simulations for a multiuser MIMO uplink channel\n",
    "    compliant with the 5G NR PUSCH specifications. \n",
    "    You can pick different scenarios, i.e., channel models, perfect or\n",
    "    estimated CSI, as well as different MIMO detectors (LMMSE or KBest).\n",
    "    You can chosse to run simulations in either time (\"time\") or frequency (\"freq\")\n",
    "    domains and configure different user speeds.\n",
    "    \n",
    "    Parameters\n",
    "    ----------\n",
    "    scenario : str, one of [\"umi\", \"uma\", \"rma\"]\n",
    "        3GPP 38.901 channel model to be used\n",
    "        \n",
    "    perfect_csi : bool\n",
    "        Determines if perfect CSI is assumed or if the CSI is estimated\n",
    "        \n",
    "    domain :  str, one of [\"freq\", \"time\"]\n",
    "        Domain in which the simulations are carried out.\n",
    "        Time domain modelling is typically more complex but allows modelling\n",
    "        of realistic effects such as inter-symbol interference of subcarrier\n",
    "        interference due to very high speeds.\n",
    "    \n",
    "    detector : str, one of [\"lmmse\", \"kbest\"]\n",
    "        MIMO detector to be used. Note that each detector has additional\n",
    "        parameters that can be configured in the source code of the _init_ call.\n",
    "        \n",
    "    speed: float\n",
    "        User speed (m/s)\n",
    "        \n",
    "    Input\n",
    "    -----\n",
    "    batch_size : int\n",
    "        Number of simultaneously simulated slots\n",
    "        \n",
    "    ebno_db : float\n",
    "        Signal-to-noise-ratio\n",
    "    \n",
    "    Output\n",
    "    ------\n",
    "    b : [batch_size, num_tx, tb_size], tf.float\n",
    "        Transmitted information bits\n",
    "        \n",
    "    b_hat : [batch_size, num_tx, tb_size], tf.float\n",
    "        Decoded information bits   \n",
    "    \"\"\"\n",
    "    def __init__(self, mode=1):  \n",
    "        super().__init__()\n",
    "        # Create a PUSCH configuration with default settings\n",
    "        pusch_config = PUSCHConfig()\n",
    "\n",
    "        pusch_config.mapping_type = 'A'\n",
    "        pusch_config.n_size_bwp = 4\n",
    "        pusch_config.n_start_bwp = 0\n",
    "        pusch_config.num_layers = 1\n",
    "        pusch_config.num_antenna_ports = 1\n",
    "        pusch_config.precoding = 'non-codebook'\n",
    "        pusch_config.tpmi = 0\n",
    "        pusch_config.transform_precoding = False\n",
    "        pusch_config.n_rnti = 2001\n",
    "\n",
    "        pusch_config.carrier.cyclic_prefix = \"normal\"\n",
    "        pusch_config.carrier.subcarrier_spacing = 30\n",
    "        pusch_config.carrier.n_cell_id = 500\n",
    "        pusch_config.carrier.n_size_grid = 273\n",
    "        pusch_config.carrier.n_start_grid = 0\n",
    "        # pusch_config.carrier.slot_number = 4\n",
    "\n",
    "        pusch_config.dmrs.config_type = 1\n",
    "        pusch_config.dmrs.length = 1\n",
    "        pusch_config.dmrs.additional_position = 1\n",
    "        pusch_config.dmrs.dmrs_port_set = [0]\n",
    "        pusch_config.dmrs.n_id = 0\n",
    "        pusch_config.dmrs.n_scid = 0\n",
    "        pusch_config.dmrs.num_cdm_groups_without_data = 2\n",
    "        pusch_config.dmrs.type_a_position = 2\n",
    "\n",
    "        pusch_config.tb.channel_type = 'PUSCH'\n",
    "        pusch_config.tb.n_id = 20\n",
    "        pusch_config.tb.mcs_table = 1\n",
    "        pusch_config.tb.mcs_index = 2\n",
    "\n",
    "        self._pusch_config = pusch_config\n",
    "        # Instantiate a PUSCHTransmitter from the PUSCHConfig\n",
    "        self._pusch_transmitter = PUSCHTransmitter(pusch_config)\n",
    "                \n",
    "        \n",
    "        rx_tx_association = np.ones([1, 1], bool)\n",
    "        stream_management = StreamManagement(rx_tx_association,1)\n",
    "        \n",
    "        \n",
    "     \n",
    "\n",
    "        detector = MaximumLikelihoodDetector(output=\"bit\",\n",
    "                                             demapping_method=\"maxlog\",\n",
    "                                             resource_grid=self._pusch_transmitter.resource_grid,\n",
    "                                             stream_management=stream_management,\n",
    "                                             constellation_type=\"qam\",\n",
    "                                             num_bits_per_symbol=pusch_config.tb.num_bits_per_symbol)\n",
    "            \n",
    "        if mode==0:\n",
    "            self._pusch_receiver = PUSCHReceiver(self._pusch_transmitter,\n",
    "                                                 mimo_detector=detector,\n",
    "                                                 channel_estimator=\"perfect\")\n",
    "        else:\n",
    "            self._pusch_receiver = PUSCHReceiver(self._pusch_transmitter)\n",
    "        \n",
    "        # Configure antenna arrays\n",
    "        ut_antenna = Antenna(polarization=\"single\",\n",
    "                     polarization_type=\"V\",\n",
    "                     antenna_pattern=\"38.901\",\n",
    "                     carrier_frequency=2.55e9)\n",
    "\n",
    "        bs_array = AntennaArray(num_rows=1,\n",
    "                                num_cols=4,\n",
    "                                polarization=\"dual\",\n",
    "                                polarization_type=\"cross\",\n",
    "                                antenna_pattern=\"38.901\",\n",
    "                                carrier_frequency=2.55e9)\n",
    "        cdl = CDL(\"C\", 100e-9, 2.55e9, ut_antenna, bs_array, \"uplink\", min_speed=10)\n",
    "\n",
    "        self._channel = OFDMChannel(cdl,\n",
    "                            self._pusch_transmitter.resource_grid,\n",
    "                            normalize_channel=True,\n",
    "                            return_channel=True)\n",
    "\n",
    "    def call(self, ebno_db):\n",
    "        nSlotInGroup=20\n",
    "        assert nSlotInGroup % 20 == 0, 'nSlotInGroup must be a mutiple of 20'\n",
    "        slotSetInGroup = (np.array([4,5,14,15]) + 20*np.arange(0,nSlotInGroup/20).reshape(-1,1)).flatten()\n",
    "        \n",
    "        b_group = []\n",
    "        b_hat_group = []\n",
    "\n",
    "        for slotInGroupIdx in slotSetInGroup:\n",
    "            self._pusch_transmitter._pusch_configs[0].carrier.slot_number = slotInGroupIdx\n",
    "            x, b = self._pusch_transmitter(1)\n",
    "            no = ebnodb2no(ebno_db,\n",
    "                        self._pusch_transmitter._num_bits_per_symbol,\n",
    "                        self._pusch_transmitter._target_coderate,\n",
    "                        self._pusch_transmitter.resource_grid)\n",
    "            \n",
    "            y, h = self._channel([x, no])\n",
    "            if self._pusch_receiver._perfect_csi:\n",
    "                b_hat = self._pusch_receiver([y, h, no])\n",
    "            else:\n",
    "                b_hat = self._pusch_receiver([y, no])\n",
    "            \n",
    "            b_group.append(b)\n",
    "            b_hat_group.append(b_hat)\n",
    "        \n",
    "        b_group = np.concatenate(b_group)\n",
    "        b_hat_group = np.concatenate(b_hat_group)\n",
    "\n",
    "        return b_group, b_hat_group, x, y\n",
    "\n",
    "# b, b_hat, x, y = Simulation()(0.0)\n",
    "# print(b.shape, b_hat.shape)"
   ]
  },
  {
   "cell_type": "code",
   "execution_count": 23,
   "id": "4eeafea9",
   "metadata": {},
   "outputs": [
    {
     "name": "stdout",
     "output_type": "stream",
     "text": [
      "Carrier Configuration\n",
      "=====================\n",
      "cyclic_prefix : normal\n",
      "cyclic_prefix_length : 2.3437500000000002e-06\n",
      "frame_duration : 0.01\n",
      "frame_number : 0\n",
      "kappa : 64.0\n",
      "mu : 1\n",
      "n_cell_id : 500\n",
      "n_size_grid : 273\n",
      "n_start_grid : 0\n",
      "num_slots_per_frame : 20\n",
      "num_slots_per_subframe : 2\n",
      "num_symbols_per_slot : 14\n",
      "slot_number : 4\n",
      "sub_frame_duration : 0.001\n",
      "subcarrier_spacing : 30\n",
      "t_c : 5.086263020833334e-10\n",
      "t_s : 3.2552083333333335e-08\n",
      "\n",
      "PUSCH Configuration\n",
      "===================\n",
      "dmrs_grid : shape (1, 48, 14)\n",
      "dmrs_grid_precoded : shape ()\n",
      "dmrs_mask : shape (48, 14)\n",
      "dmrs_symbol_indices : [2, 11]\n",
      "frequency_hopping : neither\n",
      "l : [2, 11]\n",
      "l_0 : 2\n",
      "l_bar : [2, 11]\n",
      "l_d : 14\n",
      "l_prime : [0]\n",
      "l_ref : 0\n",
      "mapping_type : A\n",
      "n : shape (12,)\n",
      "n_rnti : 2001\n",
      "n_size_bwp : 4\n",
      "n_start_bwp : 0\n",
      "num_antenna_ports : 1\n",
      "num_coded_bits : 1152\n",
      "num_layers : 1\n",
      "num_ov : 0\n",
      "num_res_per_prb : 144\n",
      "num_resource_blocks : 4\n",
      "num_subcarriers : 48\n",
      "precoding : non-codebook\n",
      "precoding_matrix : None\n",
      "symbol_allocation : [0, 14]\n",
      "tb_size : 224\n",
      "tpmi : 0\n",
      "transform_precoding : False\n",
      "\n",
      "PUSCH DMRS Configuration\n",
      "========================\n",
      "additional_position : 1\n",
      "allowed_dmrs_ports : [0, 1, 2, 3]\n",
      "beta : 1.4142135623730951\n",
      "cdm_groups : [0]\n",
      "config_type : 1\n",
      "deltas : [0]\n",
      "dmrs_port_set : [0]\n",
      "length : 1\n",
      "n_id : [0, 0]\n",
      "n_scid : 0\n",
      "num_cdm_groups_without_data : 2\n",
      "type_a_position : 2\n",
      "w_f : [[1]\n",
      " [1]]\n",
      "w_t : [[1]\n",
      " [1]]\n",
      "\n",
      "Transport Block Configuration\n",
      "=============================\n",
      "channel_type : PUSCH\n",
      "mcs_index : 2\n",
      "mcs_table : 1\n",
      "n_id : 20\n",
      "num_bits_per_symbol : 2\n",
      "target_coderate : 0.1884765625\n",
      "tb_scaling : 1.0\n",
      "\n"
     ]
    }
   ],
   "source": [
    "pusch_config.show()"
   ]
  },
  {
   "cell_type": "code",
   "execution_count": 24,
   "id": "7540c557",
   "metadata": {},
   "outputs": [
    {
     "name": "stdout",
     "output_type": "stream",
     "text": [
      "35f14a36df42a451602b2b82b88498f1  cfgReq.cfg\n"
     ]
    }
   ],
   "source": [
    "def setCfgReg(pusch_transmitter, dir,  NRxAnt, FrameNumber, slotSetInFrame):\n",
    "    pusch_config = pusch_transmitter._pusch_configs[0]\n",
    "    filename = os.path.join(dir, 'cfgReq.cfg')\n",
    "\n",
    "    with open(filename, 'w') as file:\n",
    "        file.write('<?xml version=\"1.0\"?>\\n\\n')\n",
    "        file.write('<TestConfig>\\n')\n",
    "        \n",
    "        file.write(f'\\t<numSlots>{pusch_config.carrier.num_slots_per_frame}</numSlots>\\n')\n",
    "\n",
    "        for rxIdx in range(NRxAnt):\n",
    "            file.write(f'\\t<uliq_car0_ant{rxIdx}>rx_ant_{rxIdx}.bin</uliq_car0_ant{rxIdx}>\\n')\n",
    "\n",
    "        file.write('\\t<ul_ref_out>ref.txt</ul_ref_out>\\n')\n",
    "        file.write(f'\\t<start_frame_number>{FrameNumber}</start_frame_number>\\n')\n",
    "        file.write(f'\\t<start_slot_number>{0}</start_slot_number>\\n')\n",
    "        file.write('</TestConfig>\\n\\n')\n",
    "\n",
    "        file.write('<ConfigReq>\\n')\n",
    "        file.write('\\t<nCarrierIdx>0</nCarrierIdx>\\n')\n",
    "        file.write(f'\\t<nDMRSTypeAPos>{pusch_config.dmrs.type_a_position}</nDMRSTypeAPos>\\n')\n",
    "        file.write(f'\\t<nPhyCellId>{pusch_config.carrier.n_cell_id}</nPhyCellId>\\n')\n",
    "        \n",
    "        Bandwidth = 100\n",
    "        file.write(f'\\t<nDLBandwidth>{Bandwidth}</nDLBandwidth>\\n')  # Hardcoded same as UL\n",
    "        file.write(f'\\t<nULBandwidth>{Bandwidth}</nULBandwidth>\\n')  # Hardcoded same as UL\n",
    "\n",
    "        Nfft = 2**np.ceil(np.log2(pusch_config.carrier.n_size_grid * 12 / 0.85))\n",
    "        Nfft = max(128, int(Nfft)) \n",
    "        file.write(f'\\t<nDLFftSize>{Nfft}</nDLFftSize>\\n')\n",
    "        file.write(f'\\t<nULFftSize>{Nfft}</nULFftSize>\\n')\n",
    "\n",
    "        file.write(f'\\t<nNrOfTxAnt>{NRxAnt}</nNrOfTxAnt>\\n')\n",
    "        file.write(f'\\t<nNrOfRxAnt>{NRxAnt}</nNrOfRxAnt>\\n')\n",
    "        file.write(f'\\t<nCarrierAggregationLevel>0</nCarrierAggregationLevel>\\n')\n",
    "        file.write(f'\\t<nFrameDuplexType>1</nFrameDuplexType>\\n')\n",
    "        file.write(f'\\t<nSubcCommon>{pusch_config.carrier.mu}</nSubcCommon>\\n')\n",
    "        file.write(f'\\t<nTddPeriod>20</nTddPeriod>\\n')\n",
    "\n",
    "        for slotIdx in range(pusch_config.carrier.num_slots_per_frame):\n",
    "            if slotIdx in slotSetInFrame:\n",
    "                file.write(f'\\t<sSlotConfig{slotIdx}>1,1,1,1,1,1,1,1,1,1,1,1,1,1</sSlotConfig{slotIdx}>\\n')\n",
    "            else:\n",
    "                file.write(f'\\t<sSlotConfig{slotIdx}>2,2,2,2,2,2,2,2,2,2,2,2,2,2</sSlotConfig{slotIdx}>\\n')\n",
    "\n",
    "        cpType = int(pusch_config.carrier.cyclic_prefix!='normal')\n",
    "        file.write(f'\\t<nCyclicPrefix>{cpType}</nCyclicPrefix>\\n')\n",
    "        file.write('</ConfigReq>\\n\\n')\n",
    "\n",
    "        file.write('<RxConfig>\\n')\n",
    "        for slotIdx in range(pusch_config.carrier.num_slots_per_frame):\n",
    "            if slotIdx in slotSetInFrame:\n",
    "                file.write(f'\\t<SlotNum{slotIdx}>slot{slotIdx}.cfg</SlotNum{slotIdx}>\\n')\n",
    "            else:\n",
    "                file.write(f'\\t<SlotNum{slotIdx}>null.cfg</SlotNum{slotIdx}>\\n')\n",
    "\n",
    "        file.write('</RxConfig>\\n')\n",
    "\n",
    "setCfgReg(pusch_transmitter, '.', 8, 0, [4,5,14,15])\n",
    "!md5sum cfgReq.cfg\n",
    "\n",
    "# with open('cfgReq.cfg','r') as f:\n",
    "#     cfg = f.read()\n",
    "# # print(len(cfg))\n",
    "# # sum([ord(c) for c in cfg[:295]])\n",
    "# # cfg[290:300]\n",
    "# # [cfg[i- 1] for i in range(711,720)]"
   ]
  },
  {
   "cell_type": "code",
   "execution_count": 25,
   "id": "a635d524",
   "metadata": {},
   "outputs": [],
   "source": [
    "def setUlCfgReq(pusch_transmitter, dir, NRxAnt, FrameNumber, slotSetInFrame):\n",
    "    \n",
    "    pusch_config = pusch_transmitter._pusch_configs[0]\n",
    "    num_slots_per_frame = pusch_config.carrier.num_slots_per_frame\n",
    "    harqIdx = -1\n",
    "    for slotIdx in slotSetInFrame:\n",
    "        harqIdx += 1\n",
    "        filename = os.path.join(dir, f\"slot{slotIdx}.cfg\")\n",
    "\n",
    "        with open(filename, 'w') as file:\n",
    "            file.write('<?xml version=\"1.0\"?>\\n\\n')\n",
    "            file.write('<Ul_Config_Req>\\n\\n')\n",
    "            file.write('\\t<UlConfigReqL1L2Header>\\n')\n",
    "            file.write(f'\\t\\t<nSFN>{FrameNumber}</nSFN>\\n')\n",
    "            file.write(f'\\t\\t<nSlot>{slotIdx}</nSlot>\\n')\n",
    "            nUe=1\n",
    "            nMuMimoGroup=1\n",
    "            file.write(f'\\t\\t<nPDU>{nUe}</nPDU>\\n')  # TBD\n",
    "            file.write(f'\\t\\t<nGroup>{nMuMimoGroup}</nGroup>\\n')  # TBD\n",
    "            file.write(f'\\t\\t<nUlsch>{nUe}</nUlsch>\\n')  # TBD\n",
    "            file.write(f'\\t\\t<nUlcch>0</nUlcch>\\n')\n",
    "            file.write(f'\\t\\t<nRachPresent>0</nRachPresent>\\n')\n",
    "            file.write('\\t</UlConfigReqL1L2Header>\\n\\n')\n",
    "\n",
    "            # for ueIdx in range(nUe):\n",
    "            ueIdx = 0\n",
    "            file.write(f'\\t<UL_SCH_PDU{ueIdx}>\\n')\n",
    "            file.write(f'\\t\\t<nRNTI>{pusch_config.n_rnti}</nRNTI>\\n')\n",
    "            file.write(f'\\t\\t<nUEId>{ueIdx}</nUEId>\\n')\n",
    "            file.write(f'\\t\\t<nBWPSize>{pusch_config.carrier.n_size_grid}</nBWPSize>\\n')\n",
    "            file.write(f'\\t\\t<nBWPStart>{pusch_config.carrier.n_start_grid}</nBWPStart>\\n')\n",
    "            file.write(f'\\t\\t<nSubcSpacing>{pusch_config.carrier.mu}</nSubcSpacing>\\n')\n",
    "\n",
    "            cpType = int(pusch_config.carrier.cyclic_prefix!='normal')\n",
    "            file.write(f'\\t\\t<nCpType>{cpType}</nCpType>\\n')\n",
    "            file.write(f'\\t\\t<nULType>0</nULType>\\n')\n",
    "                \n",
    "            file.write(f'\\t\\t<nMcsTable>{pusch_config.tb.mcs_table - 1}</nMcsTable>\\n')\n",
    "            file.write(f'\\t\\t<nMCS>{pusch_config.tb.mcs_index}</nMCS>\\n')\n",
    "            file.write(f'\\t\\t<nTransPrecode>{int(pusch_config.transform_precoding)}</nTransPrecode>\\n')\n",
    "            precoding = int(pusch_config.precoding != 'non-codebook')\n",
    "            file.write(f'\\t\\t<nTransmissionScheme>{precoding}</nTransmissionScheme>\\n')\n",
    "            file.write(f'\\t\\t<nNrOfLayers>{pusch_config.num_layers}</nNrOfLayers>\\n')\n",
    "\n",
    "            file.write(f'\\t\\t<nPortIndex{0}>{0}</nPortIndex{0}>\\n')\n",
    "\n",
    "            file.write(f'\\t\\t<nNid>{pusch_config.tb.n_id}</nNid>\\n')\n",
    "            file.write(f'\\t\\t<nSCID>{pusch_config.dmrs.n_scid}</nSCID>\\n')\n",
    "            file.write(f'\\t\\t<nNIDnSCID>{pusch_config.dmrs.n_id[0]}</nNIDnSCID>\\n')\n",
    "\n",
    "\n",
    "            file.write(f'\\t\\t<nNrOfAntennaPorts>{NRxAnt}</nNrOfAntennaPorts>\\n')\n",
    "\n",
    "            file.write(f'\\t\\t<nVRBtoPRB>0</nVRBtoPRB>\\n')\n",
    "            file.write(f'\\t\\t<nPMI>{pusch_config.tpmi}</nPMI>\\n')\n",
    "            file.write(f'\\t\\t<nStartSymbolIndex>{pusch_config.symbol_allocation[0]}</nStartSymbolIndex>\\n')\n",
    "            file.write(f'\\t\\t<nNrOfSymbols>{pusch_config.symbol_allocation[1]}</nNrOfSymbols>\\n')\n",
    "            \n",
    "            ra_type = 1\n",
    "            file.write(f'\\t\\t<nResourceAllocType>{ra_type}</nResourceAllocType>\\n')\n",
    "            file.write(f'\\t\\t<nRBStart>{pusch_config.n_start_bwp }</nRBStart>\\n')\n",
    "            file.write(f'\\t\\t<nRBSize>{pusch_config.n_size_bwp }</nRBSize>\\n')\n",
    "            file.write(f'\\t\\t<nTBSize>{pusch_config.tb_size // 8}</nTBSize>\\n')\n",
    "\n",
    "            rv = 0\n",
    "            file.write(f'\\t\\t<nRV>{rv}</nRV>\\n')\n",
    "            file.write(f'\\t\\t<nHARQID>{harqIdx}</nHARQID>\\n')\n",
    "            ndi = 1\n",
    "            file.write(f'\\t\\t<nNDI>{ndi}</nNDI>\\n')\n",
    "\n",
    "            mapping_type = int(pusch_config.mapping_type != 'A')\n",
    "            file.write(f'\\t\\t<nMappingType>{mapping_type}</nMappingType>\\n')\n",
    "            file.write(f'\\t\\t<nDMRSConfigType>{pusch_config.dmrs.config_type - 1}</nDMRSConfigType>\\n')\n",
    "            file.write(f'\\t\\t<nNrOfCDMs>{pusch_config.dmrs.num_cdm_groups_without_data}</nNrOfCDMs>\\n')\n",
    "            file.write(f'\\t\\t<nNrOfDMRSSymbols>{pusch_config.dmrs.length }</nNrOfDMRSSymbols>\\n')\n",
    "            file.write(f'\\t\\t<nDMRSAddPos>{pusch_config.dmrs.additional_position }</nDMRSAddPos>\\n')\n",
    "            file.write(f'\\t\\t<nPTRSPresent>0</nPTRSPresent>\\n')\n",
    "\n",
    "            OAck = 0\n",
    "            file.write(f'\\t\\t<nAck>{OAck}</nAck>\\n')\n",
    "            ScalingFactor = 0\n",
    "            file.write(f'\\t\\t<nAlphaScaling>{ScalingFactor}</nAlphaScaling>\\n')\n",
    "            IHarqAckOffset = 0\n",
    "            file.write(f'\\t\\t<nBetaOffsetACKIndex>{IHarqAckOffset}</nBetaOffsetACKIndex>\\n')\n",
    "            OCsi1 = 0\n",
    "            file.write(f'\\t\\t<nCsiPart1>{OCsi1}</nCsiPart1>\\n')\n",
    "            ICsi1Offset = 0\n",
    "            file.write(f'\\t\\t<nBetaOffsetCsiPart1Index>{ICsi1Offset}</nBetaOffsetCsiPart1Index>\\n')\n",
    "            OCsi2 = 0\n",
    "            file.write(f'\\t\\t<nCsiPart2>{OCsi2}</nCsiPart2>\\n')\n",
    "            ICsi2Offset = 0\n",
    "            file.write(f'\\t\\t<nBetaOffsetCsiPart2Index>{ICsi2Offset}</nBetaOffsetCsiPart2Index>\\n')\n",
    "           \n",
    "            TpPi2Bpsk = 0\n",
    "            file.write(f'\\t\\t<nTpPi2BPSK>{TpPi2Bpsk}</nTpPi2BPSK>\\n')\n",
    "            NRsId = 0\n",
    "            file.write(f'\\t\\t<nTPPuschID>{NRsId}</nTPPuschID>\\n')\n",
    "            for rxAntPortIdx in range(NRxAnt):\n",
    "                file.write(f'\\t\\t<nRxRUIdx{rxAntPortIdx}>{rxAntPortIdx}</nRxRUIdx{rxAntPortIdx}>\\n')\n",
    "\n",
    "            file.write(f'\\t</UL_SCH_PDU{ueIdx}>\\n\\n')\n",
    "            \n",
    "            groupIdx = 0\n",
    "            file.write(f'\\t<PUSCH_GROUP_INFO{groupIdx}>\\n')\n",
    "            file.write(f'\\t\\t<nUE>{nUe}</nUE>\\n')\n",
    "            file.write(f'\\t\\t<nPduIdx{ueIdx}>{ueIdx}</nPduIdx{ueIdx}>\\n')\n",
    "            file.write(f'\\t</PUSCH_GROUP_INFO{groupIdx}>\\n\\n')\n",
    "\n",
    "            file.write('</Ul_Config_Req>\\n')\n",
    "\n",
    "setUlCfgReq(pusch_transmitter, '.', 8, 0, [4,5,14,15])\n",
    "\n",
    "# with open('slot4.cfg','r') as f:\n",
    "#     cfg = f.read()\n",
    "# # print(len(cfg))\n",
    "# # print(sum([ord(c) for c in cfg[:]]))\n",
    "# # cfg[1600:]\n",
    "# # # [cfg[i- 1] for i in range(711,720)]\n",
    "# ! md5sum slot*.cfg\n"
   ]
  },
  {
   "cell_type": "code",
   "execution_count": 26,
   "id": "386cd285",
   "metadata": {},
   "outputs": [
    {
     "name": "stdout",
     "output_type": "stream",
     "text": [
      "8604a2cbd9ec5c60f5afff3f144cec25  null.cfg\n"
     ]
    }
   ],
   "source": [
    "def set_null(dir):\n",
    "    filename = os.path.join(dir, 'null.cfg')\n",
    "    with open(filename, 'w') as file:\n",
    "        file.write('<?xml version=\"1.0\"?>\\n\\n')\n",
    "        file.write('<Ul_Config_Req>\\n')\n",
    "        file.write('\\t<UlConfigReqL1L2Header>\\n')\n",
    "        file.write('\\t\\t<nSFN>0</nSFN>\\n')\n",
    "        file.write('\\t\\t<nSlot>0</nSlot>\\n')\n",
    "        file.write('\\t\\t<nPDU>0</nPDU>\\n')\n",
    "        file.write('\\t\\t<nGroup>0</nGroup>\\n')\n",
    "        file.write('\\t\\t<nUlsch>0</nUlsch>\\n')\n",
    "        file.write('\\t\\t<nUlcch>0</nUlcch>\\n')\n",
    "        file.write('\\t\\t<nRachPresent>0</nRachPresent>\\n')\n",
    "        file.write('\\t</UlConfigReqL1L2Header>\\n')\n",
    "        file.write('</Ul_Config_Req>\\n')\n",
    "set_null('.')\n",
    "!md5sum null.cfg\n"
   ]
  },
  {
   "cell_type": "code",
   "execution_count": 27,
   "id": "962ddaee",
   "metadata": {},
   "outputs": [
    {
     "name": "stdout",
     "output_type": "stream",
     "text": [
      "Carrier Configuration\n",
      "=====================\n",
      "cyclic_prefix : normal\n",
      "cyclic_prefix_length : 2.3437500000000002e-06\n",
      "frame_duration : 0.01\n",
      "frame_number : 0\n",
      "kappa : 64.0\n",
      "mu : 1\n",
      "n_cell_id : 500\n",
      "n_size_grid : 273\n",
      "n_start_grid : 0\n",
      "num_slots_per_frame : 20\n",
      "num_slots_per_subframe : 2\n",
      "num_symbols_per_slot : 14\n",
      "slot_number : 4\n",
      "sub_frame_duration : 0.001\n",
      "subcarrier_spacing : 30\n",
      "t_c : 5.086263020833334e-10\n",
      "t_s : 3.2552083333333335e-08\n",
      "\n"
     ]
    }
   ],
   "source": [
    "pusch_config.carrier.show()"
   ]
  },
  {
   "cell_type": "code",
   "execution_count": 28,
   "id": "49b65901",
   "metadata": {},
   "outputs": [
    {
     "data": {
      "text/plain": [
       "TensorShape([32, 1, 8, 14, 48])"
      ]
     },
     "execution_count": 28,
     "metadata": {},
     "output_type": "execute_result"
    }
   ],
   "source": [
    "y.shape"
   ]
  },
  {
   "cell_type": "code",
   "execution_count": 29,
   "id": "8bdb2ddb",
   "metadata": {},
   "outputs": [
    {
     "name": "stdout",
     "output_type": "stream",
     "text": [
      "(2, 20, 14, 3276)\n"
     ]
    },
    {
     "data": {
      "image/png": "[encoded data removed]",
      "text/plain": [
       "<Figure size 640x480 with 1 Axes>"
      ]
     },
     "metadata": {},
     "output_type": "display_data"
    }
   ],
   "source": [
    "rxGridShape = [2,20,14,3276]\n",
    "rxSigFreq2 = tf.Variable(tf.zeros(rxGridShape, dtype=tf.complex64))\n",
    "slotSet = [4,5,14,15]\n",
    "RBStart = 0\n",
    "RBSize = 4\n",
    "subc_indices = slice(RBStart * 12, (RBStart + RBSize) * 12)\n",
    "\n",
    "puschGridShapePerSlot = [rxGridShape[0], rxGridShape[2], RBSize*12]\n",
    "for slotIdx in slotSet:\n",
    "    aaak = tf.complex(tf.random.normal(puschGridShapePerSlot),tf.random.normal(puschGridShapePerSlot))\n",
    "    rxSigFreq2[:,slotIdx,:,subc_indices].assign(aaak)\n",
    "print(rxSigFreq2.shape)\n",
    "plt.imshow(tf.reshape(tf.abs(rxSigFreq2[0]), (20*14,-1)));"
   ]
  },
  {
   "cell_type": "code",
   "execution_count": 30,
   "id": "338f107b",
   "metadata": {},
   "outputs": [
    {
     "data": {
      "text/plain": [
       "TensorShape([2, 20, 14, 3276])"
      ]
     },
     "execution_count": 30,
     "metadata": {},
     "output_type": "execute_result"
    }
   ],
   "source": [
    "rxSigFreq2.shape"
   ]
  },
  {
   "cell_type": "code",
   "execution_count": 31,
   "id": "d777b6f9",
   "metadata": {},
   "outputs": [
    {
     "data": {
      "text/plain": [
       "<tf.Tensor: shape=(), dtype=float32, numpy=4.149262>"
      ]
     },
     "execution_count": 31,
     "metadata": {},
     "output_type": "execute_result"
    }
   ],
   "source": [
    "def setRxData(rxSigFreq, dir):\n",
    "    # rxSigFreq shape (nRx, nSlotInGroup, num_symbols_per_slot, num_subcarriers)\n",
    "    rxSigFreq = tf.stack((tf.math.real(rxSigFreq), tf.math.imag(rxSigFreq)), axis=-1)\n",
    "    scaling = tf.math.reduce_max(tf.abs(rxSigFreq))\n",
    "    rxSigFreq = rxSigFreq / scaling\n",
    "    \n",
    "    float2fix = lambda value, frac_bits=13: tf.cast((value * (2 ** frac_bits)),tf.int16)\n",
    "    rxSigFreq = float2fix(rxSigFreq)\n",
    "    nRxAnt = rxSigFreq.shape[0]\n",
    "    for rxIdx in range(nRxAnt):\n",
    "        file_path = os.path.join(dir, f'rx_ant_{rxIdx}.bin')\n",
    "        with open(file_path, 'wb') as file:\n",
    "            file.write(rxSigFreq[rxIdx])\n",
    "    return scaling    \n",
    "setRxData(rxSigFreq2, '.')"
   ]
  },
  {
   "cell_type": "code",
   "execution_count": 32,
   "id": "70ea5a20",
   "metadata": {},
   "outputs": [
    {
     "data": {
      "text/plain": [
       "<tf.Tensor: shape=(), dtype=float32, numpy=2.1940332e-06>"
      ]
     },
     "execution_count": 32,
     "metadata": {},
     "output_type": "execute_result"
    }
   ],
   "source": [
    "def getRxData(dir, rxGridShape):\n",
    "    # rxSigFreq shape (nRx,L,K)\n",
    "    # rxSigFreq = tf.Variable(tf.zeros(rxGridShape), dtype=tf.float32)\n",
    "    nRxAnt = rxGridShape[0]\n",
    "    rxSigFreq = tf.Variable(tf.zeros(rxGridShape, dtype=tf.complex64))\n",
    "    fix2float = lambda value, frac_bits=13: tf.cast(value,tf.float32) / (2.**frac_bits)\n",
    "\n",
    "    for rxIdx in range(nRxAnt):\n",
    "        file_path = os.path.join(dir, f'rx_ant_{rxIdx}.bin')\n",
    "        with open(file_path, 'rb') as file:\n",
    "            ant0 = file.read()\n",
    "        rxSigInt = tf.reshape(tf.io.decode_raw(ant0, tf.int16),[*rxGridShape[1:],2])\n",
    "        rxSigFloat = fix2float(rxSigInt)\n",
    "        rxSigComplex = tf.complex(rxSigFloat[...,0],rxSigFloat[...,1])\n",
    "        rxSigFreq[rxIdx].assign(rxSigComplex)\n",
    "\n",
    "    return rxSigFreq\n",
    "\n",
    "tf.math.reduce_variance(getRxData('.',[2,20,14,3276]) - rxSigFreq2/3.8419538)\n"
   ]
  },
  {
   "cell_type": "code",
   "execution_count": 33,
   "id": "00d4aaf0",
   "metadata": {},
   "outputs": [
    {
     "name": "stdout",
     "output_type": "stream",
     "text": [
      "XLA can lead to reduced numerical precision. Use with care.\n"
     ]
    }
   ],
   "source": [
    "# We need to enable sionna.config.xla_compat before we can use\n",
    "# tf.function with jit_compile=True.\n",
    "# See https://nvlabs.github.io/sionna/api/config.html#sionna.Config.xla_compat\n",
    "sionna.config.xla_compat=True\n",
    "\n",
    "class Converter():\n",
    "\n",
    "    def __init__(self, mode=1):  \n",
    "        super().__init__()\n",
    "        # Create a PUSCH configuration with default settings\n",
    "        pusch_config = PUSCHConfig()\n",
    "\n",
    "        pusch_config.mapping_type = 'A'\n",
    "        pusch_config.n_size_bwp = 4\n",
    "        pusch_config.n_start_bwp = 0\n",
    "        pusch_config.num_layers = 1\n",
    "        pusch_config.num_antenna_ports = 1\n",
    "        pusch_config.precoding = 'non-codebook'\n",
    "        pusch_config.tpmi = 0\n",
    "        pusch_config.transform_precoding = False\n",
    "        pusch_config.n_rnti = 2001\n",
    "\n",
    "        pusch_config.carrier.cyclic_prefix = \"normal\"\n",
    "        pusch_config.carrier.subcarrier_spacing = 30\n",
    "        pusch_config.carrier.n_cell_id = 500\n",
    "        pusch_config.carrier.n_size_grid = 273\n",
    "        pusch_config.carrier.n_start_grid = 0\n",
    "        # pusch_config.carrier.slot_number = 4\n",
    "\n",
    "        pusch_config.dmrs.config_type = 1\n",
    "        pusch_config.dmrs.length = 1\n",
    "        pusch_config.dmrs.additional_position = 1\n",
    "        pusch_config.dmrs.dmrs_port_set = [0]\n",
    "        pusch_config.dmrs.n_id = 0\n",
    "        pusch_config.dmrs.n_scid = 0\n",
    "        pusch_config.dmrs.num_cdm_groups_without_data = 2\n",
    "        pusch_config.dmrs.type_a_position = 2\n",
    "\n",
    "        pusch_config.tb.channel_type = 'PUSCH'\n",
    "        pusch_config.tb.n_id = 20\n",
    "        pusch_config.tb.mcs_table = 1\n",
    "        pusch_config.tb.mcs_index = 2\n",
    "\n",
    "        self._pusch_config = pusch_config\n",
    "        # Instantiate a PUSCHTransmitter from the PUSCHConfig\n",
    "        self._pusch_transmitter = PUSCHTransmitter(pusch_config)\n",
    "                \n",
    "        \n",
    "        rx_tx_association = np.ones([1, 1], bool)\n",
    "        stream_management = StreamManagement(rx_tx_association,1)\n",
    "        \n",
    "        \n",
    "     \n",
    "\n",
    "        detector = MaximumLikelihoodDetector(output=\"bit\",\n",
    "                                             demapping_method=\"maxlog\",\n",
    "                                             resource_grid=self._pusch_transmitter.resource_grid,\n",
    "                                             stream_management=stream_management,\n",
    "                                             constellation_type=\"qam\",\n",
    "                                             num_bits_per_symbol=pusch_config.tb.num_bits_per_symbol)\n",
    "            \n",
    "        if mode==0:\n",
    "            self._pusch_receiver = PUSCHReceiver(self._pusch_transmitter,\n",
    "                                                 mimo_detector=detector,\n",
    "                                                 channel_estimator=\"perfect\")\n",
    "        else:\n",
    "            self._pusch_receiver = PUSCHReceiver(self._pusch_transmitter)\n",
    "        \n",
    "        # Configure antenna arrays\n",
    "        ut_antenna = Antenna(polarization=\"single\",\n",
    "                     polarization_type=\"V\",\n",
    "                     antenna_pattern=\"38.901\",\n",
    "                     carrier_frequency=2.55e9)\n",
    "\n",
    "        bs_array = AntennaArray(num_rows=1,\n",
    "                                num_cols=4,\n",
    "                                polarization=\"dual\",\n",
    "                                polarization_type=\"cross\",\n",
    "                                antenna_pattern=\"38.901\",\n",
    "                                carrier_frequency=2.55e9)\n",
    "        cdl = CDL(\"C\", 100e-9, 2.55e9, ut_antenna, bs_array, \"uplink\", min_speed=10)\n",
    "\n",
    "        self._channel = OFDMChannel(cdl,\n",
    "                            self._pusch_transmitter.resource_grid,\n",
    "                            return_channel=True)\n",
    "\n",
    "    def gen(self, ebno_db, num_slots, dir='../TestVector/case1412'):\n",
    "        num_slots_per_frame = self._pusch_config.carrier.num_slots_per_frame\n",
    "        assert num_slots % num_slots_per_frame == 0, 'num_slots must be a multiple of num_slots_per_frame'\n",
    "        num_frames = num_slots // num_slots_per_frame\n",
    "        \n",
    "\n",
    "        slotSetInFrame = tf.constant([4,5,14,15])\n",
    "        \n",
    "        \n",
    "        b = tf.Variable(tf.zeros([1, 1, num_frames, num_slots_per_frame, self._pusch_config.tb_size]))\n",
    "        b_hat = tf.Variable(tf.zeros([1, 1, num_frames, num_slots_per_frame, self._pusch_config.tb_size]))\n",
    "        c = tf.Variable(tf.zeros([1, 1, num_frames, num_slots_per_frame, self._pusch_config.num_coded_bits]))\n",
    "        \n",
    "        num_subcarriers = self._pusch_config.carrier.n_size_grid*12\n",
    "        num_symbols_per_slot =  self._pusch_config.carrier.num_symbols_per_slot\n",
    "        \n",
    "        x = tf.Variable(tf.zeros([1, 1, 1, num_frames, num_slots_per_frame, num_symbols_per_slot, num_subcarriers], dtype=tf.complex64))\n",
    "        y = tf.Variable(tf.zeros([1, 1, 8, num_frames, num_slots_per_frame, num_symbols_per_slot, num_subcarriers], dtype=tf.complex64))\n",
    "        \n",
    "        for frameIdx in range(num_frames):\n",
    "            self._pusch_transmitter._pusch_configs[0].carrier.frame_number = frameIdx\n",
    "            for slotIdx in slotSetInFrame:\n",
    "                self._pusch_transmitter._pusch_configs[0].carrier.slot_number = slotIdx\n",
    "\n",
    "                \n",
    "                x_i, b_i, c_i = self._pusch_transmitter(1, ret=['c'])\n",
    "                \n",
    "                n_start_subcarriers = 12*self._pusch_transmitter._pusch_configs[0].n_start_bwp\n",
    "                n_end_subcarriers = n_start_subcarriers + 12*self._pusch_transmitter._pusch_configs[0].n_size_bwp\n",
    "\n",
    "                b[:,:,frameIdx,slotIdx,:].assign(b_i)\n",
    "                c[:,:,frameIdx,slotIdx,:].assign(c_i)\n",
    "                x[:,:,:,frameIdx,slotIdx,:,n_start_subcarriers:n_end_subcarriers].assign(x_i)\n",
    "\n",
    "                no = ebnodb2no(ebno_db,\n",
    "                            self._pusch_transmitter._num_bits_per_symbol,\n",
    "                            self._pusch_transmitter._target_coderate,\n",
    "                            self._pusch_transmitter.resource_grid)\n",
    "                \n",
    "                y_i, h_i = self._channel([x_i, no])\n",
    "                y[:,:,:,frameIdx,slotIdx,:,n_start_subcarriers:n_end_subcarriers].assign(y_i)\n",
    "                if self._pusch_receiver._perfect_csi:\n",
    "                    b_hat_i = self._pusch_receiver([y_i, h_i, no])\n",
    "                else:\n",
    "                    b_hat_i = self._pusch_receiver([y_i, no])\n",
    "                \n",
    "                b_hat[:,:,frameIdx,slotIdx,:].assign(b_hat_i)\n",
    "        \n",
    "            examplePath = os.path.join(dir,f'Frame{frameIdx:03d}')\n",
    "            os.makedirs(examplePath, exist_ok=True)\n",
    "\n",
    "            setCfgReg(self._pusch_transmitter, examplePath, 8, frameIdx, slotSetInFrame)\n",
    "            setUlCfgReq(self._pusch_transmitter, examplePath, 8, frameIdx, slotSetInFrame)\n",
    "            set_null(examplePath)\n",
    "            print(setRxData(y[0,0,:,frameIdx],examplePath))\n",
    "\n",
    "        return b, b_hat, c, x, y\n",
    "\n",
    "# b, b_hat, c, x, y = Converter().gen(30.,20)\n",
    "# print(b.shape, b_hat.shape, c.shape, y.shape)"
   ]
  },
  {
   "cell_type": "code",
   "execution_count": 34,
   "id": "ef47fe1f",
   "metadata": {},
   "outputs": [
    {
     "data": {
      "text/plain": [
       "[None,\n",
       " None,\n",
       " None,\n",
       " None,\n",
       " <sionna.nr.pusch_config.PUSCHConfig at 0x7e3648615c90>,\n",
       " <sionna.nr.pusch_config.PUSCHConfig at 0x7e364860d5d0>,\n",
       " None,\n",
       " None,\n",
       " None,\n",
       " None,\n",
       " None,\n",
       " None,\n",
       " None,\n",
       " None,\n",
       " <sionna.nr.pusch_config.PUSCHConfig at 0x7e364868ea90>,\n",
       " <sionna.nr.pusch_config.PUSCHConfig at 0x7e36486a3c90>,\n",
       " None,\n",
       " None,\n",
       " None,\n",
       " None]"
      ]
     },
     "execution_count": 34,
     "metadata": {},
     "output_type": "execute_result"
    }
   ],
   "source": [
    "def getUlCfg(dir):\n",
    "    with open(f\"{dir}/cfgReq.cfg\", \"r\") as f:  # Replace with your actual file path\n",
    "        splitted = f.read().split('\\n\\n')\n",
    "        test_config = BeautifulSoup(splitted[1], \"xml\")\n",
    "        config_req = BeautifulSoup(splitted[2], \"xml\")\n",
    "        rx_config = BeautifulSoup(splitted[3], \"xml\")\n",
    "\n",
    "    nSlot = int(test_config.find('numSlots').text)\n",
    "    pusch_config = PUSCHConfig()\n",
    "    pusch_config.dmrs.type_a_position = int(config_req.find('nDMRSTypeAPos').text)\n",
    "    pusch_config.carrier.n_cell_id = int(config_req.find('nPhyCellId').text)\n",
    "    pusch_config.carrier.subcarrier_spacing = 15*2**int(config_req.find('nSubcCommon').text)\n",
    "\n",
    "    pusch_configs = []\n",
    "    for slotIdx in range(nSlot):\n",
    "        slotCfg = rx_config.find(f'SlotNum{slotIdx}').text\n",
    "        if slotCfg == 'null.cfg':\n",
    "            pusch_configs.append(None)\n",
    "        else:\n",
    "            with open(f\"{dir}/{slotCfg}\", \"r\") as f:  # Replace with your actual file path\n",
    "                ul_config_req = BeautifulSoup(f.read(), \"xml\")\n",
    "            pusch_config_i = pusch_config.clone()\n",
    "\n",
    "            pusch_config_i.carrier.subcarrier_spacing = 15*2**int(ul_config_req.find('nSubcSpacing').text)\n",
    "            pusch_config_i.carrier.frame_number = int(ul_config_req.find('nSFN').text)\n",
    "            pusch_config_i.carrier.slot_number = int(ul_config_req.find('nSlot').text)\n",
    "            pusch_config_i.carrier.n_size_grid = int(ul_config_req.find('nBWPSize').text)\n",
    "            pusch_config_i.carrier.n_start_grid = int(ul_config_req.find('nBWPStart').text)\n",
    "            pusch_config_i.carrier.cyclic_prefix = 'normal' if int(ul_config_req.find('nCpType').text) == 0 else 'extended'\n",
    "\n",
    "            pusch_config_i.n_rnti = int(ul_config_req.find('nRNTI').text)\n",
    "            pusch_config_i.tpmi = int(ul_config_req.find('nPMI').text)\n",
    "            pusch_config_i.n_size_bwp = int(ul_config_req.find('nRBSize').text)\n",
    "            pusch_config_i.n_start_bwp = int(ul_config_req.find('nRBStart').text)\n",
    "            pusch_config_i.mapping_type = 'A' if int(ul_config_req.find('nMappingType').text) == 0 else 'B'\n",
    "            pusch_config_i.transform_precoding = bool(int(ul_config_req.find('nTransPrecode').text))\n",
    "            pusch_config_i.precoding = 'non-codebook' if int(ul_config_req.find('nTransmissionScheme').text) == 0 else 'codebook'\n",
    "            pusch_config_i.num_layers = int(ul_config_req.find('nNrOfLayers').text)\n",
    "\n",
    "            pusch_config_i.tb.n_id = int(ul_config_req.find('nNid').text)\n",
    "            pusch_config_i.tb.mcs_table = int(ul_config_req.find('nMcsTable').text) + 1\n",
    "            pusch_config_i.tb.mcs_index = int(ul_config_req.find('nMCS').text)\n",
    "            \n",
    "            pusch_config_i.dmrs.config_type = int(ul_config_req.find('nDMRSConfigType').text) + 1\n",
    "            pusch_config_i.dmrs.num_cdm_groups_without_data = int(ul_config_req.find('nNrOfCDMs').text)\n",
    "            pusch_config_i.dmrs.length = int(ul_config_req.find('nNrOfDMRSSymbols').text)\n",
    "            pusch_config_i.dmrs.additional_position = int(ul_config_req.find('nDMRSAddPos').text)\n",
    "            pusch_config_i.dmrs.dmrs_port_set = [0]\n",
    "            pusch_config_i.dmrs.n_scid = int(ul_config_req.find('nSCID').text)\n",
    "            pusch_config_i.dmrs.n_id= int(ul_config_req.find('nNIDnSCID').text)\n",
    "\n",
    "            pusch_configs.append(pusch_config_i)\n",
    "\n",
    "    return pusch_configs      \n",
    "getUlCfg('/workspaces/sionna/TestVector/case1412/Frame000')"
   ]
  },
  {
   "cell_type": "code",
   "execution_count": 35,
   "id": "97233d86",
   "metadata": {},
   "outputs": [],
   "source": [
    "# # We need to enable sionna.config.xla_compat before we can use\n",
    "# # tf.function with jit_compile=True.\n",
    "# # See https://nvlabs.github.io/sionna/api/config.html#sionna.Config.xla_compat\n",
    "# sionna.config.xla_compat=True\n",
    "\n",
    "# class Simulator(tf.keras.layers.Layer):\n",
    "#     def __init__(self, pusch_config, channel_model, mode=1, dir='../Dataset'):\n",
    "#         super().__init__()\n",
    "#         # Create a PUSCH configuration with default settings\n",
    "        \n",
    "#         self.dir = dir\n",
    "#         os.makedirs(self.dir, exist_ok=True)\n",
    "#         self.size = 0\n",
    "\n",
    "#         self.dirs = {}\n",
    "\n",
    "#         self._pusch_config = pusch_config\n",
    "\n",
    "#         self.tb_size = pusch_config.tb_size\n",
    "#         self.num_coded_bits = pusch_config.num_coded_bits\n",
    "#         self.num_subcarriers = 12*pusch_config.n_size_bwp\n",
    "#         self.num_symbols = pusch_config.symbol_allocation[1]\n",
    "#         # Instantiate a PUSCHTransmitter from the PUSCHConfig\n",
    "#         self._pusch_transmitter = PUSCHTransmitter(pusch_config)\n",
    "                \n",
    "        \n",
    "#         rx_tx_association = np.ones([1, 1], bool)\n",
    "#         stream_management = StreamManagement(rx_tx_association,1)   \n",
    "\n",
    "#         detector = MaximumLikelihoodDetector(output=\"bit\",\n",
    "#                                              demapping_method=\"maxlog\",\n",
    "#                                              resource_grid=self._pusch_transmitter.resource_grid,\n",
    "#                                              stream_management=stream_management,\n",
    "#                                              constellation_type=\"qam\",\n",
    "#                                              num_bits_per_symbol=pusch_config.tb.num_bits_per_symbol)\n",
    "            \n",
    "#         if mode==0:\n",
    "#             self._pusch_receiver = PUSCHReceiver(self._pusch_transmitter,\n",
    "#                                                  mimo_detector=detector,\n",
    "#                                                  channel_estimator=\"perfect\")\n",
    "#         else:\n",
    "#             self._pusch_receiver = PUSCHReceiver(self._pusch_transmitter)\n",
    "        \n",
    "\n",
    "#         file_path = os.path.join(f'{self.dir}', f'pusch_transmiter.txt')\n",
    "#         with open(file_path, 'w') as f:\n",
    "#             pusch_transmitter.show(f)\n",
    "    \n",
    "#         self._channel = OFDMChannel(channel_model,\n",
    "#                             self._pusch_transmitter.resource_grid,\n",
    "#                             return_channel=True)\n",
    "\n",
    "#     def poll(self):\n",
    "#         existing_samples = {}\n",
    "#         for no in next(os.walk(self.dir))[1]:\n",
    "#             existing_samples[no] = os.path.getsize(f'{self.dir}/{no}/b.bin') * 8 // self.tb_size\n",
    "#         return existing_samples\n",
    "    \n",
    "    \n",
    "#     def call(self, batch_size, ebno_db):\n",
    "#         no_dir = f'{self.dir}/{ebno_db:03.2f}'\n",
    "#         os.makedirs(no_dir, exist_ok=True)\n",
    "#         no = ebnodb2no(ebno_db,\n",
    "#             self._pusch_transmitter._num_bits_per_symbol,\n",
    "#             self._pusch_transmitter._target_coderate,\n",
    "#             self._pusch_transmitter.resource_grid)\n",
    "#         # File paths\n",
    "#         bbin = os.path.join(no_dir, 'b.bin')\n",
    "#         cbin = os.path.join(no_dir, 'c.bin')\n",
    "#         xbin = os.path.join(no_dir, 'x.bin')\n",
    "#         hbin = os.path.join(no_dir, 'h.bin')\n",
    "#         ybin = os.path.join(no_dir, 'y.bin')\n",
    "\n",
    "#         # Get total stored samples\n",
    "#         existing_samples = 0\n",
    "#         if os.path.exists(bbin):\n",
    "#             existing_samples = os.path.getsize(bbin) * 8 // self.tb_size  # Approximate total stored samples\n",
    "#         # Get last read position or start from 0\n",
    "#         print(self.dirs.get(ebno_db, 0))\n",
    "#         start_idx = self.dirs.get(ebno_db, 0)\n",
    "    \n",
    "#         available_samples = existing_samples - start_idx\n",
    "\n",
    "#         # If next batch is fully available, load it\n",
    "#         if available_samples >= batch_size:\n",
    "#             load_size = batch_size\n",
    "#             generate_size = 0\n",
    "#         else:\n",
    "#             # If not enough, load what exists and generate the rest\n",
    "#             load_size = max(0, available_samples)\n",
    "#             generate_size = batch_size - load_size\n",
    "\n",
    "#         # Initialize placeholders\n",
    "#         b, c, x, h, y = None, None, None, None, None  \n",
    "\n",
    "#         # Load Data from Dataset if Available\n",
    "#         if load_size > 0:\n",
    "\n",
    "#             end_idx = start_idx + load_size\n",
    "#             self.dirs[ebno_db] = end_idx  # Update read position\n",
    "\n",
    "#             with open(bbin, \"rb\") as file:\n",
    "\n",
    "#                 file.seek(start_idx * self.tb_size // 8)\n",
    "#                 b = np.unpackbits(np.frombuffer(file.read(load_size * self.tb_size // 8), dtype=np.uint8))\n",
    "#                 b = b.reshape(load_size, 1, self.tb_size)\n",
    "\n",
    "                \n",
    "#             with open(cbin, \"rb\") as file:\n",
    "#                 file.seek(start_idx * self.num_coded_bits // 8)\n",
    "#                 c = np.unpackbits(np.frombuffer(file.read(load_size * self.num_coded_bits // 8), dtype=np.uint8))\n",
    "#                 c = c.reshape(load_size, 1, self.num_coded_bits)\n",
    "\n",
    "#             with open(xbin, \"rb\") as file:\n",
    "#                 file.seek(start_idx * 1 * 1 * self.num_symbols * self.num_subcarriers * 2 * 2)\n",
    "#                 x = np.frombuffer(file.read(load_size * self.num_symbols * self.num_subcarriers * 2 * 2), dtype=np.int16)\n",
    "#                 x = x.reshape(load_size, 1, 1, self.num_symbols, self.num_subcarriers, 2)\n",
    "#                 x = tf.cast((x[..., 0] + 1j * x[..., 1]) / (2**13), tf.complex64)\n",
    "\n",
    "#             with open(hbin, \"rb\") as file:\n",
    "#                 file.seek(start_idx * 1 * 8 * 1 * 1 * self.num_symbols * self.num_subcarriers * 2 * 2)\n",
    "#                 h = np.frombuffer(file.read(load_size * 8 * self.num_symbols * self.num_subcarriers * 2 * 2), dtype=np.int16)\n",
    "#                 h = h.reshape(load_size, 1, 8, 1, 1, self.num_symbols, self.num_subcarriers, 2)\n",
    "#                 h = tf.cast((h[..., 0] + 1j * h[..., 1]) / (2**13), tf.complex64)\n",
    "\n",
    "#             with open(ybin, \"rb\") as file:\n",
    "#                 file.seek(start_idx * 8 * self.num_symbols * self.num_subcarriers * 2 * 2)\n",
    "#                 y = np.frombuffer(file.read(load_size * 8 * self.num_symbols * self.num_subcarriers * 2 * 2), dtype=np.int16)\n",
    "#                 y = y.reshape(load_size, 1, 8, self.num_symbols, self.num_subcarriers, 2)\n",
    "#                 y = tf.cast((y[..., 0] + 1j * y[..., 1]) / (2**13), tf.complex64)\n",
    "\n",
    "#         # Generate Remaining Data if Needed\n",
    "#         if generate_size > 0:\n",
    "#             end_idx = start_idx + generate_size\n",
    "#             self.dirs[ebno_db] = end_idx\n",
    "#             x_gen, b_gen, c_gen = self._pusch_transmitter(generate_size, ret='c')\n",
    "            \n",
    "#             y_gen, h_gen = self._channel([x_gen, no])\n",
    "\n",
    "#             # Combine Loaded & Generated Data\n",
    "#             if load_size > 0:\n",
    "#                 b = np.concatenate([b, b_gen], axis=0)\n",
    "#                 c = np.concatenate([c, c_gen], axis=0)\n",
    "#                 x = tf.concat([x, x_gen], axis=0)\n",
    "#                 h = tf.concat([h, h_gen], axis=0)\n",
    "#                 y = tf.concat([y, y_gen], axis=0)\n",
    "#             else:\n",
    "#                 b, c, x, h, y = b_gen, c_gen, x_gen, h_gen, y_gen\n",
    "\n",
    "#             # Save Generated Data for Future Use\n",
    "#             with open(bbin, 'ab') as file:\n",
    "#                 file.write(b2b(b_gen))\n",
    "#             with open(cbin, 'ab') as file:\n",
    "#                 file.write(b2b(c_gen))\n",
    "#             with open(xbin, 'ab') as file:\n",
    "#                 file.write(f2f(tf.stack((tf.math.real(x_gen), tf.math.imag(x_gen)), axis=-1)))\n",
    "#             with open(hbin, 'ab') as file:\n",
    "#                 file.write(f2f(tf.stack((tf.math.real(h_gen), tf.math.imag(h_gen)), axis=-1)))\n",
    "#             with open(ybin, 'ab') as file:\n",
    "#                 file.write(f2f(tf.stack((tf.math.real(y_gen), tf.math.imag(y_gen)), axis=-1)))\n",
    "\n",
    "#         # Pass Through Receiver\n",
    "#         if self._pusch_receiver._perfect_csi:\n",
    "#             b_hat = self._pusch_receiver([y, h, no])\n",
    "#         else:\n",
    "#             b_hat = self._pusch_receiver([y, no])\n",
    "#         return b, b_hat"
   ]
  },
  {
   "cell_type": "code",
   "execution_count": 39,
   "id": "bb6a7340",
   "metadata": {},
   "outputs": [],
   "source": [
    "pusch_config = PUSCHConfig()\n",
    "\n",
    "pusch_config.mapping_type = 'A'\n",
    "pusch_config.n_size_bwp = 10\n",
    "pusch_config.n_start_bwp = 0\n",
    "pusch_config.num_layers = 1\n",
    "pusch_config.num_antenna_ports = 1\n",
    "pusch_config.precoding = 'non-codebook'\n",
    "pusch_config.tpmi = 0\n",
    "pusch_config.transform_precoding = False\n",
    "pusch_config.n_rnti = 2001\n",
    "\n",
    "pusch_config.carrier.cyclic_prefix = \"normal\"\n",
    "pusch_config.carrier.subcarrier_spacing = 30\n",
    "pusch_config.carrier.n_cell_id = 500\n",
    "pusch_config.carrier.n_size_grid = 273\n",
    "pusch_config.carrier.n_start_grid = 0\n",
    "pusch_config.carrier.frame_number = 0\n",
    "pusch_config.carrier.slot_number = 4\n",
    "\n",
    "pusch_config.dmrs.config_type = 1\n",
    "pusch_config.dmrs.length = 1\n",
    "pusch_config.dmrs.additional_position = 1\n",
    "pusch_config.dmrs.dmrs_port_set = [0]\n",
    "pusch_config.dmrs.n_id = 0\n",
    "pusch_config.dmrs.n_scid = 0\n",
    "pusch_config.dmrs.num_cdm_groups_without_data = 2\n",
    "pusch_config.dmrs.type_a_position = 2\n",
    "\n",
    "pusch_config.tb.channel_type = 'PUSCH'\n",
    "pusch_config.tb.n_id = 20\n",
    "pusch_config.tb.mcs_table = 1\n",
    "pusch_config.tb.mcs_index = 4"
   ]
  },
  {
   "cell_type": "code",
   "execution_count": 38,
   "id": "02d5e57c",
   "metadata": {},
   "outputs": [],
   "source": [
    "# Configure antenna arrays\n",
    "ut_antenna = Antenna(polarization=\"single\",\n",
    "                polarization_type=\"V\",\n",
    "                antenna_pattern=\"38.901\",\n",
    "                carrier_frequency=2.55e9)\n",
    "\n",
    "bs_array = AntennaArray(num_rows=1,\n",
    "                        num_cols=4,\n",
    "                        polarization=\"dual\",\n",
    "                        polarization_type=\"cross\",\n",
    "                        antenna_pattern=\"38.901\",\n",
    "                        carrier_frequency=2.55e9)\n",
    "cdl = CDL(\"C\", 150e-9, 2.55e9, ut_antenna, bs_array, \"uplink\", min_speed=10)"
   ]
  },
  {
   "cell_type": "code",
   "execution_count": null,
   "id": "8db340ae",
   "metadata": {},
   "outputs": [
    {
     "name": "stdout",
     "output_type": "stream",
     "text": [
      "XLA can lead to reduced numerical precision. Use with care.\n",
      "---- UE 0 ----\n"
     ]
    }
   ],
   "source": [
    "# We need to enable sionna.config.xla_compat before we can use\n",
    "# tf.function with jit_compile=True.\n",
    "# See https://nvlabs.github.io/sionna/api/config.html#sionna.Config.xla_compat\n",
    "sionna.config.xla_compat=True\n",
    "\n",
    "class Generator(tf.keras.layers.Layer):\n",
    "    def __init__(self, pusch_config, channel_model, mode=1, dir='../Dataset'):\n",
    "        super().__init__()\n",
    "        # Create a PUSCH configuration with default settings\n",
    "        self.dir = dir\n",
    "        os.makedirs(self.dir, exist_ok=True)\n",
    "        self.size = 0\n",
    "\n",
    "        self.dirs = {}\n",
    "\n",
    "        self._pusch_config = pusch_config\n",
    "\n",
    "        self.tb_size = pusch_config.tb_size\n",
    "        self.num_coded_bits = pusch_config.num_coded_bits\n",
    "        self.num_subcarriers = 12*pusch_config.n_size_bwp\n",
    "        self.num_symbols = pusch_config.symbol_allocation[1]\n",
    "        # Instantiate a PUSCHTransmitter from the PUSCHConfig\n",
    "        self._pusch_transmitter = PUSCHTransmitter(pusch_config)\n",
    "                \n",
    "        \n",
    "        rx_tx_association = np.ones([1, 1], bool)\n",
    "        stream_management = StreamManagement(rx_tx_association,1)   \n",
    "\n",
    "        detector = MaximumLikelihoodDetector(output=\"bit\",\n",
    "                                             demapping_method=\"maxlog\",\n",
    "                                             resource_grid=self._pusch_transmitter.resource_grid,\n",
    "                                             stream_management=stream_management,\n",
    "                                             constellation_type=\"qam\",\n",
    "                                             num_bits_per_symbol=pusch_config.tb.num_bits_per_symbol)\n",
    "            \n",
    "        if mode==0:\n",
    "            self._pusch_receiver = PUSCHReceiver(self._pusch_transmitter,\n",
    "                                                 mimo_detector=detector,\n",
    "                                                 channel_estimator=\"perfect\")\n",
    "        else:\n",
    "            self._pusch_receiver = PUSCHReceiver(self._pusch_transmitter)\n",
    "        \n",
    "\n",
    "        file_path = os.path.join(f'{self.dir}', f'pusch_transmiter.txt')\n",
    "        with open(file_path, 'w') as f:\n",
    "            self._pusch_transmitter.show(f)\n",
    "    \n",
    "        self._channel = OFDMChannel(channel_model,\n",
    "                            self._pusch_transmitter.resource_grid,\n",
    "                            return_channel=True)\n",
    "\n",
    "        self.save_to_dataset = False\n",
    "\n",
    "        self.generator = tf.data.Dataset.from_generator(self.load, \n",
    "                               output_signature=(\n",
    "                                tf.TensorSpec(shape=(1, self.tb_size), dtype=tf.float32),\n",
    "                                tf.TensorSpec(shape=(1, self.tb_size), dtype=tf.float32),\n",
    "                                tf.TensorSpec(shape=(1, self.num_coded_bits), dtype=tf.float32),\n",
    "                                tf.TensorSpec(shape=(1, 1, self.num_symbols, self.num_subcarriers), dtype=tf.complex64),\n",
    "                                tf.TensorSpec(shape=(1, 8, 1, 1, self.num_symbols, self.num_subcarriers), dtype=tf.complex64),\n",
    "                                tf.TensorSpec(shape=(1, 8, self.num_symbols, self.num_subcarriers), dtype=tf.complex64),\n",
    "                                tf.TensorSpec(shape=(), dtype=tf.float32),\n",
    "                                ))\n",
    "\n",
    "    def poll(self):\n",
    "        existing_samples = os.path.getsize(f'{self.dir}/b.bin') * 8 // self.tb_size\n",
    "        return existing_samples\n",
    "        \n",
    "    def call(self, batch_size, ebno_db):\n",
    "        if self.save_to_dataset:\n",
    "            # no_dir = f'{self.dir}/{ebno_db:03.2f}'\n",
    "            no_dir = f'{self.dir}'\n",
    "            os.makedirs(no_dir, exist_ok=True)\n",
    "        # self.size > 2**16: self.new_dir()\n",
    "        x, b, c = self._pusch_transmitter(batch_size, ret=['c'])\n",
    "        # print(x.shape,b.shape,c.shape,x_map.shape, x_layer.shape)            \n",
    "        no = ebnodb2no(ebno_db,\n",
    "                    self._pusch_transmitter._num_bits_per_symbol,\n",
    "                    self._pusch_transmitter._target_coderate,\n",
    "                    self._pusch_transmitter.resource_grid)\n",
    "        y, h = self._channel([x, no])\n",
    "        # print(y.shape, h.shape)\n",
    "        # self.size += batch_size\n",
    "\n",
    "\n",
    "        if self.save_to_dataset:\n",
    "            bbin = os.path.join(f'{no_dir}', f'b.bin')\n",
    "            with open(bbin, 'ab') as file:\n",
    "                file.write(b2b(b))\n",
    "\n",
    "            cbin = os.path.join(f'{no_dir}', f'c.bin')\n",
    "            with open(cbin, 'ab') as file:\n",
    "                file.write(b2b(c))\n",
    "\n",
    "            xbin = os.path.join(f'{no_dir}', f'x.bin')\n",
    "            with open(xbin, 'ab') as file:\n",
    "                file.write(f2f(tf.stack((tf.math.real(x), tf.math.imag(x)), axis=-1)))\n",
    "\n",
    "            hbin = os.path.join(f'{no_dir}', f'h.bin')\n",
    "            with open(hbin, 'ab') as file:\n",
    "                file.write(f2f(tf.stack((tf.math.real(h), tf.math.imag(h)), axis=-1)))\n",
    "                \n",
    "            ybin = os.path.join(f'{no_dir}', f'y.bin')\n",
    "            with open(ybin, 'ab') as file:\n",
    "                file.write(f2f(tf.stack((tf.math.real(y), tf.math.imag(y)), axis=-1)))\n",
    "            \n",
    "            batch_no = tf.repeat(no, repeats=batch_size)\n",
    "            nobin = os.path.join(f'{no_dir}', f'no.bin')\n",
    "            with open(nobin, 'ab') as file:\n",
    "                file.write(tf.cast((batch_no * (2 ** 6)), tf.int8))\n",
    "            \n",
    "        if self._pusch_receiver._perfect_csi:\n",
    "            b_hat = self._pusch_receiver([y, h, no])\n",
    "            # print(compute_ber(b,self._pusch_receiver([yy, hh, no])))\n",
    "        else:\n",
    "            b_hat = self._pusch_receiver([y, no])\n",
    "            # print(compute_ber(b,self._pusch_receiver([yy, no])))\n",
    "\n",
    "        if self.save_to_dataset:\n",
    "            b_hatbin = os.path.join(f'{no_dir}', f'b_hat.bin')\n",
    "            with open(b_hatbin, 'ab') as file:\n",
    "                file.write(b2b(b_hat))\n",
    "        return b, b_hat\n",
    "       \n",
    "        \n",
    "\n",
    "    def load(self):\n",
    "        batch_size = 1\n",
    "        no_dir = f'{self.dir}'\n",
    "\n",
    "        with open(os.path.join(no_dir, 'b.bin'), \"rb\") as bfile, \\\n",
    "                open(os.path.join(no_dir, 'b_hat.bin'), \"rb\") as b_hatfile, \\\n",
    "                open(os.path.join(no_dir, 'c.bin'), \"rb\") as cfile, \\\n",
    "                open(os.path.join(no_dir, 'x.bin'), \"rb\") as xfile, \\\n",
    "                open(os.path.join(no_dir, 'h.bin'), \"rb\") as hfile, \\\n",
    "                open(os.path.join(no_dir, 'y.bin'), \"rb\") as yfile, \\\n",
    "                open(os.path.join(no_dir, 'no.bin'), \"rb\") as nofile:\n",
    "        \n",
    "            while True:\n",
    "                b_batch = np.frombuffer(bfile.read(batch_size * self.tb_size // 8), dtype=np.uint8)\n",
    "                b_hat_batch = np.frombuffer(b_hatfile.read(batch_size * self.tb_size // 8), dtype=np.uint8)\n",
    "                c_batch = np.frombuffer(cfile.read(batch_size * self.num_coded_bits // 8), dtype=np.uint8)\n",
    "                x_batch = np.frombuffer(xfile.read(batch_size * self.num_symbols * self.num_subcarriers * 2 * 2), dtype=np.int16)\n",
    "                h_batch = np.frombuffer(hfile.read(batch_size * 8 * self.num_symbols * self.num_subcarriers * 2 * 2), dtype=np.int16)\n",
    "                y_batch = np.frombuffer(yfile.read(batch_size * 8 * self.num_symbols * self.num_subcarriers * 2 * 2), dtype=np.int16)\n",
    "                no_batch = np.frombuffer(nofile.read(batch_size), dtype=np.int8)\n",
    "\n",
    "                if not b_batch.size: break  # Stop when reaching the end\n",
    "\n",
    "\n",
    "                b = tf.cast(np.unpackbits(b_batch).reshape(1, self.tb_size),tf.float32)\n",
    "                b_hat = tf.cast(np.unpackbits(b_hat_batch).reshape(1, self.tb_size),tf.float32)\n",
    "                c = tf.cast(np.unpackbits(c_batch).reshape(1, self.num_coded_bits),tf.float32)\n",
    "                x = (x_batch.reshape(1, 1, self.num_symbols, self.num_subcarriers, 2))\n",
    "                x = tf.cast((x[..., 0] + 1j * x[..., 1]) / (2**13), tf.complex64)\n",
    "                h = (h_batch.reshape(1, 8, 1, 1, self.num_symbols, self.num_subcarriers, 2))\n",
    "                h = tf.cast((h[..., 0] + 1j * h[..., 1]) / (2**13), tf.complex64)\n",
    "                y = (y_batch.reshape(1, 8, self.num_symbols, self.num_subcarriers, 2))\n",
    "                y = tf.cast((y[..., 0] + 1j * y[..., 1]) / (2**13), tf.complex64)\n",
    "                no = tf.cast(no_batch / (2**6), tf.float32)[0]\n",
    "\n",
    "                yield b, b_hat, c, x, h, y, no\n",
    "    \n",
    "    def from_load(self, batch_size):\n",
    "        for _, (b, _, _, _, h, y, no) in enumerate(self.load(batch_size)):  # Loop through batches\n",
    "            # print(f\"Processing batch {batch_num+1}:\", b.shape, c.shape, x.shape, h.shape, y.shape, no.shape)\n",
    "\n",
    "            # Perform PUSCH reception\n",
    "            if self._pusch_receiver._perfect_csi:\n",
    "                b_hat = self._pusch_receiver([y, h, no])\n",
    "            else:\n",
    "                b_hat = self._pusch_receiver([y, no])\n",
    "\n",
    "            # print(\"BER:\", compute_ber(b, b_hat))\n",
    "            yield b, b_hat  # Yield the batch instead of returning\n",
    "    \n",
    "    def from_load_2(self, batch_size):\n",
    "        \n",
    "        for _, (b, b_hat, _, _, _, _, _) in enumerate(self.load(batch_size)):  # Loop through batches\n",
    "            # print(f\"Processing batch {batch_num+1}:\", b.shape, c.shape, x.shape, h.shape, y.shape, no.shape)\n",
    "\n",
    "            # print(\"BER:\", compute_ber(b, b_hat))\n",
    "            yield b, b_hat  # Yield the batch instead of returning\n",
    "\n",
    "sim = Generator(pusch_config, cdl, dir = '/workspaces/sionna/Dataset/CaseNo/152')\n"
   ]
  },
  {
   "cell_type": "code",
   "execution_count": null,
   "id": "4f2abef4",
   "metadata": {},
   "outputs": [],
   "source": [
    "# # We need to enable sionna.config.xla_compat before we can use\n",
    "# # tf.function with jit_compile=True.\n",
    "# # See https://nvlabs.github.io/sionna/api/config.html#sionna.Config.xla_compat\n",
    "# sionna.config.xla_compat=True\n",
    "\n",
    "# class (tf.keras.Model):\n",
    "#     def __init__(self, generator):\n",
    "#         super().__init__()\n",
    "#         # Create a PUSCH configuration with default settings\n",
    "#         self.generator = generator\n",
    "#         self.batch_gen = self.generator.batch():\n",
    "#     @tf.function(jit_compile=True)    \n",
    "#     def call(self, batch_size, ebno_db):\n",
    "#         self.generator\n",
    "#         if self._pusch_receiver._perfect_csi:\n",
    "#             b_hat = self._pusch_receiver([y, h, no])\n",
    "#             # print(compute_ber(b,self._pusch_receiver([yy, hh, no])))\n",
    "#         else:\n",
    "#             b_hat = self._pusch_receiver([y, no])\n",
    "#             # print(compute_ber(b,self._pusch_receiver([yy, no])))\n",
    "\n",
    "#         return b, b_hat\n",
    "       \n",
    "# loader_layer2 = Generator2(pusch_config, cdl,0,'/workspaces/sionna/Dataset/CaseNo/151')"
   ]
  },
  {
   "cell_type": "code",
   "execution_count": 81,
   "id": "dad5bcb1",
   "metadata": {},
   "outputs": [
    {
     "data": {
      "text/plain": [
       "16"
      ]
     },
     "execution_count": 81,
     "metadata": {},
     "output_type": "execute_result"
    }
   ],
   "source": [
    "sim.poll()"
   ]
  },
  {
   "cell_type": "code",
   "execution_count": 86,
   "id": "16406376",
   "metadata": {},
   "outputs": [
    {
     "name": "stdout",
     "output_type": "stream",
     "text": [
      "7\n",
      "7\n",
      "7\n",
      "7\n",
      "7\n",
      "7\n",
      "7\n",
      "7\n"
     ]
    }
   ],
   "source": [
    "for batch in sim.generator.batch(2):\n",
    "    print(len(batch))"
   ]
  },
  {
   "cell_type": "markdown",
   "id": "d18f8840",
   "metadata": {},
   "source": [
    "We will now compare the PUSCH BLER performance over the 3GPP 38.901 UMi channel model with different detectors and either perfect or imperfect CSI.\n",
    "Note that these simulations might take some time depending or you available hardware. You can reduce the `batch_size` if the model does not fit into the memory of your GPU. Running the simulations in the time domain will significantly increase the complexity and you might need to decrease the `batch_size` further. The code will also run on CPU if not GPU is available. \n",
    "\n",
    "Note that the XLA compilation step can take several minutes, but the simulations will be much faster compared to eager or graph mode.\n",
    "\n",
    "If you do not want to run the simulation yourself, you can skip the next cell and visualize the results in the next cell."
   ]
  },
  {
   "cell_type": "code",
   "execution_count": null,
   "id": "7531ba22",
   "metadata": {},
   "outputs": [],
   "source": [
    "class MyPUSCHConfig(PUSCHConfig):\n",
    "    def __init__(self):\n",
    "        super().__init__(\n",
    "            carrier_config=CarrierConfig(\n",
    "                n_cell_id=500,\n",
    "                cyclic_prefix=\"normal\",\n",
    "                subcarrier_spacing=30,\n",
    "                n_size_grid=273,\n",
    "                n_start_grid=0,\n",
    "                slot_number=4,\n",
    "                frame_number=0\n",
    "            ),\n",
    "            pusch_dmrs_config=PUSCHDMRSConfig(\n",
    "                config_type=1,\n",
    "                length=1,\n",
    "                additional_position=1,\n",
    "                dmrs_port_set=[0],\n",
    "                n_id=0,\n",
    "                n_scid=0,\n",
    "                num_cdm_groups_without_data=2,\n",
    "                type_a_position=2\n",
    "            ),\n",
    "            tb_config=TBConfig(\n",
    "                channel_type='PUSCH',\n",
    "                n_id=20,\n",
    "                mcs_table=1,\n",
    "                mcs_index=9\n",
    "            ),\n",
    "            mapping_type='A',\n",
    "            n_size_bwp=273,\n",
    "            n_start_bwp=0,\n",
    "            num_layers=1,\n",
    "            num_antenna_ports=1,\n",
    "            precoding='non-codebook',\n",
    "            tpmi=0,\n",
    "            transform_precoding=False,\n",
    "            n_rnti=2001,\n",
    "            symbol_allocation=[0,14]\n",
    "        )\n",
    "\n",
    "pusch_config_0 = MyPUSCHConfig()\n",
    "pusch_config_0.show()"
   ]
  },
  {
   "cell_type": "code",
   "execution_count": 79,
   "id": "d2e87358",
   "metadata": {},
   "outputs": [],
   "source": [
    "PUSCH_SIMS = {\n",
    "    \"bler\" : [],\n",
    "    \"ber\" : [],\n",
    "    \"cdl\": ['A'],\n",
    "    \"delay_spread\": [150e-9],\n",
    "    \"speed\": [10],\n",
    "    \"RBSize\": [100],\n",
    "    \"MCS\": [(4,)]\n",
    "    }"
   ]
  },
  {
   "cell_type": "code",
   "execution_count": null,
   "id": "c335e1f6",
   "metadata": {},
   "outputs": [
    {
     "name": "stdout",
     "output_type": "stream",
     "text": [
      "../Dataset/11_2_8_30/CDLC150-10/MCS_4-10_RBs\n",
      "---- UE 0 ----\n",
      "EbNo [dB] |        BER |       BLER |  bit errors |    num bits | block errors |  num blocks | runtime [s] |    status\n",
      "---------------------------------------------------------------------------------------------------------------------------------------\n",
      "     -8.0 | 2.4821e-02 | 9.7656e-02 |       11285 |      454656 |           50 |         512 |        11.5 |reached max iter       \n",
      "     -7.5 | 1.6778e-02 | 6.4453e-02 |        7628 |      454656 |           33 |         512 |        10.8 |reached max iter       \n",
      "     -7.0 | 8.3162e-03 | 3.3203e-02 |        3781 |      454656 |           17 |         512 |        11.0 |reached max iter       \n",
      "     -6.5 | 3.4268e-03 | 1.7578e-02 |        1558 |      454656 |            9 |         512 |        10.9 |reached max iter       \n",
      "     -6.0 | 5.4789e-03 | 1.9531e-02 |        2491 |      454656 |           10 |         512 |        11.1 |reached max iter       \n",
      "     -5.5 | 3.0419e-03 | 9.7656e-03 |        1383 |      454656 |            5 |         512 |        11.4 |reached max iter       \n",
      "     -5.0 | 1.5990e-03 | 5.8594e-03 |         727 |      454656 |            3 |         512 |        10.5 |reached max iter       \n",
      "     -4.5 | 1.1657e-03 | 3.9062e-03 |         530 |      454656 |            2 |         512 |        10.7 |reached max iter       \n",
      "     -4.0 | 1.5396e-04 | 1.9531e-03 |          70 |      454656 |            1 |         512 |        10.8 |reached max iter       \n",
      "     -3.5 | 0.0000e+00 | 0.0000e+00 |           0 |      454656 |            0 |         512 |        10.8 |reached max iter       \n",
      "     -3.0 | 4.2450e-04 | 1.9531e-03 |         193 |      454656 |            1 |         512 |        11.0 |reached max iter       \n",
      "     -2.5 | 0.0000e+00 | 0.0000e+00 |           0 |      454656 |            0 |         512 |        11.9 |reached max iter       \n",
      "     -2.0 | 0.0000e+00 | 0.0000e+00 |           0 |      454656 |            0 |         512 |        13.6 |reached max iter       \n",
      "     -1.5 | 4.5309e-04 | 1.9531e-03 |         206 |      454656 |            1 |         512 |        16.7 |reached max iter       \n",
      "     -1.0 | 0.0000e+00 | 0.0000e+00 |           0 |      454656 |            0 |         512 |        17.2 |reached max iter       \n",
      "     -0.5 | 0.0000e+00 | 0.0000e+00 |           0 |      454656 |            0 |         512 |        10.7 |reached max iter       \n",
      "      0.0 | 0.0000e+00 | 0.0000e+00 |           0 |      454656 |            0 |         512 |        10.7 |reached max iter       \n"
     ]
    }
   ],
   "source": [
    "data_dir = f'../Dataset/{datetime.now().strftime(\"%Y-%m-%d\")}/{datetime.now().strftime(\"%H-%M-%S\")}'\n",
    "save_to_dataset = True\n",
    "start = time.time()\n",
    "caseIdx = 0\n",
    "\n",
    "for cdl_model in PUSCH_SIMS['cdl']:\n",
    "    for delay_spread in PUSCH_SIMS['delay_spread']:\n",
    "        for speed in PUSCH_SIMS['speed']:\n",
    "\n",
    "            channel_model = CDL(cdl_model, delay_spread, 2.55e9, ut_antenna, bs_array, \"uplink\", min_speed=speed)\n",
    "            caseIdx += 1\n",
    "            channel_dir = f'{data_dir}/CDL{cdl_model}{int(delay_spread*1e9)}-{speed}'\n",
    "            \n",
    "            print(dir)\n",
    "            model = Generator(pusch_config_0, channel_model, mode=0, dir=channel_dir)\n",
    "            ber, bler = sim_ber(model,\n",
    "                        np.arange(-8,0.1,0.5),\n",
    "                        batch_size=128,\n",
    "                        max_mc_iter=4,\n",
    "                        num_target_block_errors=512,\n",
    "                        early_stop=False)\n",
    "            PUSCH_SIMS[\"ber\"].append(list(ber.numpy()))\n",
    "            PUSCH_SIMS[\"bler\"].append(list(bler.numpy()))\n",
    "                    \n",
    "PUSCH_SIMS[\"duration\"] = time.time() - start"
   ]
  },
  {
   "cell_type": "code",
   "execution_count": 184,
   "id": "b57ef44e",
   "metadata": {},
   "outputs": [
    {
     "name": "stdout",
     "output_type": "stream",
     "text": [
      "../Dataset/2025-02-11/07-17-10/CDLC150-10/MCS_4-10_RBs\n",
      "---- UE 0 ----\n",
      "EbNo [dB] |        BER |       BLER |  bit errors |    num bits | block errors |  num blocks | runtime [s] |    status\n",
      "---------------------------------------------------------------------------------------------------------------------------------------\n",
      "     -8.0 | 0.0000e+00 | 0.0000e+00 |           0 |       28416 |            0 |          32 |         5.4 |reached max iter       \n",
      "     -7.5 | 1.6892e-02 | 6.2500e-02 |         480 |       28416 |            2 |          32 |         4.5 |reached max iter       \n",
      "     -7.0 | 0.0000e+00 | 0.0000e+00 |           0 |       28416 |            0 |          32 |         4.6 |reached max iter       \n",
      "     -6.5 | 5.2787e-04 | 3.1250e-02 |          15 |       28416 |            1 |          32 |         4.5 |reached max iter       \n",
      "     -6.0 | 0.0000e+00 | 0.0000e+00 |           0 |       28416 |            0 |          32 |         4.5 |reached max iter       \n",
      "     -5.5 | 0.0000e+00 | 0.0000e+00 |           0 |       28416 |            0 |          32 |         4.5 |reached max iter       \n",
      "     -5.0 | 0.0000e+00 | 0.0000e+00 |           0 |       28416 |            0 |          32 |         4.9 |reached max iter       \n"
     ]
    }
   ],
   "source": [
    "data_dir = f'../Dataset/{datetime.now().strftime(\"%Y-%m-%d\")}/{datetime.now().strftime(\"%H-%M-%S\")}'\n",
    "save_to_dataset = True\n",
    "start = time.time()\n",
    "caseIdx = 0\n",
    "\n",
    "for cdl_model in PUSCH_SIMS['cdl']:\n",
    "    for delay_spread in PUSCH_SIMS['delay_spread']:\n",
    "        for speed in PUSCH_SIMS['speed']:\n",
    "\n",
    "            channel_model = CDL(cdl_model, delay_spread, 2.55e9, ut_antenna, bs_array, \"uplink\", min_speed=speed)\n",
    "            caseIdx += 1\n",
    "            channel_dir = f'{data_dir}/CDL{cdl_model}{int(delay_spread*1e9)}-{speed}'\n",
    "            \n",
    "            for n,rbsize in enumerate(PUSCH_SIMS['RBSize']):\n",
    "                for mcs in PUSCH_SIMS['MCS'][n]:\n",
    "\n",
    "                    pusch_config_i = pusch_config.clone()\n",
    "                    pusch_config_i.n_size_bwp = rbsize\n",
    "                    pusch_config_i.tb.mcs_index = mcs\n",
    "                    dir = f'{channel_dir}/MCS_{mcs}-{rbsize}_RBs'\n",
    "                    print(dir)\n",
    "                    model = Generator(pusch_config_i, channel_model, mode=0, dir=dir)\n",
    "                    model.save_to_dataset = save_to_dataset\n",
    "                    ber, bler = sim_ber(model,\n",
    "                                np.arange(-8,-4.9,0.5),\n",
    "                                batch_size=8,\n",
    "                                max_mc_iter=4,\n",
    "                                num_target_block_errors=32,\n",
    "                                early_stop=False)\n",
    "                    PUSCH_SIMS[\"ber\"].append(list(ber.numpy()))\n",
    "                    PUSCH_SIMS[\"bler\"].append(list(bler.numpy()))\n",
    "                    \n",
    "PUSCH_SIMS[\"duration\"] = time.time() - start"
   ]
  },
  {
   "attachments": {},
   "cell_type": "markdown",
   "id": "3ad298b2",
   "metadata": {},
   "source": [
    "Hopefully you have enjoyed this tutorial on Sionna's 5G NR PUSCH module!\n",
    "\n",
    "Please have a look at the [API documentation](https://nvlabs.github.io/sionna/api/sionna.html) of the various components or the other available [tutorials](https://nvlabs.github.io/sionna/tutorials.html) to learn more."
   ]
  },
  {
   "cell_type": "code",
   "execution_count": 188,
   "id": "93d02efd",
   "metadata": {},
   "outputs": [
    {
     "name": "stdout",
     "output_type": "stream",
     "text": [
      "../Dataset/2025-02-11/07-17-10/CDLC150-10/MCS_4-10_RBs\n",
      "---- UE 0 ----\n",
      "EbNo [dB] |        BER |       BLER |  bit errors |    num bits | block errors |  num blocks | runtime [s] |    status\n",
      "---------------------------------------------------------------------------------------------------------------------------------------\n",
      "     -8.0 | 0.0000e+00 | 0.0000e+00 |           0 |       14208 |            0 |          16 |         0.1 | iter: 1/4\r"
     ]
    },
    {
     "name": "stdout",
     "output_type": "stream",
     "text": [
      "     -8.0 | 0.0000e+00 | 0.0000e+00 |           0 |       28416 |            0 |          32 |         0.2 |reached max iter       \n",
      "     -7.5 | 1.6892e-02 | 6.2500e-02 |         480 |       28416 |            2 |          32 |         0.1 |reached max iter       \n",
      "     -7.0 | 0.0000e+00 | 0.0000e+00 |           0 |       28416 |            0 |          32 |         0.1 |reached max iter       \n",
      "     -6.5 | 5.2787e-04 | 3.1250e-02 |          15 |       28416 |            1 |          32 |         0.1 |reached max iter       \n",
      "     -6.0 | 0.0000e+00 | 0.0000e+00 |           0 |       28416 |            0 |          32 |         0.0 |reached max iter       \n",
      "     -5.5 | 0.0000e+00 | 0.0000e+00 |           0 |       28416 |            0 |          32 |         0.0 |reached max iter       \n",
      "     -5.0 | 0.0000e+00 | 0.0000e+00 |           0 |       28416 |            0 |          32 |         0.1 |reached max iter       \n"
     ]
    }
   ],
   "source": [
    "start = time.time()\n",
    "caseIdx = 0\n",
    "\n",
    "for cdl_model in PUSCH_SIMS['cdl']:\n",
    "    for delay_spread in PUSCH_SIMS['delay_spread']:\n",
    "        for speed in PUSCH_SIMS['speed']:\n",
    "\n",
    "            channel_model = CDL(cdl_model, delay_spread, 2.55e9, ut_antenna, bs_array, \"uplink\", min_speed=speed)\n",
    "            caseIdx += 1\n",
    "            channel_dir = f'{data_dir}/CDL{cdl_model}{int(delay_spread*1e9)}-{speed}'\n",
    "            \n",
    "            for n,rbsize in enumerate(PUSCH_SIMS['RBSize']):\n",
    "                for mcs in PUSCH_SIMS['MCS'][n]:\n",
    "\n",
    "                    pusch_config_i = pusch_config.clone()\n",
    "                    pusch_config_i.n_size_bwp = rbsize\n",
    "                    pusch_config_i.tb.mcs_index = mcs\n",
    "                    dir = f'{channel_dir}/MCS_{mcs}-{rbsize}_RBs'\n",
    "                    print(dir)\n",
    "                    model = Generator(pusch_config_i, channel_model, mode=0, dir=dir)\n",
    "                    model.save_to_dataset = False\n",
    "                    qq = model.from_load_2(8)\n",
    "                    loader_layer = lambda batch_size, ebno_db: next(qq) \n",
    "                    # loader_layer = Loader1(model, 16)\n",
    "                    # loader_layer.loader = loader_layer.loader_2\n",
    "                    \n",
    "                    ber, bler = sim_ber(loader_layer,\n",
    "                                np.arange(-8,-4.9,0.5),\n",
    "                                batch_size=8,\n",
    "                                max_mc_iter=4,\n",
    "                                num_target_block_errors=32,\n",
    "                                early_stop=False)\n",
    "                    PUSCH_SIMS[\"ber\"].append(list(ber.numpy()))\n",
    "                    PUSCH_SIMS[\"bler\"].append(list(bler.numpy()))\n",
    "                    \n",
    "PUSCH_SIMS[\"duration\"] = time.time() - start"
   ]
  },
  {
   "cell_type": "code",
   "execution_count": 189,
   "id": "19947b44",
   "metadata": {},
   "outputs": [
    {
     "name": "stdout",
     "output_type": "stream",
     "text": [
      "../Dataset/2025-02-11/07-17-10/CDLC150-10/MCS_4-10_RBs\n",
      "---- UE 0 ----\n",
      "EbNo [dB] |        BER |       BLER |  bit errors |    num bits | block errors |  num blocks | runtime [s] |    status\n",
      "---------------------------------------------------------------------------------------------------------------------------------------\n",
      "     -8.0 | 4.2230e-04 | 1.2500e-01 |          12 |       28416 |            4 |          32 |         3.6 |reached max iter       \n",
      "     -7.5 | 4.7825e-02 | 2.8125e-01 |        1359 |       28416 |            9 |          32 |         3.7 |reached max iter       \n",
      "     -7.0 | 1.6751e-02 | 9.3750e-02 |         476 |       28416 |            3 |          32 |         3.9 |reached max iter       \n",
      "     -6.5 | 1.0593e-02 | 6.2500e-02 |         301 |       28416 |            2 |          32 |         3.8 |reached max iter       \n",
      "     -6.0 | 8.4459e-03 | 9.3750e-02 |         240 |       28416 |            3 |          32 |         3.7 |reached max iter       \n",
      "     -5.5 | 9.1850e-03 | 6.2500e-02 |         261 |       28416 |            2 |          32 |         3.9 |reached max iter       \n",
      "     -5.0 | 0.0000e+00 | 0.0000e+00 |           0 |       28416 |            0 |          32 |         3.6 |reached max iter       \n"
     ]
    }
   ],
   "source": [
    "start = time.time()\n",
    "caseIdx = 0\n",
    "\n",
    "for cdl_model in PUSCH_SIMS['cdl']:\n",
    "    for delay_spread in PUSCH_SIMS['delay_spread']:\n",
    "        for speed in PUSCH_SIMS['speed']:\n",
    "\n",
    "            channel_model = CDL(cdl_model, delay_spread, 2.55e9, ut_antenna, bs_array, \"uplink\", min_speed=speed)\n",
    "            caseIdx += 1\n",
    "            channel_dir = f'{data_dir}/CDL{cdl_model}{int(delay_spread*1e9)}-{speed}'\n",
    "            \n",
    "            for n,rbsize in enumerate(PUSCH_SIMS['RBSize']):\n",
    "                for mcs in PUSCH_SIMS['MCS'][n]:\n",
    "\n",
    "                    pusch_config_i = pusch_config.clone()\n",
    "                    pusch_config_i.n_size_bwp = rbsize\n",
    "                    pusch_config_i.tb.mcs_index = mcs\n",
    "                    dir = f'{channel_dir}/MCS_{mcs}-{rbsize}_RBs'\n",
    "                    print(dir)\n",
    "                    model = Generator(pusch_config_i, channel_model, mode=0, dir=dir)\n",
    "                    model.save_to_dataset = False\n",
    "                    qq = model.from_load(8)\n",
    "                    loader_layer = lambda batch_size, ebno_db: next(qq) \n",
    "                    # loader_layer = Loader1(model, 16)\n",
    "                    # loader_layer.loader = loader_layer.loader_2\n",
    "                    \n",
    "                    ber, bler = sim_ber(loader_layer,\n",
    "                                np.arange(-8,-4.9,0.5),\n",
    "                                batch_size=8,\n",
    "                                max_mc_iter=4,\n",
    "                                num_target_block_errors=32,\n",
    "                                early_stop=False)\n",
    "                    PUSCH_SIMS[\"ber\"].append(list(ber.numpy()))\n",
    "                    PUSCH_SIMS[\"bler\"].append(list(bler.numpy()))\n",
    "                    \n",
    "PUSCH_SIMS[\"duration\"] = time.time() - start"
   ]
  },
  {
   "cell_type": "code",
   "execution_count": null,
   "id": "1e37c240",
   "metadata": {},
   "outputs": [
    {
     "name": "stdout",
     "output_type": "stream",
     "text": [
      "../Dataset/11_2_8_30/CDLC150-10/MCS_4-10_RBs\n",
      "---- UE 0 ----\n",
      "Processing batch 1: (128, 1, 888) (128, 1, 2880) (128, 1, 1, 14, 120) (128, 1, 8, 1, 1, 14, 120) (128, 1, 8, 14, 120) (128,)\n",
      "Processing batch 2: (128, 1, 888) (128, 1, 2880) (128, 1, 1, 14, 120) (128, 1, 8, 1, 1, 14, 120) (128, 1, 8, 14, 120) (128,)\n",
      "Processing batch 3: (128, 1, 888) (128, 1, 2880) (128, 1, 1, 14, 120) (128, 1, 8, 1, 1, 14, 120) (128, 1, 8, 14, 120) (128,)\n",
      "Processing batch 4: (128, 1, 888) (128, 1, 2880) (128, 1, 1, 14, 120) (128, 1, 8, 1, 1, 14, 120) (128, 1, 8, 14, 120) (128,)\n",
      "Processing batch 5: (128, 1, 888) (128, 1, 2880) (128, 1, 1, 14, 120) (128, 1, 8, 1, 1, 14, 120) (128, 1, 8, 14, 120) (128,)\n",
      "Processing batch 6: (128, 1, 888) (128, 1, 2880) (128, 1, 1, 14, 120) (128, 1, 8, 1, 1, 14, 120) (128, 1, 8, 14, 120) (128,)\n",
      "Processing batch 7: (128, 1, 888) (128, 1, 2880) (128, 1, 1, 14, 120) (128, 1, 8, 1, 1, 14, 120) (128, 1, 8, 14, 120) (128,)\n",
      "Processing batch 8: (128, 1, 888) (128, 1, 2880) (128, 1, 1, 14, 120) (128, 1, 8, 1, 1, 14, 120) (128, 1, 8, 14, 120) (128,)\n",
      "Processing batch 9: (128, 1, 888) (128, 1, 2880) (128, 1, 1, 14, 120) (128, 1, 8, 1, 1, 14, 120) (128, 1, 8, 14, 120) (128,)\n",
      "Processing batch 10: (128, 1, 888) (128, 1, 2880) (128, 1, 1, 14, 120) (128, 1, 8, 1, 1, 14, 120) (128, 1, 8, 14, 120) (128,)\n",
      "Processing batch 11: (128, 1, 888) (128, 1, 2880) (128, 1, 1, 14, 120) (128, 1, 8, 1, 1, 14, 120) (128, 1, 8, 14, 120) (128,)\n",
      "Processing batch 12: (128, 1, 888) (128, 1, 2880) (128, 1, 1, 14, 120) (128, 1, 8, 1, 1, 14, 120) (128, 1, 8, 14, 120) (128,)\n",
      "Processing batch 13: (128, 1, 888) (128, 1, 2880) (128, 1, 1, 14, 120) (128, 1, 8, 1, 1, 14, 120) (128, 1, 8, 14, 120) (128,)\n",
      "Processing batch 14: (128, 1, 888) (128, 1, 2880) (128, 1, 1, 14, 120) (128, 1, 8, 1, 1, 14, 120) (128, 1, 8, 14, 120) (128,)\n",
      "Processing batch 15: (128, 1, 888) (128, 1, 2880) (128, 1, 1, 14, 120) (128, 1, 8, 1, 1, 14, 120) (128, 1, 8, 14, 120) (128,)\n",
      "Processing batch 16: (128, 1, 888) (128, 1, 2880) (128, 1, 1, 14, 120) (128, 1, 8, 1, 1, 14, 120) (128, 1, 8, 14, 120) (128,)\n",
      "Processing batch 17: (128, 1, 888) (128, 1, 2880) (128, 1, 1, 14, 120) (128, 1, 8, 1, 1, 14, 120) (128, 1, 8, 14, 120) (128,)\n",
      "Processing batch 18: (128, 1, 888) (128, 1, 2880) (128, 1, 1, 14, 120) (128, 1, 8, 1, 1, 14, 120) (128, 1, 8, 14, 120) (128,)\n",
      "Processing batch 19: (128, 1, 888) (128, 1, 2880) (128, 1, 1, 14, 120) (128, 1, 8, 1, 1, 14, 120) (128, 1, 8, 14, 120) (128,)\n",
      "Processing batch 20: (128, 1, 888) (128, 1, 2880) (128, 1, 1, 14, 120) (128, 1, 8, 1, 1, 14, 120) (128, 1, 8, 14, 120) (128,)\n",
      "Processing batch 21: (128, 1, 888) (128, 1, 2880) (128, 1, 1, 14, 120) (128, 1, 8, 1, 1, 14, 120) (128, 1, 8, 14, 120) (128,)\n",
      "Processing batch 22: (128, 1, 888) (128, 1, 2880) (128, 1, 1, 14, 120) (128, 1, 8, 1, 1, 14, 120) (128, 1, 8, 14, 120) (128,)\n",
      "Processing batch 23: (128, 1, 888) (128, 1, 2880) (128, 1, 1, 14, 120) (128, 1, 8, 1, 1, 14, 120) (128, 1, 8, 14, 120) (128,)\n",
      "Processing batch 24: (128, 1, 888) (128, 1, 2880) (128, 1, 1, 14, 120) (128, 1, 8, 1, 1, 14, 120) (128, 1, 8, 14, 120) (128,)\n",
      "Processing batch 25: (128, 1, 888) (128, 1, 2880) (128, 1, 1, 14, 120) (128, 1, 8, 1, 1, 14, 120) (128, 1, 8, 14, 120) (128,)\n",
      "Processing batch 26: (128, 1, 888) (128, 1, 2880) (128, 1, 1, 14, 120) (128, 1, 8, 1, 1, 14, 120) (128, 1, 8, 14, 120) (128,)\n",
      "Processing batch 27: (128, 1, 888) (128, 1, 2880) (128, 1, 1, 14, 120) (128, 1, 8, 1, 1, 14, 120) (128, 1, 8, 14, 120) (128,)\n",
      "Processing batch 28: (128, 1, 888) (128, 1, 2880) (128, 1, 1, 14, 120) (128, 1, 8, 1, 1, 14, 120) (128, 1, 8, 14, 120) (128,)\n",
      "Processing batch 29: (128, 1, 888) (128, 1, 2880) (128, 1, 1, 14, 120) (128, 1, 8, 1, 1, 14, 120) (128, 1, 8, 14, 120) (128,)\n",
      "Processing batch 30: (128, 1, 888) (128, 1, 2880) (128, 1, 1, 14, 120) (128, 1, 8, 1, 1, 14, 120) (128, 1, 8, 14, 120) (128,)\n",
      "Processing batch 31: (128, 1, 888) (128, 1, 2880) (128, 1, 1, 14, 120) (128, 1, 8, 1, 1, 14, 120) (128, 1, 8, 14, 120) (128,)\n",
      "Processing batch 32: (128, 1, 888) (128, 1, 2880) (128, 1, 1, 14, 120) (128, 1, 8, 1, 1, 14, 120) (128, 1, 8, 14, 120) (128,)\n",
      "Processing batch 33: (128, 1, 888) (128, 1, 2880) (128, 1, 1, 14, 120) (128, 1, 8, 1, 1, 14, 120) (128, 1, 8, 14, 120) (128,)\n",
      "Processing batch 34: (128, 1, 888) (128, 1, 2880) (128, 1, 1, 14, 120) (128, 1, 8, 1, 1, 14, 120) (128, 1, 8, 14, 120) (128,)\n",
      "Processing batch 35: (128, 1, 888) (128, 1, 2880) (128, 1, 1, 14, 120) (128, 1, 8, 1, 1, 14, 120) (128, 1, 8, 14, 120) (128,)\n",
      "Processing batch 36: (128, 1, 888) (128, 1, 2880) (128, 1, 1, 14, 120) (128, 1, 8, 1, 1, 14, 120) (128, 1, 8, 14, 120) (128,)\n",
      "Processing batch 37: (128, 1, 888) (128, 1, 2880) (128, 1, 1, 14, 120) (128, 1, 8, 1, 1, 14, 120) (128, 1, 8, 14, 120) (128,)\n",
      "Processing batch 38: (128, 1, 888) (128, 1, 2880) (128, 1, 1, 14, 120) (128, 1, 8, 1, 1, 14, 120) (128, 1, 8, 14, 120) (128,)\n",
      "Processing batch 39: (128, 1, 888) (128, 1, 2880) (128, 1, 1, 14, 120) (128, 1, 8, 1, 1, 14, 120) (128, 1, 8, 14, 120) (128,)\n",
      "Processing batch 40: (128, 1, 888) (128, 1, 2880) (128, 1, 1, 14, 120) (128, 1, 8, 1, 1, 14, 120) (128, 1, 8, 14, 120) (128,)\n",
      "Processing batch 41: (128, 1, 888) (128, 1, 2880) (128, 1, 1, 14, 120) (128, 1, 8, 1, 1, 14, 120) (128, 1, 8, 14, 120) (128,)\n",
      "Processing batch 42: (128, 1, 888) (128, 1, 2880) (128, 1, 1, 14, 120) (128, 1, 8, 1, 1, 14, 120) (128, 1, 8, 14, 120) (128,)\n",
      "Processing batch 43: (128, 1, 888) (128, 1, 2880) (128, 1, 1, 14, 120) (128, 1, 8, 1, 1, 14, 120) (128, 1, 8, 14, 120) (128,)\n",
      "Processing batch 44: (128, 1, 888) (128, 1, 2880) (128, 1, 1, 14, 120) (128, 1, 8, 1, 1, 14, 120) (128, 1, 8, 14, 120) (128,)\n",
      "Processing batch 45: (128, 1, 888) (128, 1, 2880) (128, 1, 1, 14, 120) (128, 1, 8, 1, 1, 14, 120) (128, 1, 8, 14, 120) (128,)\n",
      "Processing batch 46: (128, 1, 888) (128, 1, 2880) (128, 1, 1, 14, 120) (128, 1, 8, 1, 1, 14, 120) (128, 1, 8, 14, 120) (128,)\n",
      "Processing batch 47: (128, 1, 888) (128, 1, 2880) (128, 1, 1, 14, 120) (128, 1, 8, 1, 1, 14, 120) (128, 1, 8, 14, 120) (128,)\n",
      "Processing batch 48: (128, 1, 888) (128, 1, 2880) (128, 1, 1, 14, 120) (128, 1, 8, 1, 1, 14, 120) (128, 1, 8, 14, 120) (128,)\n",
      "Processing batch 49: (128, 1, 888) (128, 1, 2880) (128, 1, 1, 14, 120) (128, 1, 8, 1, 1, 14, 120) (128, 1, 8, 14, 120) (128,)\n",
      "Processing batch 50: (128, 1, 888) (128, 1, 2880) (128, 1, 1, 14, 120) (128, 1, 8, 1, 1, 14, 120) (128, 1, 8, 14, 120) (128,)\n",
      "Processing batch 51: (128, 1, 888) (128, 1, 2880) (128, 1, 1, 14, 120) (128, 1, 8, 1, 1, 14, 120) (128, 1, 8, 14, 120) (128,)\n",
      "Processing batch 52: (128, 1, 888) (128, 1, 2880) (128, 1, 1, 14, 120) (128, 1, 8, 1, 1, 14, 120) (128, 1, 8, 14, 120) (128,)\n",
      "Processing batch 53: (128, 1, 888) (128, 1, 2880) (128, 1, 1, 14, 120) (128, 1, 8, 1, 1, 14, 120) (128, 1, 8, 14, 120) (128,)\n",
      "Processing batch 54: (128, 1, 888) (128, 1, 2880) (128, 1, 1, 14, 120) (128, 1, 8, 1, 1, 14, 120) (128, 1, 8, 14, 120) (128,)\n",
      "Processing batch 55: (128, 1, 888) (128, 1, 2880) (128, 1, 1, 14, 120) (128, 1, 8, 1, 1, 14, 120) (128, 1, 8, 14, 120) (128,)\n",
      "Processing batch 56: (128, 1, 888) (128, 1, 2880) (128, 1, 1, 14, 120) (128, 1, 8, 1, 1, 14, 120) (128, 1, 8, 14, 120) (128,)\n",
      "Processing batch 57: (128, 1, 888) (128, 1, 2880) (128, 1, 1, 14, 120) (128, 1, 8, 1, 1, 14, 120) (128, 1, 8, 14, 120) (128,)\n",
      "Processing batch 58: (128, 1, 888) (128, 1, 2880) (128, 1, 1, 14, 120) (128, 1, 8, 1, 1, 14, 120) (128, 1, 8, 14, 120) (128,)\n",
      "Processing batch 59: (128, 1, 888) (128, 1, 2880) (128, 1, 1, 14, 120) (128, 1, 8, 1, 1, 14, 120) (128, 1, 8, 14, 120) (128,)\n",
      "Processing batch 60: (128, 1, 888) (128, 1, 2880) (128, 1, 1, 14, 120) (128, 1, 8, 1, 1, 14, 120) (128, 1, 8, 14, 120) (128,)\n",
      "Processing batch 61: (128, 1, 888) (128, 1, 2880) (128, 1, 1, 14, 120) (128, 1, 8, 1, 1, 14, 120) (128, 1, 8, 14, 120) (128,)\n",
      "Processing batch 62: (128, 1, 888) (128, 1, 2880) (128, 1, 1, 14, 120) (128, 1, 8, 1, 1, 14, 120) (128, 1, 8, 14, 120) (128,)\n",
      "Processing batch 63: (128, 1, 888) (128, 1, 2880) (128, 1, 1, 14, 120) (128, 1, 8, 1, 1, 14, 120) (128, 1, 8, 14, 120) (128,)\n",
      "Processing batch 64: (128, 1, 888) (128, 1, 2880) (128, 1, 1, 14, 120) (128, 1, 8, 1, 1, 14, 120) (128, 1, 8, 14, 120) (128,)\n",
      "Processing batch 65: (128, 1, 888) (128, 1, 2880) (128, 1, 1, 14, 120) (128, 1, 8, 1, 1, 14, 120) (128, 1, 8, 14, 120) (128,)\n",
      "Processing batch 66: (128, 1, 888) (128, 1, 2880) (128, 1, 1, 14, 120) (128, 1, 8, 1, 1, 14, 120) (128, 1, 8, 14, 120) (128,)\n",
      "Processing batch 67: (128, 1, 888) (128, 1, 2880) (128, 1, 1, 14, 120) (128, 1, 8, 1, 1, 14, 120) (128, 1, 8, 14, 120) (128,)\n",
      "Processing batch 68: (128, 1, 888) (128, 1, 2880) (128, 1, 1, 14, 120) (128, 1, 8, 1, 1, 14, 120) (128, 1, 8, 14, 120) (128,)\n"
     ]
    }
   ],
   "source": [
    "for cdl_model in PUSCH_SIMS['cdl']:\n",
    "    for delay_spread in PUSCH_SIMS['delay_spread']:\n",
    "        for speed in PUSCH_SIMS['speed']:\n",
    "\n",
    "            channel_model = CDL(cdl_model, delay_spread, 2.55e9, ut_antenna, bs_array, \"uplink\", min_speed=speed)\n",
    "            channel_dir = f'{data_dir}/CDL{cdl_model}{int(delay_spread*1e9)}-{speed}'\n",
    "            \n",
    "            for n,rbsize in enumerate(PUSCH_SIMS['RBSize']):\n",
    "                for mcs in PUSCH_SIMS['MCS'][n]:\n",
    "                    pusch_config_i = pusch_config.clone()\n",
    "                    pusch_config_i.n_size_bwp = rbsize\n",
    "                    pusch_config_i.tb.mcs_index = mcs\n",
    "                    dir = f'{channel_dir}/MCS_{mcs}-{rbsize}_RBs'\n",
    "                    print(dir)\n",
    "                    model = Generator(pusch_config_i, channel_model, mode=0, dir=dir)\n",
    "                    for batch_num, (b,c,x,h,y,no) in enumerate(model.load(128)):\n",
    "                        print(f\"Processing batch {batch_num + 1}:\", b.shape,c.shape,x.shape,h.shape,y.shape, no.shape)\n",
    "                    "
   ]
  }
 ],
 "metadata": {
  "kernelspec": {
   "display_name": ".venv",
   "language": "python",
   "name": "python3"
  },
  "language_info": {
   "codemirror_mode": {
    "name": "ipython",
    "version": 3
   },
   "file_extension": ".py",
   "mimetype": "text/x-python",
   "name": "python",
   "nbconvert_exporter": "python",
   "pygments_lexer": "ipython3",
   "version": "3.11.9"
  }
 },
 "nbformat": 4,
 "nbformat_minor": 5
}
