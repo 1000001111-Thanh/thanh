{
  "cells": [
    {
      "cell_type": "code",
      "execution_count": 1,
      "metadata": {
        "colab": {
          "base_uri": "https://localhost:8080/"
        },
        "id": "uiswkh5AR5V3",
        "outputId": "07f60711-ea26-4d14-cbe0-7510473cd0a1"
      },
      "outputs": [
        {
          "data": {
            "text/plain": [
              "'Run two below lines to connect to drive'"
            ]
          },
          "execution_count": 1,
          "metadata": {},
          "output_type": "execute_result"
        }
      ],
      "source": [
        "\"\"\"Run two below lines to get my_abc module\"\"\"\n",
        "# !git clone https://github.com/thanhttttt/thanh.git\n",
        "# !pip install -r /content/thanh/requirements.txt\n",
        "\"\"\"Run two below lines to connect to drive\"\"\"\n",
        "# from google.colab import drive\n",
        "# drive.mount('/content/drive')"
      ]
    },
    {
      "cell_type": "markdown",
      "metadata": {},
      "source": [
        "# Import"
      ]
    },
    {
      "cell_type": "code",
      "execution_count": 2,
      "metadata": {
        "id": "PVBTrEZrR4kL"
      },
      "outputs": [],
      "source": [
        "import os\n",
        "if os.getenv(\"CUDA_VISIBLE_DEVICES\") is None:\n",
        "    gpu_num = 0 # Use \"\" to use the CPU\n",
        "    os.environ[\"CUDA_VISIBLE_DEVICES\"] = f\"{gpu_num}\"\n",
        "os.environ['TF_CPP_MIN_LOG_LEVEL'] = '3'\n",
        "\n",
        "\n",
        "import sys\n",
        "sys.path.append('../')\n",
        "sys.path.append('/content/thanh/')\n",
        "sys.path.append('../thanh/')\n",
        "import sionna\n",
        "\n",
        "import tensorflow as tf\n",
        "gpus = tf.config.list_physical_devices('GPU')\n",
        "if gpus:\n",
        "    try:\n",
        "        tf.config.experimental.set_memory_growth(gpus[0], True)\n",
        "    except RuntimeError as e:\n",
        "        print(e)\n",
        "# Avoid warnings from TensorFlow\n",
        "tf.get_logger().setLevel('ERROR')\n",
        "\n",
        "sionna.config.seed = 42 # Set seed for reproducible random number generation\n",
        "\n",
        "# Load the required Sionna components\n",
        "from sionna.nr.my_abc import *"
      ]
    },
    {
      "cell_type": "markdown",
      "metadata": {},
      "source": [
        "# Load model weight"
      ]
    },
    {
      "cell_type": "code",
      "execution_count": 3,
      "metadata": {},
      "outputs": [
        {
          "name": "stdout",
          "output_type": "stream",
          "text": [
            "Model: \"custom_neural_receiver\"\n",
            "_________________________________________________________________\n",
            " Layer (type)                Output Shape              Param #   \n",
            "=================================================================\n",
            " conv2d (Conv2D)             multiple                  20864     \n",
            "                                                                 \n",
            " residual_block (ResidualBl  multiple                  639232    \n",
            " ock)                                                            \n",
            "                                                                 \n",
            " residual_block_1 (Residual  multiple                  639232    \n",
            " Block)                                                          \n",
            "                                                                 \n",
            " residual_block_2 (Residual  multiple                  639232    \n",
            " Block)                                                          \n",
            "                                                                 \n",
            " residual_block_3 (Residual  multiple                  639232    \n",
            " Block)                                                          \n",
            "                                                                 \n",
            " conv2d_1 (Conv2D)           multiple                  2306      \n",
            "                                                                 \n",
            "=================================================================\n",
            "Total params: 2580098 (9.84 MB)\n",
            "Trainable params: 2580098 (9.84 MB)\n",
            "Non-trainable params: 0 (0.00 Byte)\n",
            "_________________________________________________________________\n",
            "Loaded pretrained weights from ../weight_4RB_batchsize_1024_186k_sample_dynamic_config_epoch90.pkl\n"
          ]
        }
      ],
      "source": [
        "_model = CustomNeuralReceiver(training = False)\n",
        "inputs = tf.zeros([1,48,14,18])\n",
        "_model(inputs)\n",
        "_model.summary()\n",
        "\n",
        "#load_weights(_model, '/content/drive/MyDrive/Pusch_data/Model_weights/model_weight_FULL_RB_epoch_40.pkl')\n",
        "# load_weights(_model, '../model_weight_FULL_RB_epoch_40.pkl')\n",
        "load_weights(_model, '../weight_4RB_batchsize_1024_186k_sample_dynamic_config_epoch90.pkl')"
      ]
    },
    {
      "cell_type": "markdown",
      "metadata": {
        "id": "yfT7Ao7seGqP"
      },
      "source": [
        "# Set up config"
      ]
    },
    {
      "cell_type": "code",
      "execution_count": 4,
      "metadata": {},
      "outputs": [],
      "source": [
        "\"\"\"test setup\"\"\"\n",
        "batch_size = 8\n",
        "\n",
        "\"\"\"field config\"\"\"\n",
        "# field_dir = '../data_field/dump_lan3_2dmrs'\n",
        "field_dir = '../data_field/dump_lan2_2dmrs'\n",
        "\n",
        "# field_name = 'dump_pass_sfn_696_sf_4'\n",
        "field_name = 'dump_fail_sfn_525_sf_15'\n",
        "\n",
        "\"\"\"channel setup\"\"\"\n",
        "no = 2.\n",
        "CDL_model = 'A'\n",
        "delay_spread = 50\n",
        "speed = 1"
      ]
    },
    {
      "cell_type": "markdown",
      "metadata": {},
      "source": [
        "## create channel"
      ]
    },
    {
      "cell_type": "code",
      "execution_count": 5,
      "metadata": {},
      "outputs": [],
      "source": [
        "channel_model = CDL(model = CDL_model,\n",
        "                            delay_spread = delay_spread*1e-9,\n",
        "                            carrier_frequency = CARRIER_FREQUENCY,\n",
        "                            ut_array = Ue_Antenna,\n",
        "                            bs_array = Gnb_AntennaArray,\n",
        "                            direction = 'uplink',\n",
        "                            min_speed = speed,\n",
        "                            max_speed = speed)"
      ]
    },
    {
      "cell_type": "markdown",
      "metadata": {},
      "source": [
        "## Set field config"
      ]
    },
    {
      "cell_type": "code",
      "execution_count": 6,
      "metadata": {},
      "outputs": [],
      "source": [
        "cfg_path = f'{field_dir}/{field_name}_cfg.txt'\n",
        "data_path = f'{field_dir}/{field_name}_freq.bin'"
      ]
    },
    {
      "cell_type": "code",
      "execution_count": 7,
      "metadata": {},
      "outputs": [],
      "source": [
        "caseInfo, sysInfo, ueInfo, chcfg, auxInfo = config_parser(cfg_path)\n",
        "freqIQ = data_reader(data_path, (sysInfo['NRxAnt'], 14, sysInfo['BwpNRb']*12))\n",
        "ueIQ = tf.constant(freqIQ[None, None, :, :, ueInfo[0]['FirstPrb']*12:(ueInfo[0]['NPrb'] + ueInfo[0]['FirstPrb'])*12])"
      ]
    },
    {
      "cell_type": "code",
      "execution_count": 8,
      "metadata": {},
      "outputs": [],
      "source": [
        "sysCfg = SystemConfig(**sysInfo)\n",
        "ueCfg = UeConfig(**ueInfo[0])\n",
        "myCfg = MyConfig(sysCfg, [ueCfg])\n",
        "puschCfg = MyPUSCHConfig(myCfg, slot_number=caseInfo['sf'], frame_number=caseInfo['sfn'])\n",
        "# puschCfg.show() # uncomment for detail"
      ]
    },
    {
      "cell_type": "code",
      "execution_count": 9,
      "metadata": {},
      "outputs": [],
      "source": [
        "simulator = MySimulator(puschCfg)\n",
        "channel = OFDMChannel(channel_model=channel_model, resource_grid=simulator.resource_grid,\n",
        "                                    add_awgn=False, normalize_channel=True, return_channel=True)"
      ]
    },
    {
      "cell_type": "code",
      "execution_count": 10,
      "metadata": {},
      "outputs": [],
      "source": [
        "b, c, y, x ,h = simulator.sim(batch_size, channel, no, return_tx_iq=True, return_channel=True)\n",
        "r = simulator.ref(batch_size)"
      ]
    },
    {
      "cell_type": "markdown",
      "metadata": {},
      "source": [
        "# Evaluate"
      ]
    },
    {
      "cell_type": "markdown",
      "metadata": {},
      "source": [
        "## Eval on sim data"
      ]
    },
    {
      "cell_type": "code",
      "execution_count": 11,
      "metadata": {},
      "outputs": [
        {
          "data": {
            "text/plain": [
              "(TensorShape([8, 1, 8, 14, 1680]), TensorShape([8, 1, 1, 14, 1680]))"
            ]
          },
          "execution_count": 11,
          "metadata": {},
          "output_type": "execute_result"
        }
      ],
      "source": [
        "y.shape, r.shape"
      ]
    },
    {
      "cell_type": "code",
      "execution_count": 12,
      "metadata": {},
      "outputs": [
        {
          "name": "stderr",
          "output_type": "stream",
          "text": [
            "WARNING: All log messages before absl::InitializeLog() is called are written to STDERR\n",
            "I0000 00:00:1742351947.045696   29337 device_compiler.h:186] Compiled cluster using XLA!  This line is logged at most once for the lifetime of the process.\n"
          ]
        },
        {
          "data": {
            "text/plain": [
              "(<tf.Tensor: shape=(), dtype=float64, numpy=0.0>,\n",
              " <tf.Tensor: shape=(8, 1), dtype=bool, numpy=\n",
              " array([[ True],\n",
              "        [ True],\n",
              "        [ True],\n",
              "        [ True],\n",
              "        [ True],\n",
              "        [ True],\n",
              "        [ True],\n",
              "        [ True]])>)"
            ]
          },
          "execution_count": 12,
          "metadata": {},
          "output_type": "execute_result"
        }
      ],
      "source": [
        "\"\"\"Evaluate\"\"\"\n",
        "preds = predict(_model, y, r)\n",
        "c_pred = tf.reshape(preds, [preds.shape[0], 1, c.shape[-1]])\n",
        "b_hat, crc = simulator.TB_Decode(c_pred)\n",
        "# loss_cal(c_pred, c)\n",
        "compute_ber(b, b_hat), crc"
      ]
    },
    {
      "cell_type": "code",
      "execution_count": 13,
      "metadata": {},
      "outputs": [
        {
          "data": {
            "text/plain": [
              "(<tf.Tensor: shape=(), dtype=float64, numpy=0.11233786730945822>,\n",
              " <tf.Tensor: shape=(8, 1), dtype=bool, numpy=\n",
              " array([[False],\n",
              "        [False],\n",
              "        [False],\n",
              "        [False],\n",
              "        [False],\n",
              "        [False],\n",
              "        [False],\n",
              "        [False]])>)"
            ]
          },
          "execution_count": 13,
          "metadata": {},
          "output_type": "execute_result"
        }
      ],
      "source": [
        "h_est, x_hat, llr_det, b_hat, crc = simulator.rec(y)\n",
        "compute_ber(b, b_hat), crc"
      ]
    },
    {
      "cell_type": "markdown",
      "metadata": {},
      "source": [
        "## Eval on field data"
      ]
    },
    {
      "cell_type": "code",
      "execution_count": 28,
      "metadata": {},
      "outputs": [
        {
          "data": {
            "text/plain": [
              "<tf.Tensor: shape=(1, 1), dtype=bool, numpy=array([[ True]])>"
            ]
          },
          "execution_count": 28,
          "metadata": {},
          "output_type": "execute_result"
        }
      ],
      "source": [
        "h_est, x_hat, llr_det, b_hat, crc_1 = simulator.rec(ueIQ)\n",
        "if crc_1:\n",
        "    b_rec = b_hat\n",
        "    c_rec = simulator.TB_Encoder(b_rec)\n",
        "crc_1"
      ]
    },
    {
      "cell_type": "code",
      "execution_count": 29,
      "metadata": {},
      "outputs": [
        {
          "data": {
            "text/plain": [
              "8672.0"
            ]
          },
          "execution_count": 29,
          "metadata": {},
          "output_type": "execute_result"
        }
      ],
      "source": [
        "np.sum(b_hat)"
      ]
    },
    {
      "cell_type": "code",
      "execution_count": 35,
      "metadata": {},
      "outputs": [
        {
          "data": {
            "text/plain": [
              "<tf.Tensor: shape=(1, 1, 1, 12), dtype=float32, numpy=\n",
              "array([[[[-1328.7639, -1297.9176,  1398.7656,  1271.8197,  1569.591 ,\n",
              "          -1551.1521,  1430.6047, -1410.9545, -1357.2728,  1682.3329,\n",
              "           1497.721 ,  1358.4891]]]], dtype=float32)>"
            ]
          },
          "execution_count": 35,
          "metadata": {},
          "output_type": "execute_result"
        }
      ],
      "source": [
        "llr_det[...,:12]"
      ]
    },
    {
      "cell_type": "code",
      "execution_count": null,
      "metadata": {},
      "outputs": [],
      "source": [
        "# import scipy\n",
        "# scipy.io.savemat('decode_vectors.mat', {'scbSoftBits':llr_det[0,0]})"
      ]
    },
    {
      "cell_type": "code",
      "execution_count": 32,
      "metadata": {},
      "outputs": [
        {
          "name": "stdout",
          "output_type": "stream",
          "text": [
            "tf.Tensor(0.2466464, shape=(), dtype=float32) tf.Tensor(0.014003673094582185, shape=(), dtype=float64)\n"
          ]
        },
        {
          "data": {
            "text/plain": [
              "<tf.Tensor: shape=(1, 1), dtype=bool, numpy=array([[False]])>"
            ]
          },
          "execution_count": 32,
          "metadata": {},
          "output_type": "execute_result"
        }
      ],
      "source": [
        "\"\"\"Evaluate\"\"\"\n",
        "preds = predict(_model, ueIQ, r[0:1])\n",
        "c_pred = tf.reshape(preds, [preds.shape[0], 1, c.shape[-1]])\n",
        "b_hat, crc_2 = simulator.TB_Decode(c_pred) \n",
        "if crc_1:\n",
        "    print(loss_cal(c_pred, c_rec), compute_ber(b_hat, b_rec))\n",
        "crc_2"
      ]
    }
  ],
  "metadata": {
    "colab": {
      "provenance": []
    },
    "kernelspec": {
      "display_name": ".venv",
      "language": "python",
      "name": "python3"
    },
    "language_info": {
      "codemirror_mode": {
        "name": "ipython",
        "version": 3
      },
      "file_extension": ".py",
      "mimetype": "text/x-python",
      "name": "python",
      "nbconvert_exporter": "python",
      "pygments_lexer": "ipython3",
      "version": "3.11.9"
    }
  },
  "nbformat": 4,
  "nbformat_minor": 0
}
